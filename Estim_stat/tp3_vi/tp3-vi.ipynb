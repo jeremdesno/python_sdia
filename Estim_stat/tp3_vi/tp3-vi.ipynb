{
 "cells": [
  {
   "cell_type": "markdown",
   "id": "b1296a3d",
   "metadata": {},
   "source": [
    "# TP3 - *Latent Dirichlet Allocation* et Inférence variationnelle \n",
    "\n",
    "## Estimation avancée - G3 SDIA\n",
    "\n",
    "Dans ce TP, on s'intéresse à la méthode \"inférence variationnelle\" (VI) qui permet d'approcher la loi a posteriori d'un modèle (généralement inconnue) par une autre loi plus simple (généralement un produit de lois bien connues). Nous allons l'appliquer à un modèle probabiliste pour des données textuelles, appelé *Latent Dirichlet Allocation* (LDA, qui n'a rien à voir avec la LDA *Linear Discriminant Analysis* du cours de ML).\n",
    "\n",
    "### Instructions\n",
    "\n",
    "1. Renommer votre notebook sous la forme `tp3_Nom1_Nom2.ipynb`, et inclure le nom du binôme dans le notebook. \n",
    "\n",
    "2. Votre code, ainsi que toute sortie du code, doivent être commentés !\n",
    "\n",
    "3. Déposer votre notebook sur Moodle dans la section prévue à cet effet avant la date limite : 23 Décembre 2023, 23h59."
   ]
  },
  {
   "cell_type": "code",
   "execution_count": 1,
   "id": "85d382bf",
   "metadata": {},
   "outputs": [],
   "source": [
    "import numpy as np\n",
    "from matplotlib import pyplot as plt\n",
    "import pickle as pkl\n",
    "import scipy as ss"
   ]
  },
  {
   "cell_type": "markdown",
   "id": "22423210",
   "metadata": {},
   "source": [
    "### Partie 0 - Introduction\n",
    "\n",
    "LDA is a popular probabilistic model for text data, introducted in [Blei et al. (2003)](https://www.jmlr.org/papers/volume3/blei03a/blei03a.pdf). In this model, the posterior distribution is intractable, and we choose to resort to variational inference (note that a Gibbs sampler would be feasible as well, but would be very slow). In particular, the CAVI updates can be easily derived.\n",
    "\n",
    "In a few words, in LDA, each document is a mixture of topics, and each topic is a mixture of words. Uncovering those is the goal of *topic modeling*, and this is what we are going to do today. We will be using a collection of abstracts of papers published in JMLR (*Journal of Machine Learning Research*), one of the most prominent journals of the field.\n",
    "\n",
    "**Check the .pdf file describing the model.**\n",
    "The posterior is :\n",
    "$$p(\\boldsymbol{\\beta}, \\boldsymbol{\\theta}, \\mathbf{z} | \\mathcal{D}),$$\n",
    "which we are going to approximate in the following way :\n",
    "$$\\simeq \\left[ \\prod_{k=1}^K q(\\beta_k) \\right] \\left[ \\prod_{d=1}^D q(\\theta_d) \\right] \\left[ \\prod_{d=1}^D \\prod_{n=1}^{N_d} q(z_{dn}) \\right], $$\n",
    "with :\n",
    "* $q(\\beta_k)$ a Dirichlet distribution (of size V) with parameter $[\\lambda_{k1}, ...,\\lambda_{kV}]$\n",
    "* $q(\\gamma_d)$ a Dirichlet distribution (of size K) with parameter $[\\gamma_{d1}, ...,\\gamma_{dK}]$\n",
    "* $q(z_{dn})$ a Multinomial distribution (of size K) with parameter $[\\phi_{dn1}, ..., \\phi_{dnK}]$\n",
    "\n",
    "The updates are as follows :\n",
    "* $$\\lambda_{kv} = \\eta + \\sum_{d=1}^D \\sum_{n=1}^{N_d} w_{dnv} \\phi_{dnk} $$\n",
    "* $$\\gamma_{dk} = \\alpha + \\sum_{n=1}^{N_d} \\phi_{dnk}$$\n",
    "* $$ \\phi_{dnk} \\propto \\exp \\left( \\Psi(\\gamma_{dk}) + \\Psi(\\lambda_{k, w_{dn}}) - \\Psi(\\sum_{v=1}^V \\lambda_{kv}) \\right)$$\n",
    "\n",
    "$\\Psi$ is the digamma function, use `scipy.special.digamma`."
   ]
  },
  {
   "cell_type": "markdown",
   "id": "c059097f",
   "metadata": {},
   "source": [
    "### Partie 1 - Les données"
   ]
  },
  {
   "cell_type": "markdown",
   "id": "40bf0e5b",
   "metadata": {},
   "source": [
    "The data is already prepared, see code below. We have a total of 1898 abstracts."
   ]
  },
  {
   "cell_type": "code",
   "execution_count": 2,
   "id": "41348f31",
   "metadata": {},
   "outputs": [],
   "source": [
    "jmlr_papers = pkl.load(open(\"jmlr.pkl\",\"rb\"))"
   ]
  },
  {
   "cell_type": "markdown",
   "id": "f0694906",
   "metadata": {},
   "source": [
    "**Q1.** Fill in a list of keywords from the course, to see how many papers are about probabilistic ML."
   ]
  },
  {
   "cell_type": "code",
   "execution_count": 3,
   "id": "321a5acc",
   "metadata": {},
   "outputs": [
    {
     "name": "stdout",
     "output_type": "stream",
     "text": [
      "There are 467 Bayesian papers out of 1898\n"
     ]
    }
   ],
   "source": [
    "bayesian_jmlr_papers = []\n",
    "\n",
    "for paper in jmlr_papers:\n",
    "    bayesian_keywords = [\"prior\", \"posterior\", \"likelihood\", \"MAP\",\"Bayes\"]\n",
    "    if any([kwd in paper[\"abstract\"] for kwd in bayesian_keywords]):\n",
    "        bayesian_jmlr_papers.append(paper)\n",
    "        \n",
    "print(\"There are\", str(len(bayesian_jmlr_papers))+\" Bayesian papers out of\", str(len(jmlr_papers)))"
   ]
  },
  {
   "cell_type": "markdown",
   "id": "7a047cf9",
   "metadata": {},
   "source": [
    "Let us now preprocess the data. It is important to remove so-called \"stop-words\" like a, is, but, the, of, have... Scikit-learn will do the job for us. We will keep only the top-1000 words from the abstracts.\n",
    "\n",
    "As a result, we get the count matrix $\\mathbf{C}$ of size $D = 1898 \\times V = 1000$. $c_{dv}$ is the number of occurrences of word $v$ in document $d$. This compact representation is called \"bag-of-words\". Of course from $\\mathbf{C}$ you easily recover the words, since in LDA the order does not matter."
   ]
  },
  {
   "cell_type": "code",
   "execution_count": 4,
   "id": "855d2359",
   "metadata": {},
   "outputs": [
    {
     "name": "stdout",
     "output_type": "stream",
     "text": [
      "['100' '16' '17' '18' '949' '_blank' 'ability' 'able' 'abs' 'according'\n",
      " 'account' 'accuracy' 'accurate' 'achieve' 'achieved' 'achieves' 'action'\n",
      " 'actions' 'active' 'adaboost' 'adaptive' 'addition' 'additional'\n",
      " 'additive' 'address' 'advantage' 'advantages' 'agent' 'aggregation' 'al'\n",
      " 'algorithm' 'algorithmic' 'algorithms' 'allow' 'allowing' 'allows'\n",
      " 'alternative' 'analysis' 'analyze' 'applicable' 'application'\n",
      " 'applications' 'applied' 'apply' 'applying' 'approach' 'approaches'\n",
      " 'appropriate' 'approximate' 'approximately' 'approximation'\n",
      " 'approximations' 'arbitrary' 'art' 'article' 'artificial' 'associated'\n",
      " 'assume' 'assumed' 'assumption' 'assumptions' 'asymptotic'\n",
      " 'asymptotically' 'attributes' 'available' 'average' 'averaging' 'bandit'\n",
      " 'base' 'based' 'basic' 'basis' 'batch' 'bayes' 'bayesian' 'behavior'\n",
      " 'belief' 'benchmark' 'best' 'better' 'bias' 'bib' 'binary' 'block'\n",
      " 'boosting' 'bound' 'bounded' 'bounds' 'br' 'build' 'building' 'called'\n",
      " 'capture' 'carlo' 'case' 'cases' 'causal' 'central' 'certain' 'chain'\n",
      " 'challenge' 'challenging' 'characterization' 'characterize' 'choice'\n",
      " 'chosen' 'class' 'classes' 'classical' 'classification' 'classifier'\n",
      " 'classifiers' 'close' 'closed' 'cluster' 'clustering' 'clusters' 'code'\n",
      " 'coding' 'coefficient' 'coefficients' 'collection' 'color' 'com'\n",
      " 'combination' 'combine' 'combined' 'combining' 'common' 'commonly'\n",
      " 'community' 'comparable' 'compare' 'compared' 'comparing' 'comparison'\n",
      " 'comparisons' 'competitive' 'complete' 'complex' 'complexity' 'component'\n",
      " 'components' 'compression' 'computation' 'computational'\n",
      " 'computationally' 'compute' 'computed' 'computer' 'computing' 'concept'\n",
      " 'concepts' 'condition' 'conditional' 'conditions' 'confidence' 'consider'\n",
      " 'considered' 'consistency' 'consistent' 'consists' 'constant'\n",
      " 'constrained' 'constraint' 'constraints' 'construct' 'constructing'\n",
      " 'construction' 'context' 'continuous' 'contrast' 'contribution' 'control'\n",
      " 'converge' 'convergence' 'convex' 'core' 'correct' 'correlation'\n",
      " 'corresponding' 'cost' 'costs' 'covariance' 'criteria' 'criterion'\n",
      " 'cross' 'current' 'curve' 'dag' 'data' 'datasets' 'deal' 'decision'\n",
      " 'decomposition' 'deep' 'define' 'defined' 'definite' 'degree'\n",
      " 'demonstrate' 'demonstrated' 'density' 'dependence' 'dependencies'\n",
      " 'dependent' 'depends' 'derive' 'derived' 'descent' 'described'\n",
      " 'describes' 'design' 'designed' 'detection' 'determine' 'deterministic'\n",
      " 'develop' 'developed' 'dictionary' 'difference' 'differences' 'different'\n",
      " 'difficult' 'dimension' 'dimensional' 'dimensionality' 'dimensions'\n",
      " 'direct' 'directed' 'direction' 'directly' 'dirichlet' 'discovery'\n",
      " 'discrete' 'discriminant' 'discriminative' 'discuss' 'discussed'\n",
      " 'distance' 'distances' 'distributed' 'distribution' 'distributions'\n",
      " 'divergence' 'document' 'does' 'domain' 'domains' 'dual' 'dynamic'\n",
      " 'dynamics' 'easily' 'easy' 'edges' 'effect' 'effective' 'effectiveness'\n",
      " 'effects' 'efficiency' 'efficient' 'efficiently' 'elements' 'ell_1' 'em'\n",
      " 'embedding' 'empirical' 'empirically' 'enables' 'end' 'ensemble'\n",
      " 'entries' 'entropy' 'environment' 'epsilon' 'equivalence' 'equivalent'\n",
      " 'error' 'errors' 'especially' 'establish' 'established' 'estimate'\n",
      " 'estimated' 'estimates' 'estimating' 'estimation' 'estimator'\n",
      " 'estimators' 'et' 'euclidean' 'evaluate' 'evaluated' 'evaluation'\n",
      " 'evidence' 'exact' 'example' 'examples' 'exist' 'existence' 'existing'\n",
      " 'exists' 'expectation' 'expected' 'experimental' 'experiments' 'expert'\n",
      " 'experts' 'explicit' 'explicitly' 'exploit' 'exploiting' 'exploration'\n",
      " 'explore' 'exponential' 'expression' 'extend' 'extended' 'extension'\n",
      " 'extensions' 'extensive' 'fact' 'factor' 'factorization' 'factors'\n",
      " 'families' 'family' 'fast' 'faster' 'feature' 'features' 'field' 'fields'\n",
      " 'filtering' 'finally' 'finding' 'finite' 'fisher' 'fit' 'fitting' 'fixed'\n",
      " 'flexible' 'focus' 'following' 'font' 'form' 'formulation' 'formulations'\n",
      " 'framework' 'free' 'fully' 'function' 'functional' 'functions'\n",
      " 'fundamental' 'furthermore' 'future' 'games' 'gap' 'gaussian' 'gene'\n",
      " 'general' 'generalization' 'generalize' 'generalized' 'generally'\n",
      " 'generated' 'generating' 'generative' 'generic' 'geometric' 'geometry'\n",
      " 'github' 'given' 'gives' 'global' 'goal' 'good' 'gp' 'gradient' 'graph'\n",
      " 'graphical' 'graphs' 'gray' 'greedy' 'group' 'groups' 'guarantee'\n",
      " 'guarantees' 'hand' 'handle' 'hard' 'help' 'hidden' 'hierarchical' 'high'\n",
      " 'higher' 'highly' 'hilbert' 'hold' 'href' 'http' 'human' 'hypotheses'\n",
      " 'hypothesis' 'ica' 'idea' 'identify' 'identifying' 'ii' 'illustrate'\n",
      " 'image' 'images' 'implement' 'implementation' 'implementations'\n",
      " 'implemented' 'importance' 'important' 'improve' 'improved' 'improvement'\n",
      " 'improvements' 'improves' 'improving' 'include' 'includes' 'including'\n",
      " 'increasing' 'independence' 'independent' 'index' 'indicate' 'individual'\n",
      " 'induced' 'inference' 'infinite' 'influence' 'information' 'input'\n",
      " 'inputs' 'instance' 'instances' 'instead' 'interactions' 'interesting'\n",
      " 'interpretation' 'inthe' 'intractable' 'introduce' 'introduced'\n",
      " 'introduces' 'invariant' 'inverse' 'investigate' 'involves' 'involving'\n",
      " 'issue' 'issues' 'items' 'iteration' 'iterations' 'iterative' 'joint'\n",
      " 'kernel' 'kernels' 'key' 'knowledge' 'known' 'label' 'labeled' 'labels'\n",
      " 'lambda' 'language' 'large' 'larger' 'lasso' 'latent' 'layer' 'lead'\n",
      " 'leading' 'leads' 'learn' 'learned' 'learner' 'learners' 'learning'\n",
      " 'learns' 'level' 'li' 'library' 'like' 'likelihood' 'limit' 'limited'\n",
      " 'line' 'linear' 'linearly' 'literature' 'local' 'locally' 'log'\n",
      " 'logarithmic' 'logistic' 'long' 'loss' 'losses' 'low' 'lower' 'machine'\n",
      " 'machines' 'magnitude' 'main' 'make' 'makes' 'making' 'manifold' 'manner'\n",
      " 'map' 'margin' 'marginal' 'markov' 'match' 'matching' 'mathbb' 'mathcal'\n",
      " 'matlab' 'matrices' 'matrix' 'max' 'maximization' 'maximum' 'mcmc' 'mean'\n",
      " 'means' 'measure' 'measurements' 'measures' 'memory' 'message' 'method'\n",
      " 'methodology' 'methods' 'metric' 'minimal' 'minimax' 'minimization'\n",
      " 'minimize' 'minimizing' 'minimum' 'mining' 'missing' 'mixed' 'mixture'\n",
      " 'mixtures' 'model' 'modeling' 'models' 'monte' 'motivated' 'multi'\n",
      " 'multiclass' 'multiple' 'multivariate' 'mutual' 'naive' 'natural'\n",
      " 'naturally' 'nature' 'nbsp' 'near' 'nearest' 'necessary' 'need' 'needed'\n",
      " 'negative' 'neighbor' 'network' 'networks' 'neural' 'new' 'node' 'nodes'\n",
      " 'noise' 'noisy' 'non' 'nonlinear' 'nonparametric' 'norm' 'normal' 'norms'\n",
      " 'notion' 'novel' 'np' 'number' 'numbers' 'numerical' 'object' 'objective'\n",
      " 'objects' 'observation' 'observations' 'observed' 'obtain' 'obtained'\n",
      " 'obtaining' 'offers' 'ofthe' 'ones' 'online' 'onthe' 'open' 'operator'\n",
      " 'optimal' 'optimality' 'optimization' 'oracle' 'order' 'original'\n",
      " 'outperform' 'outperforms' 'output' 'outputs' 'overall' 'pac' 'package'\n",
      " 'pair' 'pairs' 'pairwise' 'paper' 'papers' 'parallel' 'parameter'\n",
      " 'parameters' 'parametric' 'partial' 'particular' 'particularly'\n",
      " 'partition' 'path' 'pattern' 'patterns' 'pca' 'pdf' 'penalized' 'penalty'\n",
      " 'perform' 'performance' 'performed' 'performs' 'perspective' 'phase'\n",
      " 'point' 'points' 'policies' 'policy' 'polynomial' 'popular' 'population'\n",
      " 'positive' 'possible' 'posterior' 'potential' 'power' 'powerful'\n",
      " 'practical' 'practice' 'precision' 'predict' 'predicting' 'prediction'\n",
      " 'predictions' 'predictive' 'predictor' 'predictors' 'presence' 'present'\n",
      " 'presented' 'presents' 'previous' 'previously' 'principal' 'principle'\n",
      " 'prior' 'priors' 'privacy' 'probabilistic' 'probabilities' 'probability'\n",
      " 'problem' 'problems' 'procedure' 'procedures' 'process' 'processes'\n",
      " 'processing' 'produce' 'product' 'program' 'programming' 'projection'\n",
      " 'propagation' 'properties' 'property' 'propose' 'proposed' 'provably'\n",
      " 'prove' 'provide' 'provided' 'provides' 'providing' 'purpose' 'python'\n",
      " 'quadratic' 'quality' 'queries' 'question' 'random' 'randomized' 'range'\n",
      " 'rank' 'ranking' 'rate' 'rates' 'real' 'recent' 'recently' 'recognition'\n",
      " 'recovery' 'reduce' 'reduced' 'reduces' 'reduction' 'regression' 'regret'\n",
      " 'regularization' 'regularized' 'reinforcement' 'related' 'relations'\n",
      " 'relationship' 'relationships' 'relative' 'relatively' 'relaxation'\n",
      " 'relevant' 'relies' 'rely' 'represent' 'representation' 'representations'\n",
      " 'represented' 'reproducing' 'require' 'required' 'requires' 'research'\n",
      " 'respect' 'response' 'restricted' 'result' 'resulting' 'results' 'reward'\n",
      " 'right' 'risk' 'rkhs' 'robust' 'robustness' 'role' 'rule' 'rules' 'run'\n",
      " 'running' 'sample' 'sampled' 'samples' 'sampling' 'scalable' 'scale'\n",
      " 'scales' 'scenarios' 'scheme' 'schemes' 'score' 'scoring' 'search'\n",
      " 'second' 'select' 'selection' 'semi' 'sense' 'sensitive' 'separation'\n",
      " 'sequence' 'sequences' 'sequential' 'series' 'set' 'sets' 'setting'\n",
      " 'settings' 'sgd' 'short' 'showing' 'shown' 'shows' 'showthat' 'signal'\n",
      " 'signals' 'significant' 'significantly' 'similar' 'similarity' 'simple'\n",
      " 'simulated' 'simulation' 'simulations' 'simultaneously' 'single'\n",
      " 'situations' 'size' 'sizes' 'small' 'smaller' 'smooth' 'social' 'soft'\n",
      " 'software' 'solution' 'solutions' 'solve' 'solved' 'solving' 'source'\n",
      " 'sources' 'space' 'spaces' 'sparse' 'sparsity' 'special' 'specific'\n",
      " 'specifically' 'specified' 'spectral' 'speed' 'squared' 'squares'\n",
      " 'stability' 'stable' 'stage' 'standard' 'state' 'stationary'\n",
      " 'statistical' 'statistics' 'step' 'steps' 'stochastic' 'strategies'\n",
      " 'strategy' 'strong' 'strongly' 'structural' 'structure' 'structured'\n",
      " 'structures' 'studied' 'studies' 'study' 'sub' 'subset' 'subsets'\n",
      " 'subspace' 'success' 'successfully' 'sufficient' 'suggest' 'suitable'\n",
      " 'sum' 'sup' 'supervised' 'support' 'surrogate' 'svm' 'svms' 'symmetric'\n",
      " 'synthetic' 'systems' 'table' 'takes' 'target' 'task' 'tasks' 'tdalign'\n",
      " 'technique' 'techniques' 'temporal' 'tensor' 'term' 'terms' 'test'\n",
      " 'testing' 'tests' 'text' 'thatthe' 'theorem' 'theoretic' 'theoretical'\n",
      " 'theoretically' 'theory' 'thispaper' 'threshold' 'tight' 'time' 'times'\n",
      " 'tool' 'toolbox' 'tools' 'topic' 'total' 'tr' 'tractable' 'trade'\n",
      " 'traditional' 'trained' 'training' 'transfer' 'treatment' 'tree' 'trees'\n",
      " 'true' 'type' 'types' 'typically' 'uncertainty' 'underlying'\n",
      " 'understanding' 'unified' 'uniform' 'universal' 'unknown' 'unlabeled'\n",
      " 'unlike' 'unsupervised' 'update' 'updates' 'upper' 'use' 'used' 'useful'\n",
      " 'usefulness' 'user' 'users' 'uses' 'using' 'usually' 'utility' 'v19'\n",
      " 'validation' 'value' 'valued' 'values' 'variable' 'variables' 'variance'\n",
      " 'variant' 'variants' 'variational' 'variety' 'various' 'varying' 'vector'\n",
      " 'vectors' 'version' 'versions' 'view' 'viewed' 'volume19' 'walk' 'way'\n",
      " 'weak' 'web' 'weight' 'weighted' 'weights' 'weshow' 'wide' 'widely'\n",
      " 'width' 'word' 'words' 'work' 'works' 'world' 'worst' 'years' 'yields'\n",
      " 'zero']\n"
     ]
    }
   ],
   "source": [
    "from sklearn.feature_extraction.text import CountVectorizer\n",
    "\n",
    "vectorizer = CountVectorizer(max_features = 1000, stop_words='english')\n",
    "X = vectorizer.fit_transform([paper[\"abstract\"] for paper in jmlr_papers])\n",
    "print(vectorizer.get_feature_names_out()) # Top-1000 words\n",
    "C = X.toarray() # Count matrix\n",
    "\n",
    "# Removing documents with 0 words\n",
    "idx = np.where(np.sum(C, axis = 1)==0)\n",
    "C = np.delete(C, idx, axis = 0)"
   ]
  },
  {
   "cell_type": "markdown",
   "id": "447e3267",
   "metadata": {},
   "source": [
    "**Q2.** How many elements of $\\mathbf{C}$ are non-zero ? Is this surprising ?"
   ]
  },
  {
   "cell_type": "code",
   "execution_count": 5,
   "id": "1c9b9ecb",
   "metadata": {},
   "outputs": [
    {
     "data": {
      "text/plain": [
       "(1895, 1000)"
      ]
     },
     "execution_count": 5,
     "metadata": {},
     "output_type": "execute_result"
    }
   ],
   "source": [
    "C.shape"
   ]
  },
  {
   "cell_type": "markdown",
   "id": "bba38e64",
   "metadata": {},
   "source": [
    "Only 3 documents have been removed out of the 1898. It makes sense since these are theoretical papers which contain a lot of scientifique and specifique terms and we should have at least one of the 1000 most pertinent terms in each document. \n",
    "The vocabulary in this corpus of texts is very rich as such it's not suprising that there's more than 1000 words used in these documents which aren't stop words."
   ]
  },
  {
   "cell_type": "markdown",
   "id": "72726d44",
   "metadata": {},
   "source": [
    "### Partie 2 - Inférence variationnelle"
   ]
  },
  {
   "cell_type": "markdown",
   "id": "0ada0b7f",
   "metadata": {},
   "source": [
    "As you know from the lecture, VI aims at maximizing the ELBO. I have prepared for you the function to compute the ELBO."
   ]
  },
  {
   "cell_type": "code",
   "execution_count": 6,
   "id": "4cb1f3a1",
   "metadata": {},
   "outputs": [],
   "source": [
    "from scipy.special import digamma, loggamma\n",
    "\n",
    "def ELBO(L, G, phi, a, e, W):\n",
    "    # Computes the ELBO with the values of the parameters L (Lambda), G (Gamma), and Phi\n",
    "    # a, e are hyperparameters (alpha and eta)\n",
    "    # W are the words (obsereved)\n",
    "    \n",
    "    # L - K x V matrix (variational parameters Lambda)\n",
    "    # G - D x K matrix (variational parameters Gamma)\n",
    "    # phi - List of D elements, each element is a Nd x K matrix (variational parameters Phi)\n",
    "    # a - Scalar > 0 (hyperparameter alpha)\n",
    "    # e - Scalar > 0 (hyperparameter eta)\n",
    "    # W - List of D elements, each element is a Nd x V matrix (observed words)\n",
    "    \n",
    "    e_log_B = (digamma(L).T - digamma(np.sum(L, axis = 1))).T\n",
    "    e_log_T = (digamma(G).T - digamma(np.sum(G, axis = 1))).T\n",
    "    \n",
    "    t1 = (e-1)*np.sum(e_log_B)\n",
    "    t2 = (a-1)*np.sum(e_log_T)\n",
    "\n",
    "    phi_s = np.zeros((D,K))\n",
    "    for d in range(0,D):\n",
    "        phi_s[d,:] = np.sum(phi[d], axis = 0)\n",
    "    t3 = np.sum(e_log_T*phi_s)\n",
    "    \n",
    "    tmp = np.zeros((K,V))\n",
    "    for d in range(0,D):\n",
    "        tmp = tmp + np.dot(phi[d].T, W[d])\n",
    "    t4 = np.sum(e_log_B*tmp)\n",
    "    \n",
    "    t5 = np.sum(loggamma(np.sum(L, axis = 1))) - np.sum(loggamma(L)) + np.sum((L-1)*e_log_B)\n",
    "    t6 = np.sum(loggamma(np.sum(G, axis = 1))) - np.sum(loggamma(G)) + np.sum((G-1)*e_log_T)\n",
    "\n",
    "    t7 = 0\n",
    "    for d in range(0,D):\n",
    "        t7 = t7 + np.sum(phi[d]*np.log(phi[d] + np.spacing(1)))\n",
    "\n",
    "    return t1 + t2 + t3 + t4 - t5 - t6 - t7"
   ]
  },
  {
   "cell_type": "markdown",
   "id": "2dfc0302",
   "metadata": {},
   "source": [
    "**Q1.** Transform the matrix $\\mathbf{C}$ into the observed words $\\mathbf{w}$. $\\mathbf{w}$ should be a list of $D$ elements, each element of the list being a $N_d \\times V$ matrix."
   ]
  },
  {
   "cell_type": "code",
   "execution_count": 7,
   "id": "bf794ed3",
   "metadata": {},
   "outputs": [],
   "source": [
    "W = []\n",
    "# On itére sur les documents \n",
    "for i in range(C.shape[0]):\n",
    "    # On initialise la matrice de taille Nd x V\n",
    "    doc = np.zeros(((C[i]).sum(),C.shape[1]))\n",
    "    # k compteur pour les lignes qui va aller de 1 à Nd\n",
    "    k = 0\n",
    "    for j in range(doc.shape[1]):\n",
    "        if C[i,j] != 0:\n",
    "            # Les C[i,j] lignes suivantes seront identiques avec un 1 en j et 0 sinon\n",
    "            for counts in range(C[i,j]):\n",
    "                doc[k+counts,j] = 1\n",
    "            k += C[i,j]\n",
    "    W.append(doc)"
   ]
  },
  {
   "cell_type": "markdown",
   "id": "49c0aa3d",
   "metadata": {},
   "source": [
    "**Q2.** Implement the CAVI algorithm. The updates are given at the beginning of the notebook. Monitor the convergence with the values of the ELBO (but start with a fixed number of iterations, like 50)."
   ]
  },
  {
   "cell_type": "markdown",
   "id": "35664524",
   "metadata": {},
   "source": [
    "* $$\\lambda_{kv} = \\eta + \\sum_{d=1}^D \\sum_{n=1}^{N_d} w_{dnv} \\phi_{dnk} $$\n",
    "* $$\\gamma_{dk} = \\alpha + \\sum_{n=1}^{N_d} \\phi_{dnk}$$\n",
    "* $$ \\phi_{dnk} \\propto \\exp \\left( \\Psi(\\gamma_{dk}) + \\Psi(\\lambda_{k, w_{dn}}) - \\Psi(\\sum_{v=1}^V \\lambda_{kv}) \\right)$$"
   ]
  },
  {
   "cell_type": "code",
   "execution_count": 8,
   "id": "ea905414",
   "metadata": {},
   "outputs": [],
   "source": [
    "# Paramètres pour les distributions Dirichlet\n",
    "D =  len(W)\n",
    "V = 1000\n",
    "K = 10 \n",
    "L = np.random.rand(K,V)\n",
    "G = np.ones((D,K))/K "
   ]
  },
  {
   "cell_type": "code",
   "execution_count": 94,
   "id": "c14607df",
   "metadata": {},
   "outputs": [],
   "source": [
    "def CAVI(W, K, a, e, seed): # Other arguments may be added\n",
    "    # L - K x V matrix (variational parameters Lambda)\n",
    "    # G - D x K matrix (variational parameters Gamma)\n",
    "    # phi - List of D elements, each element is a Nd x K matrix (variational parameters Phi)\n",
    "    np.random.seed(seed)\n",
    "    V= 1000\n",
    "    D =len(W)\n",
    "    # Initiliase Lambda values\n",
    "    L = np.random.rand(K,V)\n",
    "    # Initialise Gamma values\n",
    "    G = np.ones((D,K))/K \n",
    "    # initialise phi\n",
    "    phi = []\n",
    "    for d in range(D):\n",
    "        Nd = len(W[d])\n",
    "        phi_d = np.zeros((Nd,K))\n",
    "        for n in range(Nd):\n",
    "            for k in range(K):\n",
    "                phi_d[n][k] = np.exp(ss.special.digamma(G[d][k])+ ss.special.digamma(L[k][np.where(W[d][n]==1)[0][0]]) - ss.special.digamma(np.sum(L[k])))\n",
    "        phi.append(phi_d)\n",
    "    elbo = ELBO(L, G, phi, a, e, W)\n",
    "    n_iter = 0\n",
    "    liste_elbo = [elbo]\n",
    "    while n_iter <20:\n",
    "        print(f'iteration: {n_iter}')\n",
    "        # Update the variables of q\n",
    "        L = np.full((K,V),e)\n",
    "        G = np.full((D,K),a)\n",
    "        for d in range(D):\n",
    "            L += phi[d][:][:].transpose()@W[d][:][:]\n",
    "            G[d] += phi[d].sum(axis=0)\n",
    "\n",
    "        for d in range(len(W)):\n",
    "            Nd = len(W[d])\n",
    "            for n in range(Nd):\n",
    "                for k in range(K):\n",
    "                    phi[d][n][k] = np.exp(ss.special.digamma(G[d][k])+ ss.special.digamma(L[k][np.where(W[d][n]==1)[0][0]]) - ss.special.digamma(np.sum(L[k])))\n",
    "\n",
    "        # compute\n",
    "        res = ELBO(L, G, phi, a, e, W)\n",
    "        liste_elbo.append(res)\n",
    "        n_iter += 1\n",
    "    \n",
    "    return L, G, phi, liste_elbo"
   ]
  },
  {
   "cell_type": "code",
   "execution_count": 28,
   "id": "51ebf025",
   "metadata": {},
   "outputs": [],
   "source": [
    "def CAVI_opti(W, K, a, e, seed, max_iter=20): # Other arguments may be added\n",
    "    # L - K x V matrix (variational parameters Lambda)\n",
    "    # G - D x K matrix (variational parameters Gamma)\n",
    "    # phi - List of D elements, each element is a Nd x K matrix (variational parameters Phi)\n",
    "    np.random.seed(seed)\n",
    "    V= 1000\n",
    "    D =len(W)\n",
    "    # Initiliase Lambda values\n",
    "    L = np.random.rand(K,V)\n",
    "    # Initialise Gamma values\n",
    "    G = np.ones((D,K))/K \n",
    "    # initialise phi\n",
    "    phi = []\n",
    "    for d in range(D):\n",
    "        Nd = len(W[d])\n",
    "        phi_d = np.zeros((Nd, K))\n",
    "        # Calcul des termes digamma pour G[d]\n",
    "        digamma_G = ss.special.digamma(G[d])\n",
    "\n",
    "        for n in range(Nd):\n",
    "            indices = np.where(W[d][n] != 0)[0]\n",
    "            phi_d[n] = np.exp(digamma_G + ss.special.digamma(L[:, indices[0]]) - ss.special.digamma(np.sum(L, axis=1)))\n",
    "            phi_d[n] =  phi_d[n]/np.sum(phi_d[n])\n",
    "        phi.append(phi_d)\n",
    "\n",
    "    elbo = ELBO(L, G, phi, a, e, W)\n",
    "    n_iter = 0\n",
    "    liste_elbo = np.zeros(max_iter)\n",
    "    liste_elbo[0] = elbo\n",
    "    \n",
    "    while n_iter <max_iter:\n",
    "        print(f'iteration: {n_iter}')\n",
    "        # Update the variables of q\n",
    "        L = np.full((K,V),e)\n",
    "        G = np.full((D,K),a)\n",
    "        for d in range(D):\n",
    "            L += phi[d][:][:].transpose()@W[d][:][:]\n",
    "            G[d] += np.sum(phi[d],axis=0)\n",
    "\n",
    "\n",
    "        for d in range(D):\n",
    "            Nd = len(W[d])\n",
    "            #phi_d = np.zeros((Nd, K))\n",
    "            \n",
    "            # Calcul des termes digamma pour G[d]\n",
    "            digamma_G = ss.special.digamma(G[d])\n",
    "\n",
    "            for n in range(Nd):\n",
    "                indices = np.where(W[d][n] != 0)[0]\n",
    "                phi[d][n] = np.exp(digamma_G + ss.special.digamma(L[:, indices[0]]) - ss.special.digamma(np.sum(L, axis=1)))\n",
    "                phi[d][n] =  phi[d][n]/np.sum(phi[d][n])\n",
    "\n",
    "        # compute\n",
    "        liste_elbo[n_iter] = ELBO(L, G, phi, a, e, W)\n",
    "        n_iter += 1\n",
    "    \n",
    "    return L, G, phi, liste_elbo"
   ]
  },
  {
   "cell_type": "markdown",
   "id": "9b88160d",
   "metadata": {},
   "source": [
    "**Q3.** Run the algorithm with $K = 10$, $\\alpha = 0.5$, $\\eta = 0.1$. From the results, compute the MMSE of $\\lambda_{kv}$ and $\\gamma_{dk}$.\n",
    "\n",
    "**Bonus** : Re-run the algorithm several times with different initializations, and keep the solution which returns the highest ELBO.\n",
    "\n",
    "NB : In my implementation, one iteration of the CAVI algorithm takes about 4 seconds to run."
   ]
  },
  {
   "cell_type": "code",
   "execution_count": 32,
   "id": "ee2cec11",
   "metadata": {},
   "outputs": [
    {
     "name": "stdout",
     "output_type": "stream",
     "text": [
      "iteration: 0\n",
      "iteration: 1\n",
      "iteration: 2\n",
      "iteration: 3\n",
      "iteration: 4\n",
      "iteration: 5\n",
      "iteration: 6\n",
      "iteration: 7\n",
      "iteration: 8\n",
      "iteration: 9\n",
      "iteration: 10\n",
      "iteration: 11\n",
      "iteration: 12\n",
      "iteration: 13\n",
      "iteration: 14\n",
      "iteration: 15\n",
      "iteration: 16\n",
      "iteration: 17\n",
      "iteration: 18\n",
      "iteration: 19\n",
      "iteration: 20\n",
      "iteration: 21\n",
      "iteration: 22\n",
      "iteration: 23\n",
      "iteration: 24\n",
      "iteration: 25\n",
      "iteration: 26\n",
      "iteration: 27\n",
      "iteration: 28\n",
      "iteration: 29\n",
      "iteration: 30\n",
      "iteration: 31\n",
      "iteration: 32\n",
      "iteration: 33\n",
      "iteration: 34\n",
      "iteration: 35\n",
      "iteration: 36\n",
      "iteration: 37\n",
      "iteration: 38\n",
      "iteration: 39\n",
      "iteration: 40\n",
      "iteration: 41\n",
      "iteration: 42\n",
      "iteration: 43\n",
      "iteration: 44\n",
      "iteration: 45\n",
      "iteration: 46\n",
      "iteration: 47\n",
      "iteration: 48\n",
      "iteration: 49\n"
     ]
    }
   ],
   "source": [
    "K = 10\n",
    "a = 0.5\n",
    "e = 0.1\n",
    "\n",
    "L, G, phi, list_ELBO = CAVI_opti(W, K, a, e, 123,max_iter=50)"
   ]
  },
  {
   "cell_type": "code",
   "execution_count": 34,
   "id": "883be51a",
   "metadata": {},
   "outputs": [
    {
     "data": {
      "image/png": "[encoded data removed]",
      "text/plain": [
       "<Figure size 640x480 with 1 Axes>"
      ]
     },
     "metadata": {},
     "output_type": "display_data"
    }
   ],
   "source": [
    "plt.plot(range(50), list_ELBO)\n",
    "plt.show()"
   ]
  },
  {
   "cell_type": "markdown",
   "id": "dcbc6553",
   "metadata": {},
   "source": [
    "**Q4.** Based on the MMSE estimates :\n",
    "* What are the top-10 words per topic ? With your machine learning knowledge, can you make sense of some of the topics ?\n",
    "* Choose one document at random and display its topic proportions. Comment."
   ]
  },
  {
   "cell_type": "code",
   "execution_count": null,
   "id": "ef772fff",
   "metadata": {},
   "outputs": [],
   "source": [
    "#######\n",
    "### YOUR CODE HERE\n",
    "#######"
   ]
  },
  {
   "cell_type": "markdown",
   "id": "e446f419",
   "metadata": {},
   "source": [
    "----- Your answer here -----"
   ]
  },
  {
   "cell_type": "markdown",
   "id": "c13019da",
   "metadata": {},
   "source": [
    "**Q5.** Open questions :\n",
    "* What are some limitations of the LDA model ? Can you imagine an improvement ?\n",
    "* In this notebook, we have treated the hyperparameters as fixed. How could they be learned ?\n",
    "* Can you imagine a method to choose the number of topics ?\n",
    "* What strategies should we use to make the algorithm more efficient ?"
   ]
  },
  {
   "cell_type": "markdown",
   "id": "600e6149",
   "metadata": {},
   "source": [
    "**BONUS.** Papier-crayon. À partir du modèle, pouvez-vous dériver les lois conditionnelles de l'échantillonneur de Gibbs ? Pour rappel, nous avons besoin de ces lois pour dériver ensuite les updates de l'algorithme CAVI."
   ]
  }
 ],
 "metadata": {
  "kernelspec": {
   "display_name": "Python 3 (ipykernel)",
   "language": "python",
   "name": "python3"
  },
  "language_info": {
   "codemirror_mode": {
    "name": "ipython",
    "version": 3
   },
   "file_extension": ".py",
   "mimetype": "text/x-python",
   "name": "python",
   "nbconvert_exporter": "python",
   "pygments_lexer": "ipython3",
   "version": "3.11.5"
  }
 },
 "nbformat": 4,
 "nbformat_minor": 5
}
