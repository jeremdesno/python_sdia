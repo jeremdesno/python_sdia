{
 "cells": [
  {
   "cell_type": "markdown",
   "id": "2a5c5d58",
   "metadata": {},
   "source": [
    "# TP1 : Algorithme EM et modèle de mélange gaussien\n",
    "\n",
    "## Introduction à l'estimation statistique - G3 SDIA\n",
    "\n",
    "L'objectif de ce TP est d'implémenter l'algorithme EM pour estimer par maximum de vraisemblance les paramètres d'un modèle de mélange gaussien.\n",
    "\n",
    "On utilisera le dataset *Old Faithful*, qui décrit 272 éruptions du geyser appelé Old Faithful du parc national de Yellowstone aux États-Unis. Chaque observation est constituée de 2 variables : le temps d'attente avant l'éruption (en minutes) et la durée de l'éruption (en minutes).\n",
    "\n",
    "### Instructions\n",
    "\n",
    "1. Renommer votre notebook sous la forme `tp1_Nom1_Nom2.ipynb`, et inclure le nom du binôme dans le notebook. \n",
    "\n",
    "2. Votre code, ainsi que toute sortie du code, doivent être commentés !\n",
    "\n",
    "3. Déposer votre notebook sur Moodle dans la section prévue à cet effet avant la date limite : 15 Octobre 2023, 23h59."
   ]
  },
  {
   "cell_type": "code",
   "execution_count": 71,
   "id": "31576d0a",
   "metadata": {},
   "outputs": [],
   "source": [
    "# Import necessary libraries\n",
    "import numpy as np\n",
    "import scipy.stats as ss\n",
    "import seaborn\n",
    "from matplotlib import pyplot as plt\n",
    "from sklearn.preprocessing import StandardScaler\n",
    "import pandas as pd\n",
    "import random"
   ]
  },
  {
   "cell_type": "markdown",
   "id": "d3d78659",
   "metadata": {},
   "source": [
    "**Q1**. Charger le dataset, normaliser puis visualiser les données. Commenter."
   ]
  },
  {
   "cell_type": "code",
   "execution_count": 57,
   "id": "87ffb7ae",
   "metadata": {},
   "outputs": [
    {
     "data": {
      "text/plain": [
       "<matplotlib.collections.PathCollection at 0x2c07a9f7e50>"
      ]
     },
     "execution_count": 57,
     "metadata": {},
     "output_type": "execute_result"
    },
    {
     "data": {
      "image/png": "[encoded data removed]",
      "text/plain": [
       "<Figure size 640x480 with 1 Axes>"
      ]
     },
     "metadata": {},
     "output_type": "display_data"
    }
   ],
   "source": [
    "# Load the \"Old Faithful\" dataset from the Seaborn library\n",
    "df = seaborn.load_dataset('geyser')\n",
    "X = df[['duration', 'waiting']]\n",
    "N, D = X. shape\n",
    "\n",
    "\n",
    "# Standardize data to avoid numerical instabilities\n",
    "\n",
    "# # # # # # # # #\n",
    "scaler = StandardScaler()\n",
    "X_scaled = pd.DataFrame(scaler.fit_transform(X), columns= X.columns)\n",
    "# # # # # # # # #\n",
    "\n",
    "\n",
    "# Show data\n",
    "\n",
    "# # # # # # # # #\n",
    "plt.scatter(X_scaled.iloc[:,0],X_scaled.iloc[:,1])\n",
    "# # # # # # # # #"
   ]
  },
  {
   "cell_type": "markdown",
   "id": "6ef8799a",
   "metadata": {},
   "source": [
    "\n",
    "----- Votre réponse ici -----\n",
    "\n",
    "\n",
    "\n",
    "\n",
    "\n",
    "\n"
   ]
  },
  {
   "cell_type": "markdown",
   "id": "a06528c4",
   "metadata": {},
   "source": [
    "**Q2**. On note $\\mathbf{x}_1,...,\\mathbf{x}_n$ les données. On souhaite les modéliser par un modèle de mélange gaussien à $K$ composantes.\n",
    "\n",
    "Écrire une fonction permettant de calculer la log-vraisemblance :\n",
    "$$ \\log \\mathcal{L}(\\theta;\\mathbf{x}_1,...,\\mathbf{x}_n) = \\sum_{i=1}^n \\log \\left( \\sum_{k=1}^K \\pi_k \\frac{1}{2 \\pi \\text{det}(\\boldsymbol{\\Sigma}_k)^{1/2}} \\exp \\left( \\frac{1}{2} (\\mathbf{x}_i - \\boldsymbol{\\mu}_k)^{\\top} \\boldsymbol{\\Sigma}_k^{-1} (\\mathbf{x}_i - \\boldsymbol{\\mu}_k) \\right) \\right), $$\n",
    "avec $\\theta = \\{ \\boldsymbol{\\mu_1}, ..., \\boldsymbol{\\mu_k}, \\boldsymbol{\\Sigma}_1, ..., \\boldsymbol{\\Sigma}_k, \\pi_1, ..., \\pi_k \\}$.\n",
    "\n",
    "On pourra utiliser la fonction $\\texttt{multivariate} \\_ \\texttt{normal.pdf}$ de la librairie scipy.stats."
   ]
  },
  {
   "cell_type": "code",
   "execution_count": 92,
   "id": "a6a3ffe5",
   "metadata": {},
   "outputs": [],
   "source": [
    "def log_likelihood(X, mean, cov, pk): # Fill in the appropriate arguments\n",
    "\n",
    "    # # # # # # # # #\n",
    "    K = len(mean)\n",
    "    log_like = 0\n",
    "    y = np.zeros((X.shape[0],k))\n",
    "    for j in range(k):\n",
    "        mvn = ss.multivariate_normal(mean= mean[j], cov=cov[j])\n",
    "        y[:,j] = pk[j]*mvn.pdf(X)\n",
    "    log_like = np.sum(np.log(np.sum(y, axis = 1)))\n",
    "    return log_like\n",
    "    # # # # # # # # #"
   ]
  },
  {
   "cell_type": "code",
   "execution_count": 93,
   "id": "0179804c",
   "metadata": {},
   "outputs": [
    {
     "data": {
      "text/plain": [
       "-831.9975338812601"
      ]
     },
     "execution_count": 93,
     "metadata": {},
     "output_type": "execute_result"
    }
   ],
   "source": [
    "k = 2\n",
    "cov = [ np.eye(D) for _ in range (k)]\n",
    "mean = [[random.uniform(-2, 2), random.uniform(-2, 2)] for _ in range(k)]\n",
    "weights = [random.random() for _ in range(k)]\n",
    "pk = [weights[j]/sum(weights) for j in range(k)]\n",
    "log_likelihood(X_scaled, mean=mean, cov=cov, pk=pk)"
   ]
  },
  {
   "cell_type": "markdown",
   "id": "6a3bfc0f",
   "metadata": {},
   "source": [
    "**Q3**. Écrire une fonction qui implémente l'algorithme EM dans ce modèle, prenant pour arguments les données, le nombre de composantes $K$, et le nombre d'itérations de l'algorithme $N_{\\text{iter}}$. Cette fonction retournera un tableau de taille $N_{\\text{iter}} + 1$ contenant l'évolution des valeurs de la log-vraisemblance, ainsi que les valeurs finales des paramètres.\n",
    "\n",
    "Initialisation des paramètres :\n",
    "- Pour les moyennes, les $K$ premières observations du dataset ;\n",
    "- Pour les matrices de covariances, la matrice identité ;\n",
    "- $\\pi_k = 1/K$."
   ]
  },
  {
   "cell_type": "code",
   "execution_count": 98,
   "id": "8fc3afea",
   "metadata": {},
   "outputs": [],
   "source": [
    "def EM_algorithm_v1(X, K, Niter):\n",
    "    N, D = X.shape\n",
    "    \n",
    "    # Initialize parameters\n",
    "\n",
    "    # # # # # # # # #\n",
    "    mean = X.iloc[:K].values\n",
    "    cov = [ np.eye(D) for _ in range (K)]\n",
    "    \n",
    "    pk = [1/K for i in range (K)]\n",
    "    # # # # # # # # #\n",
    "\n",
    "    for i in range(0,Niter):\n",
    "        # E-STEP\n",
    "        \n",
    "        # # # # # # # # #\n",
    "        rn = np.zeros((N,K))\n",
    "        for j in range(K):\n",
    "            mvn = ss.multivariate_normal(mean= mean[j], cov=cov[j])\n",
    "            rn[:,j] = pk[j]*mvn.pdf(X)\n",
    "        rn = [rn[i]/np.sum(rn[i]) for i in range(N)]\n",
    "        print(rn)\n",
    "        # # # # # # # # #\n",
    "        \n",
    "        # M-STEP\n",
    "        \n",
    "        # # # # # # # # #\n",
    "        # YOUR CODE HERE #\n",
    "        # # # # # # # # #\n",
    "    return None"
   ]
  },
  {
   "cell_type": "code",
   "execution_count": 99,
   "id": "8f911c67",
   "metadata": {},
   "outputs": [
    {
     "name": "stdout",
     "output_type": "stream",
     "text": [
      "[array([0.95003499, 0.04996501]), array([0.04996501, 0.95003499]), array([0.86944713, 0.13055287]), array([0.23339542, 0.76660458]), array([0.99365457, 0.00634543]), array([0.21290671, 0.78709329]), array([0.99664031, 0.00335969]), array([0.97724064, 0.02275936]), array([0.04131075, 0.95868925]), array([0.99183635, 0.00816365]), array([0.05218269, 0.94781731]), array([0.98310359, 0.01689641]), array([0.9744566, 0.0255434]), array([0.01861749, 0.98138251]), array([0.99339778, 0.00660222]), array([0.06251806, 0.93748194]), array([0.12692679, 0.87307321]), array([0.99497439, 0.00502561]), array([0.02948155, 0.97051845]), array([0.97909428, 0.02090572]), array([0.0338145, 0.9661855]), array([0.01861749, 0.98138251]), array([0.930951, 0.069049]), array([0.70022498, 0.29977502]), array([0.97235447, 0.02764553]), array([0.97035101, 0.02964899]), array([0.07057996, 0.92942004]), array([0.96112364, 0.03887636]), array([0.95914903, 0.04085097]), array([0.98370379, 0.01629621]), array([0.95694902, 0.04305098]), array([0.97968789, 0.02031211]), array([0.70205928, 0.29794072]), array([0.97543186, 0.02456814]), array([0.93018186, 0.06981814]), array([0.05137977, 0.94862023]), array([0.02492021, 0.97507979]), array([0.99176327, 0.00823673]), array([0.09791635, 0.90208365]), array([0.99771517, 0.00228483]), array([0.98403166, 0.01596834]), array([0.09220397, 0.90779603]), array([0.9930707, 0.0069293]), array([0.07788312, 0.92211688]), array([0.96846129, 0.03153871]), array([0.95671756, 0.04328244]), array([0.77414252, 0.22585748]), array([0.06507687, 0.93492313]), array([0.99171546, 0.00828454]), array([0.12036314, 0.87963686]), array([0.98314814, 0.01685186]), array([0.99749325, 0.00250675]), array([0.05218269, 0.94781731]), array([0.99176327, 0.00823673]), array([0.04573435, 0.95426565]), array([0.99487003, 0.00512997]), array([0.883018, 0.116982]), array([0.14529532, 0.85470468]), array([0.98227157, 0.01772843]), array([0.98538593, 0.01461407]), array([0.15897585, 0.84102415]), array([0.99240112, 0.00759888]), array([0.0212671, 0.9787329]), array([0.99341689, 0.00658311]), array([0.10841645, 0.89158355]), array([0.99703985, 0.00296015]), array([0.97329239, 0.02670761]), array([0.98706639, 0.01293361]), array([0.25322254, 0.74677746]), array([0.97481725, 0.02518275]), array([0.98116376, 0.01883624]), array([0.08002179, 0.91997821]), array([0.98512825, 0.01487175]), array([0.91787313, 0.08212687]), array([0.16724478, 0.83275522]), array([0.98977196, 0.01022804]), array([0.1382792, 0.8617208]), array([0.9844873, 0.0155127]), array([0.9493267, 0.0506733]), array([0.97035101, 0.02964899]), array([0.95856431, 0.04143569]), array([0.98749448, 0.01250552]), array([0.91809282, 0.08190718]), array([0.42639821, 0.57360179]), array([0.94148842, 0.05851158]), array([0.99756573, 0.00243427]), array([0.95361441, 0.04638559]), array([0.98729092, 0.01270908]), array([0.0372983, 0.9627017]), array([0.98845905, 0.01154095]), array([0.17138126, 0.82861874]), array([0.99574378, 0.00425622]), array([0.03244226, 0.96755774]), array([0.98898221, 0.01101779]), array([0.1574215, 0.8425785]), array([0.95099571, 0.04900429]), array([0.99396259, 0.00603741]), array([0.9315116, 0.0684884]), array([0.03698525, 0.96301475]), array([0.99426448, 0.00573552]), array([0.28661647, 0.71338353]), array([0.99467887, 0.00532113]), array([0.03886769, 0.96113231]), array([0.99130576, 0.00869424]), array([0.97897449, 0.02102551]), array([0.02182562, 0.97817438]), array([0.9942311, 0.0057689]), array([0.03767779, 0.96232221]), array([0.99642083, 0.00357917]), array([0.96550405, 0.03449595]), array([0.98153757, 0.01846243]), array([0.17179603, 0.82820397]), array([0.99777477, 0.00222523]), array([0.98334424, 0.01665576]), array([0.08278918, 0.91721082]), array([0.99052222, 0.00947778]), array([0.05889787, 0.94110213]), array([0.99421434, 0.00578566]), array([0.09597383, 0.90402617]), array([0.9943155, 0.0056845]), array([0.12478119, 0.87521881]), array([0.90336481, 0.09663519]), array([0.97275012, 0.02724988]), array([0.08002179, 0.91997821]), array([0.99614246, 0.00385754]), array([0.96918042, 0.03081958]), array([0.01790181, 0.98209819]), array([0.9900541, 0.0099459]), array([0.10323645, 0.89676355]), array([0.99725364, 0.00274636]), array([0.0167226, 0.9832774]), array([0.98627279, 0.01372721]), array([0.21638903, 0.78361097]), array([0.99512789, 0.00487211]), array([0.01824378, 0.98175622]), array([0.98832246, 0.01167754]), array([0.03778373, 0.96221627]), array([0.99680874, 0.00319126]), array([0.05964699, 0.94035301]), array([0.95809823, 0.04190177]), array([0.98360997, 0.01639003]), array([0.17797838, 0.82202162]), array([0.99049478, 0.00950522]), array([0.98740029, 0.01259971]), array([0.97219716, 0.02780284]), array([0.11788929, 0.88211071]), array([0.98915898, 0.01084102]), array([0.0347887, 0.9652113]), array([9.99347062e-01, 6.52937651e-04]), array([0.04390037, 0.95609963]), array([0.99063117, 0.00936883]), array([0.96188821, 0.03811179]), array([0.34985209, 0.65014791]), array([0.99008279, 0.00991721]), array([0.85976065, 0.14023935]), array([0.90704111, 0.09295889]), array([0.98862431, 0.01137569]), array([0.99599299, 0.00400701]), array([0.04390037, 0.95609963]), array([0.99193218, 0.00806782]), array([0.02627985, 0.97372015]), array([0.99060621, 0.00939379]), array([0.10671354, 0.89328646]), array([0.95821521, 0.04178479]), array([0.73915274, 0.26084726]), array([0.98018154, 0.01981846]), array([0.28151053, 0.71848947]), array([0.99778124, 0.00221876]), array([0.04598972, 0.95401028]), array([0.99808525, 0.00191475]), array([0.03042079, 0.96957921]), array([0.10476025, 0.89523975]), array([0.98265387, 0.01734613]), array([0.74677746, 0.25322254]), array([0.98206717, 0.01793283]), array([0.98570204, 0.01429796]), array([0.96703307, 0.03296693]), array([0.06707175, 0.93292825]), array([0.98680302, 0.01319698]), array([0.95489818, 0.04510182]), array([0.06331013, 0.93668987]), array([0.98265387, 0.01734613]), array([0.98774704, 0.01225296]), array([0.97633544, 0.02366456]), array([0.04611792, 0.95388208]), array([0.98137827, 0.01862173]), array([0.98653127, 0.01346873]), array([0.01824378, 0.98175622]), array([0.99025547, 0.00974453]), array([0.09293931, 0.90706069]), array([0.99246685, 0.00753315]), array([0.0764124, 0.9235876]), array([0.98525596, 0.01474404]), array([0.98684096, 0.01315904]), array([0.96012152, 0.03987848]), array([0.98360997, 0.01639003]), array([0.98001532, 0.01998468]), array([0.97670506, 0.02329494]), array([0.0613182, 0.9386818]), array([0.98646893, 0.01353107]), array([0.15257437, 0.84742563]), array([0.9877823, 0.0122177]), array([0.99509952, 0.00490048]), array([0.04796991, 0.95203009]), array([0.98517094, 0.01482906]), array([0.01704244, 0.98295756]), array([0.97673659, 0.02326341]), array([0.98148884, 0.01851116]), array([0.03108213, 0.96891787]), array([0.99130576, 0.00869424]), array([0.54272442, 0.45727558]), array([0.9901114, 0.0098886]), array([0.02844082, 0.97155918]), array([0.93850024, 0.06149976]), array([0.65812216, 0.34187784]), array([0.96819281, 0.03180719]), array([0.09544863, 0.90455137]), array([0.99870222, 0.00129778]), array([0.0736417, 0.9263583]), array([0.96445053, 0.03554947]), array([0.03244226, 0.96755774]), array([0.98631224, 0.01368776]), array([0.04677435, 0.95322565]), array([0.97408506, 0.02591494]), array([0.96656477, 0.03343523]), array([0.97496578, 0.02503422]), array([0.97009138, 0.02990862]), array([0.9766702, 0.0233298]), array([0.8968704, 0.1031296]), array([0.98611069, 0.01388931]), array([0.91630239, 0.08369761]), array([0.11012043, 0.88987957]), array([0.99102265, 0.00897735]), array([0.05166495, 0.94833505]), array([0.99637896, 0.00362104]), array([0.0557207, 0.9442793]), array([0.05336113, 0.94663887]), array([0.97393733, 0.02606267]), array([0.9686461, 0.0313539]), array([0.29977502, 0.70022498]), array([0.95949065, 0.04050935]), array([0.04177549, 0.95822451]), array([0.99680874, 0.00319126]), array([0.45070831, 0.54929169]), array([0.99407714, 0.00592286]), array([0.97529162, 0.02470838]), array([0.10476025, 0.89523975]), array([0.98806358, 0.01193642]), array([0.32773618, 0.67226382]), array([0.96465008, 0.03534992]), array([0.08390382, 0.91609618]), array([0.99068732, 0.00931268]), array([0.88942, 0.11058]), array([0.96703307, 0.03296693]), array([0.99282388, 0.00717612]), array([0.96713335, 0.03286665]), array([0.90876835, 0.09123165]), array([0.99068732, 0.00931268]), array([0.08345634, 0.91654366]), array([0.98001077, 0.01998923]), array([0.98820045, 0.01179955]), array([0.99273857, 0.00726143]), array([0.08844417, 0.91155583]), array([0.98774704, 0.01225296]), array([0.01499711, 0.98500289]), array([0.18145379, 0.81854621]), array([0.98195999, 0.01804001]), array([0.98080428, 0.01919572]), array([0.02803412, 0.97196588]), array([0.99621003, 0.00378997]), array([0.01785058, 0.98214942]), array([0.96978472, 0.03021528])]\n"
     ]
    }
   ],
   "source": [
    "EM_algorithm_v1(X_scaled, 2, 1)"
   ]
  },
  {
   "cell_type": "markdown",
   "id": "4f096d0d",
   "metadata": {},
   "source": [
    "**Q4**. Faire tourner l'algorithme avec $K = 2$ et $N_{\\text{iter}} = 50$.\n",
    "\n",
    "Afficher l'évolution de la log-vraisemblance en fonction des itérations. Commenter.\n",
    "\n",
    "Sur une même figure, afficher le dataset et représenter les estimations des deux lois normales du mélange à l'aide d'un *contour plot*. On pourra utiliser la fonction $\\texttt{plt.contour}$."
   ]
  },
  {
   "cell_type": "code",
   "execution_count": null,
   "id": "a05c1379",
   "metadata": {},
   "outputs": [],
   "source": [
    "K = 2\n",
    "Niter = 50\n",
    "\n",
    "# # # # # # # # #\n",
    "# YOUR CODE HERE #\n",
    "# # # # # # # # #"
   ]
  },
  {
   "cell_type": "markdown",
   "id": "374ee4cb",
   "metadata": {},
   "source": [
    "----- Votre réponse ici -----"
   ]
  },
  {
   "cell_type": "markdown",
   "id": "44e57e26",
   "metadata": {},
   "source": [
    "**Q5**. On souhaite maintenant étudier l'influence de l'initialisation sur les résultats. Modifier la fonction implémentant l'algorithme EM en y rajoutant un argument pour la graine aléatoire. Les paramètres seront maintenant initialisés de la manière suivante :\n",
    "- $\\boldsymbol{\\mu}_k \\sim \\mathcal{N}(\\mathbf{0},\\mathbf{I}_2)$ ;\n",
    "- $[\\pi_1, ..., \\pi_K]^{\\top} \\sim \\text{Dirichlet}([1, ..., 1]^{\\top})$ ;\n",
    "- On gardera l'initialisation des matrices de covariance à la matrice identité."
   ]
  },
  {
   "cell_type": "code",
   "execution_count": null,
   "id": "58600cbb",
   "metadata": {},
   "outputs": [],
   "source": [
    "def EM_algorithm_v2(X, K, Niter, seed):\n",
    "    N, D = X. shape\n",
    "    \n",
    "    # Initialize parameters\n",
    "    np.random.seed(seed)\n",
    "\n",
    "    # # # # # # # # #\n",
    "    # YOUR CODE HERE #\n",
    "    # # # # # # # # #\n",
    "\n",
    "    for i in range(0,Niter):\n",
    "        # E-STEP\n",
    "        \n",
    "        # # # # # # # # #\n",
    "        # YOUR CODE HERE #\n",
    "        # # # # # # # # #\n",
    "        \n",
    "        # M-STEP\n",
    "        \n",
    "        # # # # # # # # #\n",
    "        # YOUR CODE HERE #\n",
    "        # # # # # # # # #\n",
    "        \n",
    "    return # YOUR CODE HERE #"
   ]
  },
  {
   "cell_type": "markdown",
   "id": "ae230134",
   "metadata": {},
   "source": [
    "**Q6**. On choisit maintenant $K=3$. Représenter l'évolution de la log-vraisemblance pour 10 graines aléatoires différentes. Commenter.\n",
    "\n",
    "Afficher deux cas où la solution retournée par l'algorithme EM est visuellement différente. Commenter.\n",
    "\n",
    "Quelle estimation de paramètres doit-on choisir ?"
   ]
  },
  {
   "cell_type": "code",
   "execution_count": null,
   "id": "a7467b06",
   "metadata": {},
   "outputs": [],
   "source": [
    "K = 3\n",
    "\n",
    "# # # # # # # # #\n",
    "# YOUR CODE HERE #\n",
    "# # # # # # # # #"
   ]
  },
  {
   "cell_type": "markdown",
   "id": "3c0002c3",
   "metadata": {},
   "source": [
    "\n",
    "----- Votre réponse ici -----"
   ]
  },
  {
   "cell_type": "markdown",
   "id": "46a74d13",
   "metadata": {},
   "source": [
    "**Q7**. On cherche maintenant à choisir la valeur optimale de $K$. Pour cela, on aimerait pouvoir comparer la vraisemblance des modèles obtenus avec différentes valeurs de $K$.\n",
    "\n",
    "Cela peut se faire au travers d'un critère de sélection de modèle. Dans ce TP, nous étudierons le critère dit BIC :\n",
    "$$ \\text{BIC}(m) = k(m) \\log(n) - 2 \\log \\mathcal{L}(m),$$\n",
    "où $m$ est un modèle (ici donné par une valeur de $K$), $k_m$ est le nombre de paramètres libres dans le modèle, $n$ le nombre d'échantillons, et $\\mathcal{L}_m$ le maximum de la fonction de vraisemblance de le modèle $m$. On sélectionne le modèle avec le plus faible BIC.\n",
    "\n",
    "Montrer que $$k(m) = \\frac{K}{2} (D+1)(D+2) - 1.$$\n",
    "\n",
    "Comparer les valeurs de $K$ allant de 1 à 6. Quel est le modèle optimal d'après le critère BIC ?"
   ]
  },
  {
   "cell_type": "code",
   "execution_count": null,
   "id": "a9ed453a",
   "metadata": {},
   "outputs": [],
   "source": [
    "# # # # # # # # #\n",
    "# YOUR CODE HERE #\n",
    "# # # # # # # # #"
   ]
  },
  {
   "cell_type": "markdown",
   "id": "e689fe03",
   "metadata": {},
   "source": [
    "\n",
    "----- Votre réponse ici -----"
   ]
  },
  {
   "cell_type": "markdown",
   "id": "6fd103c6",
   "metadata": {},
   "source": [
    "**Question bonus**. Expliquer comment l'algorithme EM peut-être utilisé pour du clustering."
   ]
  },
  {
   "cell_type": "markdown",
   "id": "dc8a1b08",
   "metadata": {},
   "source": [
    "\n",
    "----- Votre réponse ici -----"
   ]
  }
 ],
 "metadata": {
  "kernelspec": {
   "display_name": "Python 3 (ipykernel)",
   "language": "python",
   "name": "python3"
  },
  "language_info": {
   "codemirror_mode": {
    "name": "ipython",
    "version": 3
   },
   "file_extension": ".py",
   "mimetype": "text/x-python",
   "name": "python",
   "nbconvert_exporter": "python",
   "pygments_lexer": "ipython3",
   "version": "3.11.5"
  }
 },
 "nbformat": 4,
 "nbformat_minor": 5
}
