{
 "cells": [
  {
   "cell_type": "code",
   "execution_count": 1,
   "metadata": {
    "_cell_guid": "b1076dfc-b9ad-4769-8c92-a6c4dae69d19",
    "_uuid": "8f2839f25d086af736a60e9eeb907d3b93b6e0e5",
    "execution": {
     "iopub.execute_input": "2023-09-06T08:09:54.522106Z",
     "iopub.status.busy": "2023-09-06T08:09:54.521694Z",
     "iopub.status.idle": "2023-09-06T08:09:54.527787Z",
     "shell.execute_reply": "2023-09-06T08:09:54.526508Z",
     "shell.execute_reply.started": "2023-09-06T08:09:54.522074Z"
    }
   },
   "outputs": [],
   "source": [
    "import numpy as np"
   ]
  },
  {
   "cell_type": "code",
   "execution_count": 2,
   "metadata": {
    "execution": {
     "iopub.execute_input": "2023-09-06T08:09:54.533439Z",
     "iopub.status.busy": "2023-09-06T08:09:54.533101Z",
     "iopub.status.idle": "2023-09-06T08:09:54.545085Z",
     "shell.execute_reply": "2023-09-06T08:09:54.543983Z",
     "shell.execute_reply.started": "2023-09-06T08:09:54.533411Z"
    }
   },
   "outputs": [
    {
     "name": "stdout",
     "output_type": "stream",
     "text": [
      "[[ 1.+1.j  1.-1.j]\n",
      " [-1.+1.j -1.-1.j]]\n",
      "[[3.-4.j 6.-2.j]\n",
      " [1.+2.j 4.+3.j]]\n"
     ]
    }
   ],
   "source": [
    "A = np.array([[1+1j, 1-1j], [-1+1j, -1-1j]])\n",
    "B = np.array([[3-4j, 6-2j], [1+2j, 4+3j]])\n",
    "print(A)\n",
    "print(B)"
   ]
  },
  {
   "cell_type": "code",
   "execution_count": 3,
   "metadata": {
    "execution": {
     "iopub.execute_input": "2023-09-06T08:09:54.547872Z",
     "iopub.status.busy": "2023-09-06T08:09:54.547191Z",
     "iopub.status.idle": "2023-09-06T08:09:54.557994Z",
     "shell.execute_reply": "2023-09-06T08:09:54.556865Z",
     "shell.execute_reply.started": "2023-09-06T08:09:54.547834Z"
    }
   },
   "outputs": [
    {
     "name": "stdout",
     "output_type": "stream",
     "text": [
      "(1-5j)\n"
     ]
    }
   ],
   "source": [
    "# by the definition\n",
    "def computeInnerProduct(A,B) :\n",
    "    C=0\n",
    "    n, m = A.shape\n",
    "    for i in range(n) :\n",
    "        for j in range(m) :\n",
    "            C += np.conj(A[i,j])*B[i,j]\n",
    "    return C\n",
    "C = computeInnerProduct(A,B)\n",
    "print(C)"
   ]
  },
  {
   "cell_type": "code",
   "execution_count": 135,
   "metadata": {
    "execution": {
     "iopub.execute_input": "2023-09-06T08:09:54.559917Z",
     "iopub.status.busy": "2023-09-06T08:09:54.559542Z",
     "iopub.status.idle": "2023-09-06T08:09:54.575439Z",
     "shell.execute_reply": "2023-09-06T08:09:54.574497Z",
     "shell.execute_reply.started": "2023-09-06T08:09:54.559890Z"
    }
   },
   "outputs": [
    {
     "name": "stdout",
     "output_type": "stream",
     "text": [
      "(1-5j)\n"
     ]
    }
   ],
   "source": [
    "# A and B as matrices of NumPy\n",
    "C = np.trace(np.conj(np.asmatrix(A).T)*np.asmatrix(B))\n",
    "print(C)"
   ]
  },
  {
   "cell_type": "code",
   "execution_count": 136,
   "metadata": {
    "execution": {
     "iopub.execute_input": "2023-09-06T08:09:54.577516Z",
     "iopub.status.busy": "2023-09-06T08:09:54.576965Z",
     "iopub.status.idle": "2023-09-06T08:09:54.589700Z",
     "shell.execute_reply": "2023-09-06T08:09:54.588901Z",
     "shell.execute_reply.started": "2023-09-06T08:09:54.577446Z"
    }
   },
   "outputs": [
    {
     "name": "stdout",
     "output_type": "stream",
     "text": [
      "(1-5j)\n"
     ]
    }
   ],
   "source": [
    "# as A and B are ndarrays of NumPy then :\n",
    "C = np.sum(np.conj(A)*B)\n",
    "print(C)"
   ]
  },
  {
   "cell_type": "code",
   "execution_count": 137,
   "metadata": {
    "execution": {
     "iopub.execute_input": "2023-09-06T08:09:54.592467Z",
     "iopub.status.busy": "2023-09-06T08:09:54.591866Z",
     "iopub.status.idle": "2023-09-06T08:09:54.602352Z",
     "shell.execute_reply": "2023-09-06T08:09:54.601389Z",
     "shell.execute_reply.started": "2023-09-06T08:09:54.592432Z"
    }
   },
   "outputs": [
    {
     "name": "stdout",
     "output_type": "stream",
     "text": [
      "(120-13j)\n"
     ]
    }
   ],
   "source": [
    "# by definition\n",
    "a,b,c,d=1,9,2,5\n",
    "C = computeInnerProduct(a+A,b+B)+computeInnerProduct(c+A,d+B)\n",
    "print(C)"
   ]
  },
  {
   "cell_type": "code",
   "execution_count": 138,
   "metadata": {
    "execution": {
     "iopub.execute_input": "2023-09-06T08:09:54.604270Z",
     "iopub.status.busy": "2023-09-06T08:09:54.603683Z",
     "iopub.status.idle": "2023-09-06T08:09:54.615798Z",
     "shell.execute_reply": "2023-09-06T08:09:54.614886Z",
     "shell.execute_reply.started": "2023-09-06T08:09:54.604236Z"
    }
   },
   "outputs": [
    {
     "name": "stdout",
     "output_type": "stream",
     "text": [
      "[[[2.+1.j 2.-1.j]\n",
      "  [0.+1.j 0.-1.j]]\n",
      "\n",
      " [[3.+1.j 3.-1.j]\n",
      "  [1.+1.j 1.-1.j]]]\n",
      "[[[12.-4.j 15.-2.j]\n",
      "  [10.+2.j 13.+3.j]]\n",
      "\n",
      " [[ 8.-4.j 11.-2.j]\n",
      "  [ 6.+2.j  9.+3.j]]]\n"
     ]
    }
   ],
   "source": [
    "A=np.r_['0,2', a+A[np.newaxis,...], c+A[np.newaxis,...]]\n",
    "print(A)\n",
    "\n",
    "B=np.r_['0,2', b+B[np.newaxis,...], d+B[np.newaxis,...]]\n",
    "print(B)"
   ]
  },
  {
   "cell_type": "code",
   "execution_count": 139,
   "metadata": {
    "execution": {
     "iopub.execute_input": "2023-09-06T08:09:54.617943Z",
     "iopub.status.busy": "2023-09-06T08:09:54.617309Z",
     "iopub.status.idle": "2023-09-06T08:09:54.627923Z",
     "shell.execute_reply": "2023-09-06T08:09:54.626699Z",
     "shell.execute_reply.started": "2023-09-06T08:09:54.617906Z"
    }
   },
   "outputs": [
    {
     "name": "stdout",
     "output_type": "stream",
     "text": [
      "(120-13j)\n"
     ]
    }
   ],
   "source": [
    "C = np.sum(np.conj(A)*B)\n",
    "print(C)"
   ]
  }
 ],
 "metadata": {
  "kernelspec": {
   "display_name": "Python 3",
   "language": "python",
   "name": "python3"
  },
  "language_info": {
   "codemirror_mode": {
    "name": "ipython",
    "version": 3
   },
   "file_extension": ".py",
   "mimetype": "text/x-python",
   "name": "python",
   "nbconvert_exporter": "python",
   "pygments_lexer": "ipython3",
   "version": "3.8.8"
  }
 },
 "nbformat": 4,
 "nbformat_minor": 4
}
