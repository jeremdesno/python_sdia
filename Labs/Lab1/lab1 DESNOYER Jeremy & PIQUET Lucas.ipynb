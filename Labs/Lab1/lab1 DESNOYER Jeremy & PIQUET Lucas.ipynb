{
 "cells": [
  {
   "cell_type": "markdown",
   "metadata": {},
   "source": [
    "# Practical session 1 - Some Python basics\n",
    "\n",
    "Students (pair):\n",
    "- [Student 1]([link](https://github.com/username1))\n",
    "- [Student 2]([link](https://github.com/username2))"
   ]
  },
  {
   "cell_type": "markdown",
   "metadata": {},
   "source": [
    "```\n",
    "conda create --name=lab1 --file=requirement.txt \n",
    "conda activate lab1\n",
    "# do not forget to deactivate the environment if needed\n",
    "# you can remove the environment once you are done\n",
    "conda env remove --name=lab1\n",
    "```"
   ]
  },
  {
   "cell_type": "code",
   "execution_count": 1,
   "metadata": {},
   "outputs": [],
   "source": [
    "%load_ext autoreload\n",
    "%autoreload 2"
   ]
  },
  {
   "cell_type": "markdown",
   "metadata": {},
   "source": [
    "## Documentation\n",
    "\n",
    "To display the documentation associated to a Python function in your notebook (launched in VSCode), you can either\n",
    "- run `?functionname` or `help(my_adder)`\n",
    "- place your mouse pointer on the function name\n",
    "- write the name of the function and start opening the brackets"
   ]
  },
  {
   "cell_type": "markdown",
   "metadata": {},
   "source": [
    "## Zen of Python\n"
   ]
  },
  {
   "cell_type": "code",
   "execution_count": 21,
   "metadata": {},
   "outputs": [],
   "source": [
    "import numpy as np\n",
    "import string"
   ]
  },
  {
   "cell_type": "markdown",
   "metadata": {},
   "source": [
    "## Reserved keywords\n"
   ]
  },
  {
   "cell_type": "code",
   "execution_count": 3,
   "metadata": {},
   "outputs": [
    {
     "name": "stdout",
     "output_type": "stream",
     "text": [
      "['False', 'None', 'True', 'and', 'as', 'assert', 'async', 'await', 'break', 'class', 'continue', 'def', 'del', 'elif', 'else', 'except', 'finally', 'for', 'from', 'global', 'if', 'import', 'in', 'is', 'lambda', 'nonlocal', 'not', 'or', 'pass', 'raise', 'return', 'try', 'while', 'with', 'yield']\n"
     ]
    }
   ],
   "source": [
    "import keyword\n",
    "print(keyword.kwlist)"
   ]
  },
  {
   "cell_type": "markdown",
   "metadata": {},
   "source": [
    "## Arithmetic"
   ]
  },
  {
   "cell_type": "markdown",
   "metadata": {},
   "source": [
    "Compute 4 raised to the power 8"
   ]
  },
  {
   "cell_type": "code",
   "execution_count": 1,
   "metadata": {},
   "outputs": [
    {
     "data": {
      "text/plain": [
       "65536"
      ]
     },
     "execution_count": 1,
     "metadata": {},
     "output_type": "execute_result"
    }
   ],
   "source": [
    "4**8"
   ]
  },
  {
   "cell_type": "markdown",
   "metadata": {},
   "source": [
    "Compute the quotient and the remainder of the euclidean division of 17 by 3. "
   ]
  },
  {
   "cell_type": "code",
   "execution_count": 7,
   "metadata": {},
   "outputs": [
    {
     "name": "stdout",
     "output_type": "stream",
     "text": [
      "quotient: 5 and remainder: 2\n"
     ]
    }
   ],
   "source": [
    "print(f\"quotient: {17//3} and remainder: {17%3}\")"
   ]
  },
  {
   "cell_type": "markdown",
   "metadata": {},
   "source": [
    "Create two integer variables `a, b` of your choice and swap their content."
   ]
  },
  {
   "cell_type": "code",
   "execution_count": 2,
   "metadata": {},
   "outputs": [
    {
     "name": "stdout",
     "output_type": "stream",
     "text": [
      "a : 8, b: 5\n"
     ]
    }
   ],
   "source": [
    "a, b = 5, 8\n",
    "b, a = a, b \n",
    "\n",
    "print(f\"a : {a}, b: {b}\")"
   ]
  },
  {
   "cell_type": "markdown",
   "metadata": {},
   "source": [
    "Modify `a` inplace, so that the new value of `a` is twice its previous value."
   ]
  },
  {
   "cell_type": "code",
   "execution_count": 16,
   "metadata": {},
   "outputs": [
    {
     "name": "stdout",
     "output_type": "stream",
     "text": [
      "initial a: 8\n",
      "new value of a: 16\n"
     ]
    }
   ],
   "source": [
    "print(f\"initial a: {a}\")\n",
    "a = 2* a\n",
    "print(f\"new value of a: {a}\")"
   ]
  },
  {
   "cell_type": "markdown",
   "metadata": {},
   "source": [
    "Define a complex number `z` object and print it as\n",
    "\n",
    "`(real=z.real, imag=z.imaginary)`"
   ]
  },
  {
   "cell_type": "code",
   "execution_count": 19,
   "metadata": {},
   "outputs": [
    {
     "name": "stdout",
     "output_type": "stream",
     "text": [
      "real : 4.0, imaginary : 8.0\n"
     ]
    }
   ],
   "source": [
    "z = complex(4,8)\n",
    "real = z.real\n",
    "imag = z.imag\n",
    "print(f\"real : {real}, imaginary : {imag}\")"
   ]
  },
  {
   "cell_type": "markdown",
   "metadata": {},
   "source": [
    "## Strings\n"
   ]
  },
  {
   "cell_type": "markdown",
   "metadata": {},
   "source": [
    "Propose two ways to define an empty string"
   ]
  },
  {
   "cell_type": "code",
   "execution_count": 20,
   "metadata": {},
   "outputs": [
    {
     "name": "stdout",
     "output_type": "stream",
     "text": [
      "option 1 : , option 2: \n"
     ]
    }
   ],
   "source": [
    "str1= \"\"\n",
    "str2=str()\n",
    "print(f\"option 1 : {str1}, option 2: {str2}\")"
   ]
  },
  {
   "cell_type": "markdown",
   "metadata": {},
   "source": [
    "Define a string made of the 26 letters of the alphabet (lower case), then\n",
    "- What is the 12th letter of the alphabet\n",
    "- What are the 10 last letters of the alphabet\n",
    "- What are the 5th to the 10th letters of the alphabet\n",
    "- Create a new string where the 26 letters are converted to upper case."
   ]
  },
  {
   "cell_type": "code",
   "execution_count": 32,
   "metadata": {},
   "outputs": [
    {
     "name": "stdout",
     "output_type": "stream",
     "text": [
      "abcdefghijklmnopqrstuvwxyz\n",
      "12th letter is l\n",
      "10 last letters are qrstuvwxyz\n",
      "5th to 10th letters are efghi\n",
      "ABCDEFGHIJKLMNOPQRSTUVWXYZ\n"
     ]
    }
   ],
   "source": [
    "alphabet = string.ascii_lowercase\n",
    "print(alphabet)\n",
    "print(f\"12th letter is {alphabet[11]}\") # We need to be careful with the index starting at 0 and not 1\n",
    "print(f\"10 last letters are {alphabet[-10:]}\")\n",
    "print(f\"5th to 10th letters are {alphabet[4:9]}\") \n",
    "ALPHABET = str.upper(alphabet)\n",
    "print(ALPHABET)"
   ]
  },
  {
   "cell_type": "markdown",
   "metadata": {},
   "source": [
    "Extract the first 4 digits of the number `x = 2341324530045968` (answer is `2341`)."
   ]
  },
  {
   "cell_type": "code",
   "execution_count": 37,
   "metadata": {},
   "outputs": [
    {
     "data": {
      "text/plain": [
       "2341"
      ]
     },
     "execution_count": 37,
     "metadata": {},
     "output_type": "execute_result"
    }
   ],
   "source": [
    "x = 2341324530045968\n",
    "x =str(x)\n",
    "int(x[:4])"
   ]
  },
  {
   "cell_type": "markdown",
   "metadata": {},
   "source": [
    "## Lists"
   ]
  },
  {
   "cell_type": "markdown",
   "metadata": {},
   "source": [
    "Propose two ways to define an empty list."
   ]
  },
  {
   "cell_type": "code",
   "execution_count": 41,
   "metadata": {},
   "outputs": [
    {
     "data": {
      "text/plain": [
       "([], [])"
      ]
     },
     "execution_count": 41,
     "metadata": {},
     "output_type": "execute_result"
    }
   ],
   "source": [
    "L1 = []\n",
    "L2 = list()\n",
    "L1,L2"
   ]
  },
  {
   "cell_type": "markdown",
   "metadata": {},
   "source": [
    "Create the list of consecutive integers from 5 to 11."
   ]
  },
  {
   "cell_type": "code",
   "execution_count": 43,
   "metadata": {},
   "outputs": [
    {
     "data": {
      "text/plain": [
       "[5, 6, 7, 8, 9, 10, 11]"
      ]
     },
     "execution_count": 43,
     "metadata": {},
     "output_type": "execute_result"
    }
   ],
   "source": [
    "L = [i for i in range (5,12)]\n",
    "L"
   ]
  },
  {
   "cell_type": "markdown",
   "metadata": {},
   "source": [
    "Add `100` to this list."
   ]
  },
  {
   "cell_type": "code",
   "execution_count": 44,
   "metadata": {},
   "outputs": [],
   "source": [
    "L.append(100)"
   ]
  },
  {
   "cell_type": "markdown",
   "metadata": {},
   "source": [
    "Given the following list, \n",
    "Change the `\"sdia\"` to its reverse (`\"aids\"`)."
   ]
  },
  {
   "cell_type": "code",
   "execution_count": 4,
   "metadata": {},
   "outputs": [],
   "source": [
    "x = [10, [3, 4], [5, [100, 200, [\"sdia\"]], 23, 11], 1, 7]"
   ]
  },
  {
   "cell_type": "code",
   "execution_count": 6,
   "metadata": {},
   "outputs": [
    {
     "name": "stdout",
     "output_type": "stream",
     "text": [
      "aids\n"
     ]
    }
   ],
   "source": [
    "print(x[2][1][2][0][::-1])\n"
   ]
  },
  {
   "cell_type": "markdown",
   "metadata": {},
   "source": [
    "Given the following list, \n",
    "\n",
    "  1. extract the first two items\n",
    "  2. extract the last two items\n",
    "  3. find the index of the first occurence of `9`\n",
    "  4. extract the items located at odd indices\n",
    "  5. create a new list which corresponds to the reversed version of the originial list\n",
    "  6. create a new list where each item of the original list is raised to the power 3"
   ]
  },
  {
   "cell_type": "code",
   "execution_count": 11,
   "metadata": {},
   "outputs": [],
   "source": [
    "x = [3, 7, 5, 3, 8, 6, 8, 8, 0, 7, 3, 9, 3, 4, 2, 7, 0, 9, 5, 0, 0, 9, 0, 9, 3, 1, 4, 0, 5, 5, 5, 8, 9, 9, 5, 5, 4, 9, 5, 6, 2, 8, 5, 2, 4, 9, 2, 2, 3, 1]\n"
   ]
  },
  {
   "cell_type": "code",
   "execution_count": 98,
   "metadata": {},
   "outputs": [
    {
     "name": "stdout",
     "output_type": "stream",
     "text": [
      "first 2 items [3, 7]\n",
      "last 2 items [3, 1]\n"
     ]
    }
   ],
   "source": [
    "print(f\"first 2 items {x[:2]}\")\n",
    "print(f\"last 2 items {x[-2:]}\")"
   ]
  },
  {
   "cell_type": "code",
   "execution_count": 99,
   "metadata": {},
   "outputs": [
    {
     "name": "stdout",
     "output_type": "stream",
     "text": [
      "Index of first occurence of 9 11\n"
     ]
    }
   ],
   "source": [
    "print(f\"Index of first occurence of 9 {x.index(9)}\")"
   ]
  },
  {
   "cell_type": "code",
   "execution_count": 12,
   "metadata": {},
   "outputs": [
    {
     "name": "stdout",
     "output_type": "stream",
     "text": [
      "items located at od indices [7, 3, 6, 8, 7, 9, 4, 7, 9, 0, 9, 9, 1, 0, 5, 8, 9, 5, 9, 6, 8, 2, 9, 2, 1]\n",
      "items located at od indices [7, 3, 6, 8, 7, 9, 4, 7, 9, 0, 9, 9, 1, 0, 5, 8, 9, 5, 9, 6, 8, 2, 9, 2, 1]\n"
     ]
    }
   ],
   "source": [
    "list_odd = [x[i] for i,_ in enumerate(x) if i%2==1]\n",
    "list_odd2 = x[1::2]\n",
    "print(f\"items located at odd indices {list_odd}\")\n",
    "print(f\"items located at odd indices {list_odd2}\")"
   ]
  },
  {
   "cell_type": "code",
   "execution_count": 105,
   "metadata": {},
   "outputs": [
    {
     "data": {
      "text/plain": [
       "array([1, 3, 2, 2, 9, 4, 2, 5, 8, 2, 6, 5, 9, 4, 5, 5, 9, 9, 8, 5, 5, 5,\n",
       "       0, 4, 1, 3, 9, 0, 9, 0, 0, 5, 9, 0, 7, 2, 4, 3, 9, 3, 7, 0, 8, 8,\n",
       "       6, 8, 3, 5, 7, 3])"
      ]
     },
     "execution_count": 105,
     "metadata": {},
     "output_type": "execute_result"
    }
   ],
   "source": [
    "reversed_list = x[::-1]\n",
    "np.array(reversed_list)"
   ]
  },
  {
   "cell_type": "code",
   "execution_count": 106,
   "metadata": {},
   "outputs": [],
   "source": [
    "\"\"\"\"\n",
    "def update_power_3(L,pow_3):\n",
    "    if type(L)==list:\n",
    "        intermed = []\n",
    "        for i in range (len(L)):\n",
    "            update_power_3(L[i],intermed)\n",
    "        pow_3.append(intermed)\n",
    "    else: \n",
    "        if type(L)==int:\n",
    "            pow_3.append(L**3)\n",
    "        else: \n",
    "            pow_3.append(L)"
   ]
  },
  {
   "cell_type": "code",
   "execution_count": 110,
   "metadata": {},
   "outputs": [
    {
     "data": {
      "text/plain": [
       "array([ 27, 343, 125,  27, 512, 216, 512, 512,   0, 343,  27, 729,  27,\n",
       "        64,   8, 343,   0, 729, 125,   0,   0, 729,   0, 729,  27,   1,\n",
       "        64,   0, 125, 125, 125, 512, 729, 729, 125, 125,  64, 729, 125,\n",
       "       216,   8, 512, 125,   8,  64, 729,   8,   8,  27,   1])"
      ]
     },
     "execution_count": 110,
     "metadata": {},
     "output_type": "execute_result"
    }
   ],
   "source": [
    "pow_3 = []\n",
    "#update_power_3(x,pow_3)\n",
    "np.array([i**3 for i in x])"
   ]
  },
  {
   "cell_type": "markdown",
   "metadata": {},
   "source": [
    "## Tuples"
   ]
  },
  {
   "cell_type": "markdown",
   "metadata": {},
   "source": [
    "\n",
    "Propose two ways to define an empty tuple."
   ]
  },
  {
   "cell_type": "code",
   "execution_count": 96,
   "metadata": {},
   "outputs": [
    {
     "data": {
      "text/plain": [
       "((), ())"
      ]
     },
     "execution_count": 96,
     "metadata": {},
     "output_type": "execute_result"
    }
   ],
   "source": [
    "tup1 = ()\n",
    "tup2 = tuple()\n",
    "tup1, tup2"
   ]
  },
  {
   "cell_type": "markdown",
   "metadata": {},
   "source": [
    "Given the following tuple\n",
    "- try to replace the second item (`4`) to `8`.\n",
    "- modify the list so that the second element of the first item is raised to the power 5 "
   ]
  },
  {
   "cell_type": "code",
   "execution_count": 15,
   "metadata": {},
   "outputs": [],
   "source": [
    "x = ([1, 2, 3], 4)"
   ]
  },
  {
   "cell_type": "code",
   "execution_count": 16,
   "metadata": {},
   "outputs": [
    {
     "ename": "TypeError",
     "evalue": "'tuple' object does not support item assignment",
     "output_type": "error",
     "traceback": [
      "\u001b[1;31m---------------------------------------------------------------------------\u001b[0m",
      "\u001b[1;31mTypeError\u001b[0m                                 Traceback (most recent call last)",
      "\u001b[1;32m<ipython-input-16-5e951af8f082>\u001b[0m in \u001b[0;36m<module>\u001b[1;34m\u001b[0m\n\u001b[1;32m----> 1\u001b[1;33m \u001b[0mx\u001b[0m\u001b[1;33m[\u001b[0m\u001b[1;36m1\u001b[0m\u001b[1;33m]\u001b[0m\u001b[1;33m=\u001b[0m \u001b[1;36m8\u001b[0m\u001b[1;33m\u001b[0m\u001b[1;33m\u001b[0m\u001b[0m\n\u001b[0m\u001b[0;32m      2\u001b[0m \u001b[0mx\u001b[0m\u001b[1;33m\u001b[0m\u001b[1;33m\u001b[0m\u001b[0m\n",
      "\u001b[1;31mTypeError\u001b[0m: 'tuple' object does not support item assignment"
     ]
    }
   ],
   "source": [
    "x[1]= 8\n",
    "x"
   ]
  },
  {
   "cell_type": "code",
   "execution_count": 17,
   "metadata": {},
   "outputs": [
    {
     "data": {
      "text/plain": [
       "([1, 32, 3], 4)"
      ]
     },
     "execution_count": 17,
     "metadata": {},
     "output_type": "execute_result"
    }
   ],
   "source": [
    "x[0][1] = x[0][1]**5\n",
    "x"
   ]
  },
  {
   "cell_type": "markdown",
   "metadata": {},
   "source": [
    "What is the main difference between a list and a tuple?"
   ]
  },
  {
   "cell_type": "markdown",
   "metadata": {},
   "source": [
    "Lists are mutable while tuples are immutable"
   ]
  },
  {
   "cell_type": "markdown",
   "metadata": {},
   "source": [
    "## Sets"
   ]
  },
  {
   "cell_type": "markdown",
   "metadata": {},
   "source": [
    "Create an empty set"
   ]
  },
  {
   "cell_type": "code",
   "execution_count": 18,
   "metadata": {},
   "outputs": [
    {
     "name": "stdout",
     "output_type": "stream",
     "text": [
      "<class 'set'>\n"
     ]
    }
   ],
   "source": [
    "emptySet = set()\n",
    "print(type(emptySet))"
   ]
  },
  {
   "cell_type": "markdown",
   "metadata": {},
   "source": [
    "Compute the intersection between $A = \\{1, 2, 3\\}$ and $B = \\{2, 4, 5, 6\\}$."
   ]
  },
  {
   "cell_type": "code",
   "execution_count": 22,
   "metadata": {},
   "outputs": [
    {
     "name": "stdout",
     "output_type": "stream",
     "text": [
      "{2}\n"
     ]
    }
   ],
   "source": [
    "A = {1, 2, 3}\n",
    "B = {2, 4, 5, 6}\n",
    "print(A.intersection(B))"
   ]
  },
  {
   "cell_type": "markdown",
   "metadata": {},
   "source": [
    "From the following set\n",
    "- add the numbers 4, 5, 6\n",
    "- remove the numbers 1, 2, 3\n",
    "- check if the resulting set is contained in `{1, 2, 4, 5, 6, 10}` "
   ]
  },
  {
   "cell_type": "code",
   "execution_count": 25,
   "metadata": {},
   "outputs": [],
   "source": [
    "x = {0, 1, 2, 3, 6, 7, 8, 9, 10}"
   ]
  },
  {
   "cell_type": "code",
   "execution_count": 29,
   "metadata": {},
   "outputs": [
    {
     "name": "stdout",
     "output_type": "stream",
     "text": [
      "{0, 1, 2, 3, 5, 6, 7, 8, 9, 10}\n"
     ]
    }
   ],
   "source": [
    "x |= {3, 5, 6}\n",
    "print (x)"
   ]
  },
  {
   "cell_type": "code",
   "execution_count": 30,
   "metadata": {},
   "outputs": [
    {
     "name": "stdout",
     "output_type": "stream",
     "text": [
      "{0, 5, 6, 7, 8, 9, 10}\n"
     ]
    }
   ],
   "source": [
    "x -= {1, 2, 3}\n",
    "print (x)"
   ]
  },
  {
   "cell_type": "code",
   "execution_count": 32,
   "metadata": {},
   "outputs": [
    {
     "name": "stdout",
     "output_type": "stream",
     "text": [
      "not contained\n"
     ]
    }
   ],
   "source": [
    "test = {1, 2, 4, 5, 6, 10}\n",
    "if x in test:\n",
    "    print('is contained')\n",
    "else:\n",
    "    print('not contained')"
   ]
  },
  {
   "cell_type": "markdown",
   "metadata": {},
   "source": [
    "## Dictionnaries"
   ]
  },
  {
   "cell_type": "markdown",
   "metadata": {},
   "source": [
    "Propose two ways to define an empty dictionary"
   ]
  },
  {
   "cell_type": "code",
   "execution_count": 119,
   "metadata": {},
   "outputs": [
    {
     "data": {
      "text/plain": [
       "({}, {})"
      ]
     },
     "execution_count": 119,
     "metadata": {},
     "output_type": "execute_result"
    }
   ],
   "source": [
    "d1 = {}\n",
    "d2 = dict()\n",
    "\n",
    "d1,d2"
   ]
  },
  {
   "cell_type": "markdown",
   "metadata": {},
   "source": [
    "Propose at least 3 ways to define a dictionary with \n",
    "- keys `(\"a\", \"b\", \"c\", \"d\")`\n",
    "- values `(1, 3, 5 , 7)`"
   ]
  },
  {
   "cell_type": "code",
   "execution_count": 120,
   "metadata": {},
   "outputs": [
    {
     "data": {
      "text/plain": [
       "({'a': 1, 'b': 3, 'c': 5, 'd': 7},\n",
       " {'a': 1, 'b': 3, 'c': 5, 'd': 7},\n",
       " {'a': 1, 'b': 3, 'c': 5, 'd': 7})"
      ]
     },
     "execution_count": 120,
     "metadata": {},
     "output_type": "execute_result"
    }
   ],
   "source": [
    "d1 = {\"a\":1,\n",
    "      \"b\":3,\n",
    "      \"c\":5,\n",
    "      \"d\": 7}\n",
    "d2 =  dict(a=1, b=3, c=5, d=7)\n",
    "key_value_pairs = [(\"a\", 1), (\"b\", 3), (\"c\", 5), (\"d\", 7)]\n",
    "d3 = dict(key_value_pairs)\n",
    "\n",
    "d1, d2, d3"
   ]
  },
  {
   "cell_type": "markdown",
   "metadata": {},
   "source": [
    "Given the following dictionary, use indexing to get to the word `\"sdia\"`"
   ]
  },
  {
   "cell_type": "code",
   "execution_count": 33,
   "metadata": {},
   "outputs": [],
   "source": [
    "d = {\n",
    "    \"outer\": [\n",
    "        1,\n",
    "        2,\n",
    "        3,\n",
    "        {\"inner\": [\"this\", \"is\", \"inception\", {\"inner_inner\": [1, 2, 3, \"sdia\"]}]},\n",
    "    ]\n",
    "}"
   ]
  },
  {
   "cell_type": "code",
   "execution_count": 40,
   "metadata": {},
   "outputs": [
    {
     "name": "stdout",
     "output_type": "stream",
     "text": [
      "sdia\n"
     ]
    }
   ],
   "source": [
    "print(d[\"outer\"][3][\"inner\"][3][\"inner_inner\"][3])\n"
   ]
  },
  {
   "cell_type": "markdown",
   "metadata": {},
   "source": [
    "From the following dictionary,\n",
    "- Create the list of keys\n",
    "- Create the list of values\n",
    "- Check if the key `\"abc\"` is present, if not, return `123`.\n",
    "- Merge the initial dictionary with `{\"e\": -1, 4: True}`"
   ]
  },
  {
   "cell_type": "code",
   "execution_count": 41,
   "metadata": {},
   "outputs": [],
   "source": [
    "d1 = dict(zip([(0, 1), \"e\", 1, None], [\"abc\", 4, None, 1 + 2j]))"
   ]
  },
  {
   "cell_type": "code",
   "execution_count": 42,
   "metadata": {},
   "outputs": [
    {
     "name": "stdout",
     "output_type": "stream",
     "text": [
      "List of keys: [(0, 1), 'e', 1, None]\n"
     ]
    }
   ],
   "source": [
    "# Create a list of keys\n",
    "keys_list = list(d1.keys())\n",
    "\n",
    "print(\"List of keys:\", keys_list)"
   ]
  },
  {
   "cell_type": "code",
   "execution_count": null,
   "metadata": {},
   "outputs": [],
   "source": [
    "# Create a list of values\n",
    "values_list = list(d1.values())\n",
    "\n",
    "print(\"List of values:\", values_list)"
   ]
  },
  {
   "cell_type": "code",
   "execution_count": null,
   "metadata": {},
   "outputs": [],
   "source": []
  },
  {
   "cell_type": "code",
   "execution_count": null,
   "metadata": {},
   "outputs": [],
   "source": []
  },
  {
   "cell_type": "markdown",
   "metadata": {},
   "source": [
    "## Conditions"
   ]
  },
  {
   "cell_type": "markdown",
   "metadata": {},
   "source": [
    "Propose two ways to construct the list of odd values ranging from 0 to 30"
   ]
  },
  {
   "cell_type": "code",
   "execution_count": 47,
   "metadata": {},
   "outputs": [
    {
     "name": "stdout",
     "output_type": "stream",
     "text": [
      "[1, 3, 5, 7, 9, 11, 13, 15, 17, 19, 21, 23, 25, 27, 29] [1, 3, 5, 7, 9, 11, 13, 15, 17, 19, 21, 23, 25, 27, 29]\n"
     ]
    }
   ],
   "source": [
    "odd = [*range(1, 30, 2)]\n",
    "odd1 = [i for i in range(30) if i%2==1]\n",
    "print(odd, odd1)"
   ]
  },
  {
   "cell_type": "markdown",
   "metadata": {},
   "source": [
    "From the following list, create another list which contains\n",
    "- `\"fiz\"` if the item is a multiple of 5,\n",
    "- `\"buz\"` if the item is a multiple of 7,\n",
    "- `\"fizbuz\"` if the item is a both a multiple of 5 and 7,\n",
    "- the index of the item otherwise."
   ]
  },
  {
   "cell_type": "code",
   "execution_count": 51,
   "metadata": {},
   "outputs": [],
   "source": [
    "x = [2, 1, 3, 31, 35, 20, 70, 132, 144, 49]"
   ]
  },
  {
   "cell_type": "code",
   "execution_count": 52,
   "metadata": {},
   "outputs": [
    {
     "name": "stdout",
     "output_type": "stream",
     "text": [
      "[35, 20, 70]\n"
     ]
    }
   ],
   "source": [
    "fiz = [a for a in x if a%5 == 0]\n",
    "print(fiz)"
   ]
  },
  {
   "cell_type": "code",
   "execution_count": 54,
   "metadata": {},
   "outputs": [
    {
     "name": "stdout",
     "output_type": "stream",
     "text": [
      "[35, 70, 49]\n"
     ]
    }
   ],
   "source": [
    "buz = [b for b in x if b%7 == 0]\n",
    "print(buz)"
   ]
  },
  {
   "cell_type": "code",
   "execution_count": 56,
   "metadata": {},
   "outputs": [
    {
     "name": "stdout",
     "output_type": "stream",
     "text": [
      "[35, 70]\n"
     ]
    }
   ],
   "source": [
    "fizbuz = [c for c in x if c%7 == 0 and c%5 == 0]\n",
    "print(fizbuz)"
   ]
  },
  {
   "cell_type": "markdown",
   "metadata": {},
   "source": [
    "Given a string variable `course`, construct a `if/elif/else` statement that prints:\n",
    "- `\"That is very useful!\"` if `course` is `\"maths\"` (any kind of capitalization)\n",
    "- `\"That is very useful!\"` if `course` is `\"python\"` (any kind of capitalization)\n",
    "- `\"How nice!\"` if `course` is `\"meditation\"` (any kind of capitalization)\n",
    "- `\"You're not at Hogwarts\"` if `course` is `\"magic\"` (any kind of capitalization)\n",
    "- otherwise `\"What is this COURSE?\"` if `course` is anything else."
   ]
  },
  {
   "cell_type": "code",
   "execution_count": 63,
   "metadata": {},
   "outputs": [
    {
     "name": "stdout",
     "output_type": "stream",
     "text": [
      "What is this COURSE ?\n"
     ]
    }
   ],
   "source": [
    "course = \"banane\"\n",
    "if course == \"maths\" : \n",
    "    print(\"That is very useful!\")\n",
    "elif course == \"python\" : \n",
    "    print(\"That is very useful!\")\n",
    "elif course == \"meditation\" : \n",
    "    print(\"How nice!\")\n",
    "elif course == \"magic\" : \n",
    "    print (\"You're not at Hogwarts\")\n",
    "else:\n",
    "    print(\"What is this COURSE ?\")\n",
    "\n",
    "    "
   ]
  },
  {
   "cell_type": "markdown",
   "metadata": {},
   "source": [
    "Given the following variables, create and print the string\n",
    "\n",
    "``quantity`` ``fruit``(s) cost(s) $``price``\n",
    "\n",
    "such that\n",
    "- there is an `\"s\"` at `\"cost\"` when there is more only one fruit,\n",
    "- there is an `\"s\"` at `\"fruit\"` when there is more that one fruit,\n",
    "- the price is displayed as ...,xxx,xxx.yy where yy corresponds rounded cents value"
   ]
  },
  {
   "cell_type": "code",
   "execution_count": 68,
   "metadata": {},
   "outputs": [],
   "source": [
    "quantity = 2\n",
    "fruit = \"avocado\"\n",
    "price = 1.8912392e4"
   ]
  },
  {
   "cell_type": "code",
   "execution_count": 70,
   "metadata": {},
   "outputs": [
    {
     "name": "stdout",
     "output_type": "stream",
     "text": [
      "2 avocados cost 18,912.39\n"
     ]
    }
   ],
   "source": [
    "formatted_price = \"{:,.2f}\".format(price)\n",
    "if quantity > 1: \n",
    "    print(f'{quantity} {fruit}s cost {formatted_price}')\n",
    "elif quantity ==1:\n",
    "    print(f'{quantity} {fruit} costs {formatted_price}')\n",
    "        \n",
    "    "
   ]
  },
  {
   "cell_type": "markdown",
   "metadata": {},
   "source": [
    "## Functions"
   ]
  },
  {
   "cell_type": "markdown",
   "metadata": {},
   "source": [
    "Define the function `is_unique(x)` which takes a list of integers `x` as input and returns `True` if the there is no duplicate items otherwise return `False`."
   ]
  },
  {
   "cell_type": "code",
   "execution_count": 101,
   "metadata": {},
   "outputs": [
    {
     "data": {
      "text/plain": [
       "False"
      ]
     },
     "execution_count": 101,
     "metadata": {},
     "output_type": "execute_result"
    }
   ],
   "source": [
    "y = [1, 2, 4, 4]\n",
    "\n",
    "def is_unique(list1):\n",
    "    # this function scans the elements of the list, compares them with an initially empty list \n",
    "    # and adds them if they don't already belong to the list\n",
    "    values =[]\n",
    "    #verify that the argument of the function is a list of integer\n",
    "    if isinstance(list1, list):\n",
    "        # scan of the list in argument\n",
    "        for element in list1: \n",
    "            if not isinstance(element, int):\n",
    "                print(\"As a reminder, arg should be a list of integers\")\n",
    "                break\n",
    "            else:\n",
    "                #comparison to the list which contains the previous element\n",
    "                if element not in values : \n",
    "                    #add new value to the comparative list\n",
    "                    values.append(element)\n",
    "                else : \n",
    "                    #if a doublon was founded\n",
    "                    return False\n",
    "                    \n",
    "    else:\n",
    "        print(\"As a reminder, arg* should be a list of integers\")\n",
    "    #if no doublon was founded\n",
    "    return True\n",
    "\n",
    "is_unique(y)"
   ]
  },
  {
   "cell_type": "markdown",
   "metadata": {},
   "source": [
    "Define a function `triangle_shape(height)`, that returns \n",
    "- `\"\"` if `height=0`, \n",
    "- otherwise it returns a string that forms a triangle with height prescribed by `height`.\n",
    "\n",
    "**Examples**\n",
    "\n",
    "height=1\n",
    "```\n",
    "x\n",
    "```\n",
    "\n",
    "height=2\n",
    "```\n",
    " x \n",
    "xxx\n",
    "```\n",
    "\n",
    "height=3\n",
    "```\n",
    "  x  \n",
    " xxx \n",
    "xxxxx\n",
    "```\n",
    "\n",
    "height=4\n",
    "```\n",
    "   x   \n",
    "  xxx  \n",
    " xxxxx \n",
    "xxxxxxx\n",
    "```\n",
    "\n",
    "height=5\n",
    "```\n",
    "    x    \n",
    "   xxx   \n",
    "  xxxxx  \n",
    " xxxxxxx \n",
    "xxxxxxxxx\n",
    "```\n",
    "\n",
    "height=6\n",
    "```\n",
    "     x     \n",
    "    xxx    \n",
    "   xxxxx   \n",
    "  xxxxxxx  \n",
    " xxxxxxxxx \n",
    "xxxxxxxxxxx\n",
    "```"
   ]
  },
  {
   "cell_type": "code",
   "execution_count": 116,
   "metadata": {},
   "outputs": [
    {
     "name": "stdout",
     "output_type": "stream",
     "text": [
      "      x \n",
      "\n",
      "     xxx \n",
      "\n",
      "    xxxxx \n",
      "\n",
      "   xxxxxxx \n",
      "\n",
      "  xxxxxxxxx \n",
      "\n"
     ]
    }
   ],
   "source": [
    "# à chaque fois la dernière ligne à 2(X-1)+1 ou 2X -1\n",
    "\n",
    "def triangle_shape(height):\n",
    "    x = \"x\"\n",
    "    if height == 0:\n",
    "        return \"\"\n",
    "    for i in range(1, height +1 ):\n",
    "        print((height +1-i) * \" \",(2*i-1) * x ,\"\\n\")\n",
    "\n",
    "triangle_shape(5)"
   ]
  }
 ],
 "metadata": {
  "kernelspec": {
   "display_name": "Python 3",
   "language": "python",
   "name": "python3"
  },
  "language_info": {
   "codemirror_mode": {
    "name": "ipython",
    "version": 3
   },
   "file_extension": ".py",
   "mimetype": "text/x-python",
   "name": "python",
   "nbconvert_exporter": "python",
   "pygments_lexer": "ipython3",
   "version": "3.8.8"
  },
  "vscode": {
   "interpreter": {
    "hash": "916dbcbb3f70747c44a77c7bcd40155683ae19c65e1c03b4aa3499c5328201f1"
   }
  }
 },
 "nbformat": 4,
 "nbformat_minor": 2
}
