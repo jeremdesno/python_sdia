{
 "cells": [
  {
   "cell_type": "markdown",
   "metadata": {},
   "source": [
    "## TP3 : Logistic regression\n",
    "\n",
    "The purpose of this tutorial is to implement and use the Logistic Regression for binary classification. We will apply this\n",
    "method to the problem of handwritten characters to learn how to\n",
    "distinguish two numbers (here 5 and 6).\n"
   ]
  },
  {
   "cell_type": "code",
   "execution_count": 1,
   "metadata": {},
   "outputs": [],
   "source": [
    "from pylab import *\n",
    "#import numpy as np\n",
    "#import matplotlib.pyplot as plt\n",
    "import  seaborn as sns \n",
    "import pandas as pd\n",
    "from numpy import random\n",
    "from numpy import linalg as la"
   ]
  },
  {
   "cell_type": "markdown",
   "metadata": {},
   "source": [
    "## 1. Logistic regression, IRLS algorithm."
   ]
  },
  {
   "cell_type": "markdown",
   "metadata": {},
   "source": [
    "### Preliminary question: the algorithm"
   ]
  },
  {
   "cell_type": "markdown",
   "metadata": {},
   "source": [
    "#### Have a look at the function `regression_logistique.m` and locate the main steps of the algorithm you have been taught (see course).\n",
    "You can comment the code in the cell below."
   ]
  },
  {
   "cell_type": "code",
   "execution_count": 2,
   "metadata": {},
   "outputs": [],
   "source": [
    "def regression_logistique(X,t,Nitermax=20,eps_conv=1e-3):\n",
    "    '''Entrees :\n",
    "    X = [ones(N_train,1) x_train];\n",
    "    t = class_train \n",
    "    Nitermax = nombre maximale d'itérations (20 par défaut)\n",
    "    eps_conv = critère de convergence sur norm(w-w_old)/norm(w) ; \n",
    "    eps_conv=1e-3 par défaut\n",
    "    \n",
    "    Sorties : \n",
    "    w : vecteur des coefficients de régression logistique\n",
    "   Niter : nombre d'itérations utilisées effectivement\n",
    "   \n",
    "   Fonction de régression logistique pour la classification binaire.\n",
    "   \n",
    "   Utilisation :\n",
    "       Nitermax = 50\n",
    "       eps_conv = 1e-4\n",
    "       [w,Niter] = regression_logistique(X,t,Nitermax,eps_conv)\n",
    "    '''\n",
    "    N_train = X.shape[0]\n",
    "\n",
    "    #initialisation : 1 pas de l'algorithme IRLS\n",
    "    w = np.zeros((X.shape[1],))\n",
    "    w_old = w \n",
    "    y = 1/2*np.ones((N_train,))\n",
    "    R = np.diag(y*(1-y))   # diag(y_n(1-y_n))\n",
    "    z = X.dot(w_old)-la.inv(R).dot(y-t)\n",
    "    w = la.inv(X.T.dot(R).dot(X)).dot(X.T).dot(R).dot(z)\n",
    "\n",
    "    # boucle appliquant l'algorithme de Newton-Raphson\n",
    "    Niter = 1\n",
    "    while ( (la.norm(w-w_old)/la.norm(w)>eps_conv) & (Niter<Nitermax) ):\n",
    "        Niter = Niter+1\n",
    "        y = 1/(1+np.exp(-X.dot(w)))\n",
    "        R = np.diag(y*(1-y))  \n",
    "        w_old = w \n",
    "        z = X.dot(w_old)-la.inv(R).dot(y-t) \n",
    "        w = la.inv(X.T.dot(R).dot(X)).dot(X.T).dot(R).dot(z)\n",
    "         \n",
    "    return w, Niter\n"
   ]
  },
  {
   "cell_type": "markdown",
   "metadata": {},
   "source": [
    "### Reading & preparing synthetic data\n",
    "\n",
    "Load the training and test data sets `synth_train.txt`\n",
    "and `synth_test.txt`. The targets t belong to {1,2} and the features  \n",
    "x belong to R^2. \n",
    "\n",
    "We have 100 training samples and 200 test samples\n",
    "\n",
    "* the 1st column contains the label of each sample, \n",
    "* columns 2 and 3 contain the coordinate of each point."
   ]
  },
  {
   "cell_type": "code",
   "execution_count": 3,
   "metadata": {},
   "outputs": [
    {
     "name": "stdout",
     "output_type": "stream",
     "text": [
      "[ 4  7 14 31 32 34 46 52 55 57 65 68 69 80 81 83 94 95 96 97 98 99]\n"
     ]
    }
   ],
   "source": [
    "# Training set\n",
    "synth_train = np.loadtxt('synth_train.txt') \n",
    "class_train = synth_train[:,0]\n",
    "class_train_1 = np.where(synth_train[:,0]==1)[0]\n",
    "class_train_2 = np.where(synth_train[:,0]==2)[0]\n",
    "x_train = synth_train[:,1:]\n",
    "N_train = np.size(x_train,axis=0)\n",
    "\n",
    "print(class_train_1)\n",
    "# Test set\n",
    "synth_test = np.loadtxt('synth_test.txt')\n",
    "class_test = synth_test[:,0]\n",
    "class_test_1 = np.where(synth_test[:,0]==1)[0]\n",
    "class_test_2 = np.where(synth_test[:,0]==2)[0]\n",
    "x_test = synth_test[:,1:]\n",
    "N_test = np.size(x_test,axis=0)\n"
   ]
  },
  {
   "cell_type": "markdown",
   "metadata": {},
   "source": [
    "### Preparing features for logistic regression (binary classification)\n",
    "First, we prepare the feature matrix and the target vector associated to \n",
    "the training and test sets:\n"
   ]
  },
  {
   "cell_type": "code",
   "execution_count": 4,
   "metadata": {},
   "outputs": [],
   "source": [
    "X = np.hstack((np.ones((N_train,1)),x_train))\n",
    "t = 2-class_train   # 0 if class=2, 1 if class=1\n",
    "\n",
    "X_test = np.hstack((np.ones((N_test,1)),x_test))\n",
    "t_test = 2-class_test   # 0 if class=2, 1 if class=1"
   ]
  },
  {
   "cell_type": "markdown",
   "metadata": {},
   "source": [
    "### Exercise 1 : the logistic function of decision\n",
    "\n",
    "1. Use the function `regression_logistique.m` to estimate the logistic\n",
    "regression vector `w`. *Indication : use `Nitermax = 50;\n",
    "eps_conv=1e-3;`.*\n",
    "2. Compute the decision function $f(x) = argmax_k P(C_k|x)$ on the test set\n",
    "to get the classification results. Recall that $y_n=\\sigma(w^T x)$ (logistic function)\n",
    "and that *using vectors* you may directly write $y=\\sigma(Xw)$, with the\n",
    "column of ones in X.\n",
    "3. Display the results by plotting the points from both the training set\n",
    "and the test set.\n",
    "4. Write the equation which defines the decision boundary.\n",
    "5. Artificially add a few points to the training set far from the decision boundary to check the robustness of logistic regression to outliers. Check the behaviour of LDA for comparison in this case and comment. \n"
   ]
  },
  {
   "cell_type": "code",
   "execution_count": 5,
   "metadata": {},
   "outputs": [],
   "source": [
    "#Exercise 1\n",
    "w, Niter = regression_logistique(X, t,Nitermax=50,eps_conv=1e-3)\n",
    "\n",
    "#Train set\n",
    "y = 1/(1+np.exp(-X.dot(w)))\n",
    "y_train_pred = np.where(y > 0.5, 1, 0)\n",
    "\n",
    "\n",
    "\n",
    "\n",
    "\n",
    "#Test set \n",
    "y = 1/(1+np.exp(-X_test.dot(w)))\n",
    "y_test_pred = np.where(y > 0.5, 1, 0)\n",
    "\n",
    "#..."
   ]
  },
  {
   "cell_type": "code",
   "execution_count": 6,
   "metadata": {},
   "outputs": [
    {
     "name": "stdout",
     "output_type": "stream",
     "text": [
      "TP : 20, TN : 77, FP : 1, FN : 2, accuracy : 0.97, precision : 0.9090909090909091, recall : 0.9523809523809523\n"
     ]
    }
   ],
   "source": [
    "# Result Train set\n",
    "TP = np.where(y_train_pred + t == 2, 1, 0).sum()\n",
    "TN = np.where(y_train_pred + t == 0, 1, 0).sum()\n",
    "FP = np.where(y_train_pred - t == 1, 1, 0).sum()\n",
    "FN = np.where(y_train_pred - t == -1, 1, 0).sum()\n",
    "\n",
    "pred_correct = TP + TN\n",
    "pred_false = N_train - pred_correct\n",
    "accuracy = pred_correct / N_train\n",
    "precision = TP / (TP + FN)\n",
    "recall  = TP / (TP + FP)\n",
    "print(f\"TP : {TP}, TN : {TN}, FP : {FP}, FN : {FN}, accuracy : {accuracy}, precision : {precision}, recall : {recall}\")"
   ]
  },
  {
   "cell_type": "code",
   "execution_count": 7,
   "metadata": {},
   "outputs": [
    {
     "name": "stdout",
     "output_type": "stream",
     "text": [
      "TP : 52, TN : 136, FP : 2, FN : 10, accuracy : 0.94, precision : 0.8387096774193549, recall : 0.9629629629629629\n"
     ]
    }
   ],
   "source": [
    "TP = np.where(y_test_pred + t_test == 2, 1, 0).sum()\n",
    "TN = np.where(y_test_pred + t_test == 0, 1, 0).sum()\n",
    "FP = np.where(y_test_pred - t_test == 1, 1, 0).sum()\n",
    "FN = np.where(y_test_pred - t_test == -1, 1, 0).sum()\n",
    "\n",
    "pred_correct = TP + TN\n",
    "pred_false = N_test - pred_correct\n",
    "accuracy = pred_correct / N_test\n",
    "precision = TP / (TP + FN)\n",
    "recall  = TP / (TP + FP)\n",
    "print(f\"TP : {TP}, TN : {TN}, FP : {FP}, FN : {FN}, accuracy : {accuracy}, precision : {precision}, recall : {recall}\")"
   ]
  },
  {
   "cell_type": "markdown",
   "metadata": {},
   "source": [
    "You can draw the decision boundary $w^Tx = 0$ by using: \n"
   ]
  },
  {
   "cell_type": "code",
   "execution_count": 8,
   "metadata": {},
   "outputs": [
    {
     "data": {
      "image/png": "[encoded data removed]",
      "text/plain": [
       "<Figure size 432x288 with 1 Axes>"
      ]
     },
     "metadata": {
      "needs_background": "light"
     },
     "output_type": "display_data"
    }
   ],
   "source": [
    "# First compute w... then: \n",
    "x1 = np.linspace(-2.5,1.5,10) \n",
    "x2 = (-w[0]-w[1]*x1)/w[2]\n",
    "plt.plot(x1,x2,'k--')\n",
    "\n",
    "# Plot the data\n",
    "\n",
    "plt.scatter(x_train[class_train_1][:,0], x_train[class_train_1][:,1])\n",
    "\n",
    "plt.scatter(x_train[class_train_2][:,0], x_train[class_train_2][:,1])\n",
    "\n",
    "plt.title(\"Train set repartition\")\n",
    "plt.xlabel(\"x\")\n",
    "plt.ylabel(\"y\")\n",
    "\n",
    "\n",
    "plt.show()\n",
    "# ..."
   ]
  },
  {
   "cell_type": "code",
   "execution_count": 9,
   "metadata": {},
   "outputs": [
    {
     "data": {
      "image/png": "[encoded data removed]",
      "text/plain": [
       "<Figure size 432x288 with 1 Axes>"
      ]
     },
     "metadata": {
      "needs_background": "light"
     },
     "output_type": "display_data"
    }
   ],
   "source": [
    "plt.plot(x1,x2,'k--')\n",
    "\n",
    "\n",
    "plt.scatter(x_test[class_test_1][:,0], x_test[class_test_1][:,1])\n",
    "\n",
    "plt.scatter(x_test[class_test_2][:,0], x_test[class_test_2][:,1])\n",
    "\n",
    "plt.title(\"Test set repartition\")\n",
    "plt.xlabel(\"x\")\n",
    "plt.ylabel(\"y\")\n",
    "\n",
    "plt.show()"
   ]
  },
  {
   "cell_type": "markdown",
   "metadata": {},
   "source": [
    "## 2. Application: handwritten digits recognition 5 & 6\n",
    "We load 2 matrices which contain each a sequence of examples of 16x16 images \n",
    "of handwritten digits which are 5 and 6 here. Each line of the matrix\n",
    "contains 256 pixel values coding for the gray level of a 16x16 image."
   ]
  },
  {
   "cell_type": "code",
   "execution_count": 10,
   "metadata": {},
   "outputs": [],
   "source": [
    "train_5 = np.loadtxt('train_5.txt',delimiter=',')   # 556 samples\n",
    "train_6 = np.loadtxt('train_6.txt',delimiter=',')   # 664 samples"
   ]
  },
  {
   "cell_type": "code",
   "execution_count": 11,
   "metadata": {},
   "outputs": [],
   "source": [
    "N_5 = train_5.shape[0]\n",
    "N_6 = train_6.shape[0]\n"
   ]
  },
  {
   "cell_type": "markdown",
   "metadata": {},
   "source": [
    "### Examples of images\n"
   ]
  },
  {
   "cell_type": "code",
   "execution_count": 12,
   "metadata": {},
   "outputs": [
    {
     "data": {
      "image/png": "[encoded data removed]",
      "text/plain": [
       "<Figure size 432x288 with 1 Axes>"
      ]
     },
     "metadata": {
      "needs_background": "light"
     },
     "output_type": "display_data"
    }
   ],
   "source": [
    "# Digit 5\n",
    "n=9;\n",
    "I = np.reshape(train_5[n,:],(16,16))\n",
    "\n",
    "plt.imshow(I,cmap='gray')\n",
    "plt.show()"
   ]
  },
  {
   "cell_type": "code",
   "execution_count": 13,
   "metadata": {},
   "outputs": [
    {
     "data": {
      "image/png": "[encoded data removed]",
      "text/plain": [
       "<Figure size 432x288 with 1 Axes>"
      ]
     },
     "metadata": {
      "needs_background": "light"
     },
     "output_type": "display_data"
    }
   ],
   "source": [
    "# Digit 6\n",
    "n=5;\n",
    "I = reshape(train_6[n,:],(16,16))\n",
    "\n",
    "plt.imshow(I,cmap='gray')\n",
    "plt.show()"
   ]
  },
  {
   "cell_type": "markdown",
   "metadata": {},
   "source": [
    "### Separating the training and test sets\n",
    "\n",
    "We keep in the training set the 145 first images of 5s and the 200 first\n",
    "images of 6s:\n"
   ]
  },
  {
   "cell_type": "code",
   "execution_count": 14,
   "metadata": {},
   "outputs": [],
   "source": [
    "x_train_brut = np.vstack((train_5[:145,:], train_6[:200,:]))\n",
    "N_train = np.size(x_train_brut,axis=0)\n",
    "class_train = np.ones((345,1))   # label 1 for digit 6\n",
    "class_train[:145] = 0       # label 0 for digit 5\n",
    "\n",
    "x_test_brut = np.vstack((train_5[145:,:], train_6[200:,:]))\n",
    "N_test = np.size(train_5,axis=0)+np.size(train_6,axis=0)-N_train"
   ]
  },
  {
   "cell_type": "code",
   "execution_count": 15,
   "metadata": {},
   "outputs": [],
   "source": [
    "# Shuffling \n",
    "x_train_shuffle = np.vstack((np.hstack((train_5[:145,:],np.zeros((145, 1)))), np.hstack((train_6[:200,:],np.ones((200,1))))))\n",
    "np.random.shuffle(x_train_shuffle)\n",
    "class_train = x_train_shuffle[:, -1]\n",
    "N_train = np.size(x_train_shuffle,axis=0)\n",
    "\n",
    "x_test_shuffle = np.vstack((np.hstack((train_5[145:,:],np.zeros((N_5-145, 1)))), np.hstack((train_6[200:,:],np.ones((N_6-200,1))))))\n",
    "np.random.shuffle(x_test_shuffle)\n",
    "class_test = x_test_shuffle[:, -1]\n",
    "N_test = np.size(x_test_shuffle,axis=0)"
   ]
  },
  {
   "cell_type": "code",
   "execution_count": 16,
   "metadata": {},
   "outputs": [
    {
     "name": "stdout",
     "output_type": "stream",
     "text": [
      "[[-0.984 -1.    -1.    -1.    -1.    -1.     0.   ]\n",
      " [-0.849 -1.    -1.    -1.    -1.    -1.     0.   ]\n",
      " [ 0.162 -0.445 -1.    -1.    -1.    -1.     1.   ]\n",
      " [ 0.999  0.549 -0.552 -1.    -1.    -1.     0.   ]\n",
      " [-0.226 -1.    -1.    -1.    -1.    -1.     1.   ]\n",
      " [-1.    -1.    -1.    -1.    -1.    -1.     1.   ]\n",
      " [-0.718 -1.    -1.    -1.    -1.    -1.     1.   ]\n",
      " [-1.    -1.    -1.    -1.    -1.    -1.     0.   ]\n",
      " [-1.    -1.    -1.    -1.    -1.    -1.     1.   ]\n",
      " [ 1.     1.     0.948  0.181 -0.999 -1.     1.   ]\n",
      " [-0.987 -1.    -1.    -1.    -1.    -1.     1.   ]\n",
      " [-0.209 -0.97  -1.    -1.    -1.    -1.     0.   ]\n",
      " [-0.929 -1.    -1.    -1.    -1.    -1.     0.   ]\n",
      " [-0.999 -1.    -1.    -1.    -1.    -1.     1.   ]\n",
      " [-0.151 -0.873 -1.    -1.    -1.    -1.     1.   ]\n",
      " [ 0.558 -0.522 -1.    -1.    -1.    -1.     0.   ]\n",
      " [-1.    -1.    -1.    -1.    -1.    -1.     0.   ]\n",
      " [ 0.736  1.     1.     0.882 -0.341 -1.     0.   ]\n",
      " [-1.    -1.    -1.    -1.    -1.    -1.     1.   ]\n",
      " [ 0.323 -0.962 -1.    -1.    -1.    -1.     1.   ]]\n"
     ]
    }
   ],
   "source": [
    "print(x_train_shuffle[:20, 250:])"
   ]
  },
  {
   "cell_type": "code",
   "execution_count": 17,
   "metadata": {},
   "outputs": [
    {
     "name": "stdout",
     "output_type": "stream",
     "text": [
      "[[-0.529 -0.996 -1.    -1.    -1.    -1.     1.   ]\n",
      " [-1.    -1.    -1.    -1.    -1.    -1.     0.   ]\n",
      " [-0.448 -1.    -1.    -1.    -1.    -1.     1.   ]\n",
      " [-0.95  -1.    -1.    -1.    -1.    -1.     1.   ]\n",
      " [-0.399 -0.969 -1.    -1.    -1.    -1.     1.   ]\n",
      " [-1.    -1.    -1.    -1.    -1.    -1.     1.   ]\n",
      " [-1.    -1.    -1.    -1.    -1.    -1.     1.   ]\n",
      " [ 0.155 -0.687 -1.    -1.    -1.    -1.     1.   ]\n",
      " [-0.041 -0.845 -1.    -1.    -1.    -1.     0.   ]\n",
      " [-0.901 -1.    -1.    -1.    -1.    -1.     1.   ]] 875\n"
     ]
    },
    {
     "data": {
      "text/plain": [
       "array([1., 0., 1., 1., 1., 1., 1., 1., 0., 1.])"
      ]
     },
     "execution_count": 17,
     "metadata": {},
     "output_type": "execute_result"
    }
   ],
   "source": [
    "print(x_test_shuffle[:10, 250:], N_test)\n",
    "class_test[:10,]"
   ]
  },
  {
   "cell_type": "markdown",
   "metadata": {},
   "source": [
    "## Exercise 2: logistic regression to classify 5 & 6\n",
    "\n",
    "1. Note that pixel values are between -1 and 1 by using the functions\n",
    " `min(I(:))` and `max(I(:))`.\n",
    "2. Identify the indices of the most significant pixels, which are defined \n",
    "as having a standard deviation greater than 0.5 here. We denote by `lis_sig`\n",
    "the list of positions of these significant pixels in the image vector.\n",
    "_Indication : the function `std` gives the standard deviation (columnwise\n",
    "in matrices) and you should find 173 pixel positions.\n",
    "3. Show a binary image to locate these pixels.\n",
    "_Indication : `Isig = zeros(16); Isig(list_sig)=1; Isig=Isig';`._\n",
    "4. Define the training set `x_train` from `x_train_brut` from the significant pixels only.\n",
    "5. Do the same with `x_test_brut` to extract `x_test`.\n",
    "6. Use `regression_logistique.m` to estimate the logistic regression vector\n",
    "`w` from the training set `x_train`. \n",
    "Choose `Nitermax = 13; eps_conv = 1e-3;`\n",
    "7. Compute the decision function and the labels of the test set `x_test`. \n",
    "_Indication : do not forget the column of ones !_\n",
    "8. Estimate the classification error rate by using :\n",
    "`erreur = sum(abs(class-class_test))/N_test;`.\n",
    "9. Locate some misclassified examples and visualize the corresponding image.\n",
    "Comment on your results and observations.\n"
   ]
  },
  {
   "cell_type": "code",
   "execution_count": 18,
   "metadata": {},
   "outputs": [
    {
     "name": "stdout",
     "output_type": "stream",
     "text": [
      "[  7   8   9  10  11  12  20  21  22  23  24  25  26  27  28  29  36  37\n",
      "  38  39  40  41  42  43  44  45  51  52  53  54  55  56  57  58  59  66\n",
      "  67  68  69  70  71  72  73  82  83  84  85  86  87  88  89  98  99 100\n",
      " 101 102 103 104 105 106 107 114 115 116 117 118 119 120 121 122 123 124\n",
      " 125 130 131 132 133 134 135 136 137 138 139 140 141 145 146 147 148 149\n",
      " 150 151 152 153 154 155 156 157 158 161 162 163 164 165 166 167 168 169\n",
      " 170 171 172 173 174 177 178 179 180 181 182 183 184 185 186 187 188 189\n",
      " 190 193 194 195 196 197 198 199 200 201 202 203 204 205 206 209 210 211\n",
      " 212 213 214 215 216 217 218 219 220 221 226 227 228 229 230 231 232 233\n",
      " 234 235 236 244 245 246 247 248 249 250 251] 173\n"
     ]
    }
   ],
   "source": [
    "# Exercise 2\n",
    "pixel_std = np.std(x_train_shuffle[:, :-1], axis = 0)\n",
    "lis_sig = np.where(pixel_std > 0.5)[0]\n",
    "print(lis_sig, len(lis_sig))\n"
   ]
  },
  {
   "cell_type": "code",
   "execution_count": 19,
   "metadata": {},
   "outputs": [
    {
     "data": {
      "image/png": "[encoded data removed]",
      "text/plain": [
       "<Figure size 432x288 with 1 Axes>"
      ]
     },
     "metadata": {
      "needs_background": "light"
     },
     "output_type": "display_data"
    }
   ],
   "source": [
    "Isig = np.zeros(len(pixel_std))\n",
    "Isig[lis_sig] = 1\n",
    "Isig = reshape(Isig,(16,16))\n",
    "\n",
    "plt.imshow(Isig,cmap='gray')\n",
    "plt.show()"
   ]
  },
  {
   "cell_type": "code",
   "execution_count": 20,
   "metadata": {},
   "outputs": [
    {
     "data": {
      "text/plain": [
       "(875, 174)"
      ]
     },
     "execution_count": 20,
     "metadata": {},
     "output_type": "execute_result"
    }
   ],
   "source": [
    "x_train = x_train_shuffle[:, lis_sig]\n",
    "x_train = np.hstack((np.ones((N_train, 1)),x_train))\n",
    "x_test = x_test_shuffle[:, lis_sig]\n",
    "x_test = np.hstack((np.ones((N_test, 1)),x_test))\n",
    "\n",
    "x_train.shape\n",
    "x_test.shape"
   ]
  },
  {
   "cell_type": "code",
   "execution_count": 21,
   "metadata": {},
   "outputs": [
    {
     "data": {
      "text/plain": [
       "(174,)"
      ]
     },
     "execution_count": 21,
     "metadata": {},
     "output_type": "execute_result"
    }
   ],
   "source": [
    "w, Niter = regression_logistique(x_train,class_train,Nitermax = 13, eps_conv = 1e-3)\n",
    "\n",
    "y = 1/(1+np.exp(-x_test.dot(w)))\n",
    "y_test_pred = np.where(y > 0.5, 1, 0)\n",
    "w.shape"
   ]
  },
  {
   "cell_type": "code",
   "execution_count": 22,
   "metadata": {},
   "outputs": [
    {
     "name": "stdout",
     "output_type": "stream",
     "text": [
      "0.07885714285714286\n"
     ]
    }
   ],
   "source": [
    "erreur = sum(abs(y_test_pred-class_test))/N_test\n",
    "print(erreur)"
   ]
  },
  {
   "cell_type": "markdown",
   "metadata": {},
   "source": [
    "### Visualisation of the error"
   ]
  },
  {
   "cell_type": "code",
   "execution_count": 23,
   "metadata": {},
   "outputs": [],
   "source": [
    "# ON récupère les indexs des images mal classifiées\n",
    "lis_err = np.where(abs(y_test_pred-class_test) ==1)[0]\n",
    "lis_err[0].shape\n",
    "\n",
    "#On récupère la valeur de leur feature, leur classe, leur proba, la prédiction associé \n",
    "x_test_mc = x_test[lis_err, 1:]\n",
    "class_test_mc = class_test[lis_err]\n",
    "prob_value_mc = y[lis_err]\n",
    "pred_mc = y_test_pred[lis_err]"
   ]
  },
  {
   "cell_type": "code",
   "execution_count": 24,
   "metadata": {},
   "outputs": [
    {
     "data": {
      "image/png": "[encoded data removed]",
      "text/plain": [
       "<Figure size 1080x360 with 8 Axes>"
      ]
     },
     "metadata": {
      "needs_background": "light"
     },
     "output_type": "display_data"
    }
   ],
   "source": [
    "fig, axes = plt.subplots(4, 2, figsize=(15, 5), sharey=True)\n",
    "\n",
    "for i in range(4):\n",
    "    for j in range(2):\n",
    "        # on sélectionne une image aléatoire parmi les image mals classés\n",
    "        image = random.randint(x_test_mc.shape[0])\n",
    "        #on créer une image noire\n",
    "        rev_image = -np.ones((256, 1))\n",
    "        # on sélection les features de l'image mal classifié qui ont servi à l'entrainement \n",
    "        s_pixel = x_test_mc[image, :]\n",
    "        # on superpose ces features à l'images noires pour reconstitués une image\n",
    "        rev_image[lis_sig] = s_pixel[:, newaxis]\n",
    "        rev_image = reshape(rev_image,(16,16))\n",
    "        \n",
    "        # affichage\n",
    "        axes[i][j].imshow(rev_image,cmap='gray')\n",
    "        axes[i][j].set_title(f'Prediction : {pred_mc[image]+5} Corresponding class : {class_test_mc[image]+5}, proba : {prob_value_mc[image].round(2)}')\n",
    "\n",
    "plt.tight_layout()\n",
    "plt.show()"
   ]
  },
  {
   "cell_type": "markdown",
   "metadata": {},
   "source": [
    "Idée : on peut voir si la frontière de décision doit être à 0.5 ou si une autre frontière améliore la performance du model. Also, one could have a look on FN, FP to understand if the model is doing over fitting. \n",
    "\n",
    "One can notice that often misclassified figures, the important part to determine \n",
    "Souvent, pour déterminer s'il s'agit d'un 5 ou d'un 6, l'information importante qu'utilise notre cerveau est de regarder si la queue du 5 est fermé ou non. Or, cette information se trouve en général dans la partie gauche de l'image.\n"
   ]
  },
  {
   "cell_type": "markdown",
   "metadata": {},
   "source": [
    "Je vais essayer une autre approche qui consiste réduire le nombre de pixel observé en ne conservant que les 2/3 de pixel situé les plus à gauche de l'image. Je vais donc supprimer les 4 dernières colonnes de pixels ainsi que la première qui n'est en général pas significatives. Je conserve ainsi 11 x 16 = 160 pixels. Voyons ce que l'on obtient. "
   ]
  },
  {
   "cell_type": "markdown",
   "metadata": {},
   "source": [
    "Pour pouvoir comparer il vaudrait mieux comparer l'image reconstitué avec l'image de base pour voir si ces images mal classifiés le sont à cause d'une perte importante d'informations."
   ]
  },
  {
   "cell_type": "code",
   "execution_count": 25,
   "metadata": {},
   "outputs": [
    {
     "ename": "SyntaxError",
     "evalue": "invalid syntax (<ipython-input-25-aee1ae3d2f7e>, line 1)",
     "output_type": "error",
     "traceback": [
      "\u001b[1;36m  File \u001b[1;32m\"<ipython-input-25-aee1ae3d2f7e>\"\u001b[1;36m, line \u001b[1;32m1\u001b[0m\n\u001b[1;33m    On peut également jouer sur le seuil de 0.5 pour les pixels significatifs.\u001b[0m\n\u001b[1;37m       ^\u001b[0m\n\u001b[1;31mSyntaxError\u001b[0m\u001b[1;31m:\u001b[0m invalid syntax\n"
     ]
    }
   ],
   "source": [
    "On peut également jouer sur le seuil de 0.5 pour les pixels significatifs."
   ]
  },
  {
   "cell_type": "code",
   "execution_count": null,
   "metadata": {},
   "outputs": [],
   "source": [
    "print(10*16)"
   ]
  },
  {
   "cell_type": "markdown",
   "metadata": {},
   "source": [
    "## 2nd method :  keep leftwards pixels"
   ]
  },
  {
   "cell_type": "code",
   "execution_count": null,
   "metadata": {},
   "outputs": [],
   "source": [
    "col = np.arange(1,13)\n",
    "left_pix = [_ for _ in np.arange(256) if _ % 16 in col]\n",
    "x_train1 = x_train_shuffle[:, left_pix]\n",
    "x_train1 = np.hstack((np.ones((N_train, 1)),x_train1))\n",
    "x_test1 = x_test_shuffle[:, left_pix]\n",
    "x_test1 = np.hstack((np.ones((N_test, 1)),x_test1))"
   ]
  },
  {
   "cell_type": "code",
   "execution_count": null,
   "metadata": {},
   "outputs": [],
   "source": [
    "w1, Niter1 = regression_logistique(x_train1,class_train,Nitermax = 13, eps_conv = 1e-3)\n",
    "\n",
    "y1 = 1/(1+np.exp(-x_test1.dot(w1)))\n",
    "y_test_pred1 = np.where(y1 > 0.5, 1, 0)\n",
    "w1.shape"
   ]
  },
  {
   "cell_type": "code",
   "execution_count": null,
   "metadata": {},
   "outputs": [],
   "source": [
    "erreur1 = sum(abs(y_test_pred1-class_test))/N_test\n",
    "print(erreur1)"
   ]
  },
  {
   "cell_type": "markdown",
   "metadata": {},
   "source": [
    "### Visualisation of the error"
   ]
  },
  {
   "cell_type": "code",
   "execution_count": null,
   "metadata": {},
   "outputs": [],
   "source": [
    "lis_err = np.where(abs(y_test_pred1-class_test) ==1)[0]\n",
    "lis_err[0].shape\n",
    "\n",
    "x_test1_mc = x_test1[lis_err, 1:]\n",
    "class_test1_mc = class_test[lis_err]\n",
    "prob_value1_mc = y1[lis_err]\n",
    "pred1_mc = y_test_pred1[lis_err]"
   ]
  },
  {
   "cell_type": "code",
   "execution_count": null,
   "metadata": {},
   "outputs": [],
   "source": [
    "fig, axes = plt.subplots(4, 2, figsize=(15, 5), sharey=True)\n",
    "\n",
    "for i in range(4):\n",
    "    for j in range(2):\n",
    "        image = random.randint(x_test1_mc.shape[0])\n",
    "        rev_image = -np.ones((256, 1))\n",
    "        s_pixel = x_test1_mc[image, :]\n",
    "        rev_image[left_pix] = s_pixel[:, newaxis]\n",
    "        rev_image = reshape(rev_image,(16,16))\n",
    "\n",
    "        axes[i][j].imshow(rev_image,cmap='gray')\n",
    "        axes[i][j].set_title(f'Prediction : {pred1_mc[image]+5} Corresponding class : {class_test1_mc[image]+5}, proba : {prob_value1_mc[image].round(2)}')\n",
    "\n",
    "plt.tight_layout()\n",
    "plt.show()"
   ]
  },
  {
   "cell_type": "code",
   "execution_count": null,
   "metadata": {},
   "outputs": [],
   "source": [
    "x_train_full = np.hstack((np.ones((N_train, 1)),x_train_shuffle[:,:-1]))\n",
    "x_test_full = np.hstack((np.ones((N_test, 1)),x_test_shuffle[:,:-1]))\n",
    "print(x_train_full.shape, x_test_full.shape)"
   ]
  },
  {
   "cell_type": "code",
   "execution_count": null,
   "metadata": {},
   "outputs": [],
   "source": [
    "w_full, Niter_full = regression_logistique(x_train_full,class_train,Nitermax = 13, eps_conv = 1e-3)\n",
    "\n",
    "y_full = 1/(1+np.exp(-x_test_full.dot(w_full)))\n",
    "y_test_pred_full = np.where(y_full > 0.5, 1, 0)\n",
    "w_full.shape"
   ]
  },
  {
   "cell_type": "markdown",
   "metadata": {},
   "source": [
    "Je vais m'arrêter ici je comprends donc mieux pourquoi on fait cette sélection initialement."
   ]
  },
  {
   "cell_type": "markdown",
   "metadata": {},
   "source": [
    "### Change significant value"
   ]
  },
  {
   "cell_type": "code",
   "execution_count": null,
   "metadata": {},
   "outputs": [],
   "source": [
    "pixel_std = np.std(x_train_shuffle[:, :-1], axis = 0)\n",
    "lis_sig_bis = np.where(pixel_std > 0.6)[0]\n",
    "print(lis_sig_bis, len(lis_sig_bis))"
   ]
  },
  {
   "cell_type": "code",
   "execution_count": null,
   "metadata": {},
   "outputs": [],
   "source": [
    "Isig = np.zeros(len(pixel_std))\n",
    "Isig[lis_sig_bis] = 1\n",
    "Isig = reshape(Isig,(16,16))\n",
    "\n",
    "plt.imshow(Isig,cmap='gray')\n",
    "plt.show()"
   ]
  },
  {
   "cell_type": "code",
   "execution_count": null,
   "metadata": {},
   "outputs": [],
   "source": [
    "x_train_bis = x_train_shuffle[:, lis_sig_bis]\n",
    "x_train_bis = np.hstack((np.ones((N_train, 1)),x_train_bis))\n",
    "x_test_bis = x_test_shuffle[:, lis_sig_bis]\n",
    "x_test_bis = np.hstack((np.ones((N_test, 1)),x_test_bis))\n",
    "\n",
    "x_train_bis.shape\n",
    "x_test_bis.shape"
   ]
  },
  {
   "cell_type": "code",
   "execution_count": null,
   "metadata": {},
   "outputs": [],
   "source": [
    "w_bis, Niter_bis = regression_logistique(x_train_bis,class_train,Nitermax = 13, eps_conv = 1e-3)\n",
    "\n",
    "y_bis = 1/(1+np.exp(-x_test_bis.dot(w_bis)))\n",
    "y_test_pred_bis = np.where(y_bis > 0.5, 1, 0)\n",
    "w_bis.shape"
   ]
  },
  {
   "cell_type": "code",
   "execution_count": null,
   "metadata": {},
   "outputs": [],
   "source": [
    "erreur_bis = sum(abs(y_test_pred_bis-class_test))/N_test\n",
    "print(erreur1)"
   ]
  },
  {
   "cell_type": "markdown",
   "metadata": {},
   "source": [
    "### 1. "
   ]
  },
  {
   "cell_type": "code",
   "execution_count": null,
   "metadata": {},
   "outputs": [],
   "source": [
    "print(np.min(I), np.max(I))"
   ]
  },
  {
   "cell_type": "markdown",
   "metadata": {},
   "source": [
    "### 2. "
   ]
  },
  {
   "cell_type": "code",
   "execution_count": null,
   "metadata": {},
   "outputs": [],
   "source": []
  },
  {
   "cell_type": "markdown",
   "metadata": {},
   "source": [
    "## 3. Logistic regression using `scikit-learn`"
   ]
  },
  {
   "cell_type": "markdown",
   "metadata": {
    "collapsed": true
   },
   "source": [
    "1. **Go to** http://scikit-learn.org/stable/modules/generated/sklearn.linear_model.LogisticRegression.html for a presentation of the logistic regression model in `scikit-learn`.\n",
    "\n",
    "2. **Apply** it to the present data set.\n",
    "\n",
    "3. **Comment** on the use of logistic regression.\n",
    "\n",
    "*Indication : you may have a look at* \n",
    "\n",
    "a) Theory : http://openclassroom.stanford.edu/MainFolder/DocumentPage.php?course=MachineLearning&doc=exercises/ex5/ex5.html\n",
    "\n",
    "b) Video :  https://kr.coursera.org/lecture/machine-learning/regularized-logistic-regression-cAxpF \n",
    "\n",
    "c) Example : http://scikit-learn.org/stable/auto_examples/exercises/plot_digits_classification_exercise.html#sphx-glr-auto-examples-exercises-plot-digits-classification-exercise-py\n",
    "\n",
    "*for a short presentation of regularized logistic regression.*"
   ]
  },
  {
   "cell_type": "code",
   "execution_count": 28,
   "metadata": {},
   "outputs": [
    {
     "name": "stdout",
     "output_type": "stream",
     "text": [
      " Prediction : [1. 0. 1. 1. 1. 1. 1. 1. 0. 1. 1. 1. 1. 1. 1. 1. 0. 1. 0. 1. 1. 1. 1. 0.\n",
      " 0. 0. 0. 1. 1. 0. 0. 0. 0. 1. 0. 1. 0. 1. 0. 0. 0. 1. 0. 1. 0. 1. 0. 1.\n",
      " 1. 1. 1. 1. 0. 0. 1. 0. 0. 1. 0. 0. 0. 1. 0. 0. 1. 1. 0. 0. 0. 1. 1. 1.\n",
      " 1. 1. 1. 1. 1. 0. 0. 0. 0. 0. 0. 0. 0. 0. 1. 1. 0. 0. 1. 0. 0. 1. 0. 0.\n",
      " 1. 1. 1. 0. 0. 1. 0. 1. 1. 0. 1. 1. 1. 1. 1. 0. 0. 0. 0. 0. 1. 1. 1. 0.\n",
      " 0. 0. 0. 1. 0. 1. 0. 1. 0. 1. 0. 0. 0. 1. 0. 0. 1. 1. 1. 0. 1. 1. 1. 1.\n",
      " 1. 1. 1. 1. 1. 0. 0. 0. 1. 0. 0. 0. 1. 1. 1. 1. 1. 1. 0. 1. 1. 1. 0. 1.\n",
      " 1. 1. 0. 1. 1. 0. 0. 1. 0. 0. 1. 0. 0. 1. 1. 0. 0. 1. 0. 1. 0. 1. 1. 1.\n",
      " 0. 1. 1. 0. 1. 1. 0. 1. 0. 1. 1. 0. 0. 1. 1. 0. 1. 0. 0. 1. 0. 1. 0. 0.\n",
      " 0. 1. 1. 1. 1. 0. 1. 0. 1. 1. 0. 1. 0. 1. 0. 0. 0. 0. 1. 0. 0. 0. 1. 0.\n",
      " 0. 1. 0. 0. 0. 0. 0. 1. 0. 0. 0. 0. 1. 0. 0. 1. 1. 1. 0. 1. 0. 0. 0. 1.\n",
      " 1. 0. 0. 1. 0. 0. 0. 0. 1. 1. 1. 0. 0. 0. 0. 1. 1. 1. 1. 1. 1. 1. 0. 0.\n",
      " 0. 0. 0. 0. 1. 0. 0. 0. 1. 0. 0. 1. 1. 1. 1. 1. 0. 1. 1. 1. 0. 1. 0. 0.\n",
      " 1. 0. 1. 0. 1. 0. 1. 1. 1. 0. 0. 0. 1. 1. 0. 0. 1. 0. 1. 0. 1. 0. 0. 0.\n",
      " 1. 0. 0. 1. 1. 1. 1. 0. 1. 1. 1. 0. 1. 1. 1. 0. 0. 0. 1. 1. 0. 0. 1. 1.\n",
      " 0. 1. 0. 0. 1. 1. 0. 0. 1. 1. 0. 1. 0. 0. 1. 0. 0. 0. 1. 1. 1. 1. 0. 1.\n",
      " 1. 0. 1. 1. 1. 1. 1. 0. 1. 1. 1. 1. 0. 0. 1. 1. 1. 0. 0. 1. 1. 0. 0. 1.\n",
      " 1. 1. 0. 1. 1. 1. 0. 1. 1. 1. 1. 0. 0. 0. 0. 0. 0. 0. 1. 1. 0. 1. 0. 1.\n",
      " 1. 1. 0. 0. 0. 1. 1. 1. 0. 1. 0. 1. 1. 0. 1. 0. 1. 0. 1. 0. 0. 0. 0. 1.\n",
      " 1. 1. 1. 1. 1. 0. 1. 1. 0. 1. 0. 1. 0. 0. 1. 0. 1. 1. 0. 1. 1. 1. 0. 0.\n",
      " 0. 0. 0. 1. 1. 0. 0. 1. 1. 0. 0. 0. 0. 1. 1. 1. 1. 0. 1. 1. 1. 1. 1. 0.\n",
      " 1. 0. 1. 0. 0. 1. 0. 1. 1. 1. 0. 0. 0. 0. 1. 0. 1. 0. 1. 1. 1. 1. 1. 1.\n",
      " 1. 0. 0. 0. 0. 1. 0. 0. 0. 1. 0. 1. 1. 0. 1. 1. 0. 0. 1. 0. 0. 0. 1. 1.\n",
      " 0. 0. 1. 1. 0. 0. 1. 0. 1. 0. 0. 0. 0. 1. 1. 1. 1. 0. 1. 0. 0. 0. 1. 0.\n",
      " 1. 0. 0. 1. 1. 1. 0. 0. 1. 1. 0. 1. 1. 1. 1. 1. 0. 0. 0. 1. 1. 1. 1. 0.\n",
      " 0. 0. 1. 1. 0. 1. 0. 0. 0. 1. 0. 1. 0. 0. 0. 0. 0. 0. 0. 1. 0. 0. 1. 1.\n",
      " 0. 1. 1. 0. 1. 1. 0. 1. 1. 1. 0. 1. 0. 0. 0. 1. 1. 0. 1. 0. 1. 1. 1. 1.\n",
      " 1. 1. 1. 0. 1. 1. 0. 0. 1. 1. 0. 0. 1. 0. 0. 1. 1. 0. 0. 0. 1. 1. 0. 1.\n",
      " 0. 1. 0. 0. 0. 1. 1. 1. 1. 1. 1. 0. 0. 1. 1. 1. 1. 1. 1. 0. 1. 0. 0. 1.\n",
      " 0. 0. 0. 0. 1. 1. 1. 0. 1. 1. 1. 0. 1. 1. 1. 1. 0. 0. 1. 0. 0. 1. 1. 1.\n",
      " 1. 0. 1. 1. 0. 1. 0. 0. 0. 0. 0. 1. 0. 0. 1. 0. 0. 1. 0. 1. 0. 1. 0. 1.\n",
      " 0. 0. 1. 1. 1. 1. 0. 1. 0. 0. 1. 1. 0. 1. 0. 1. 1. 1. 0. 1. 1. 1. 0. 1.\n",
      " 0. 1. 0. 0. 1. 1. 1. 0. 1. 0. 0. 1. 1. 0. 0. 0. 0. 1. 1. 1. 1. 1. 1. 0.\n",
      " 1. 1. 1. 1. 1. 1. 1. 0. 1. 0. 1. 0. 1. 1. 1. 1. 1. 1. 1. 0. 0. 1. 1. 1.\n",
      " 1. 0. 0. 0. 0. 1. 0. 1. 1. 0. 0. 1. 1. 1. 0. 0. 0. 0. 0. 1. 1. 1. 1. 0.\n",
      " 1. 0. 1. 1. 1. 1. 0. 0. 1. 0. 1. 0. 1. 0. 1. 0. 1. 1. 0. 1. 0. 1. 0. 1.\n",
      " 1. 0. 1. 1. 0. 1. 1. 1. 1. 1. 1.],\n",
      "Probabilities : [[2.83377829e-05 9.99971662e-01]\n",
      " [9.99472092e-01 5.27907996e-04]\n",
      " [7.65247221e-03 9.92347528e-01]\n",
      " ...\n",
      " [4.51115844e-05 9.99954888e-01]\n",
      " [2.31896545e-02 9.76810345e-01]\n",
      " [1.75406554e-02 9.82459345e-01]],\n",
      " Score : 0.9725714285714285\n"
     ]
    }
   ],
   "source": [
    "# Include your code here\n",
    "from sklearn.linear_model import LogisticRegression\n",
    "# ...\n",
    "#\n",
    "clf_logistic_regression = LogisticRegression(solver='liblinear').fit(x_train, class_train)\n",
    "\n",
    "print(f\" Prediction : {clf_logistic_regression.predict(x_test)},\\nProbabilities : {clf_logistic_regression.predict_proba(x_test)},\\n Score : {clf_logistic_regression.score(x_test, class_test)}\")\n",
    "\n",
    "\n"
   ]
  },
  {
   "cell_type": "markdown",
   "metadata": {},
   "source": [
    "Commentaires :"
   ]
  },
  {
   "cell_type": "markdown",
   "metadata": {},
   "source": [
    "I choose the liblinear solver because, it performs well on small dataset and it works well with the default L2 penalty."
   ]
  },
  {
   "cell_type": "markdown",
   "metadata": {},
   "source": []
  },
  {
   "cell_type": "markdown",
   "metadata": {},
   "source": []
  }
 ],
 "metadata": {
  "kernelspec": {
   "display_name": "Python 3",
   "language": "python",
   "name": "python3"
  },
  "language_info": {
   "codemirror_mode": {
    "name": "ipython",
    "version": 3
   },
   "file_extension": ".py",
   "mimetype": "text/x-python",
   "name": "python",
   "nbconvert_exporter": "python",
   "pygments_lexer": "ipython3",
   "version": "3.8.8"
  },
  "vscode": {
   "interpreter": {
    "hash": "31f2aee4e71d21fbe5cf8b01ff0e069b9275f58929596ceb00d14d90e3e16cd6"
   }
  }
 },
 "nbformat": 4,
 "nbformat_minor": 2
}
