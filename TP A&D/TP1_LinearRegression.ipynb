{
 "cells": [
  {
   "cell_type": "markdown",
   "metadata": {},
   "source": [
    "# TP1 : Linear regression"
   ]
  },
  {
   "cell_type": "markdown",
   "metadata": {},
   "source": [
    "The purpose of this work is to implement least square linear regression to medical data. The problem is based on an example described in the book by Hastie & Tibshirani (2009) pp. 3-4 & 49-63. Data come from a study published by Stamey et al. (1989). This study aims at the prediction of the level of prostate specific antigen, denoted by `lpsa` below, from the\n",
    "results of clinical exams. These exams are carried out before a possible\n",
    "prostatectomy.\n",
    "\n",
    "The measurements are log cancer volume `lcavol`, log prostate \n",
    "weight `lweight`, age of the patient `age`, log of benign prostatic \n",
    "hyperplasia amount `lbph`, seminal vesicle invasion `svi`, log of capsular \n",
    "penetration `lcp`, Gleason score `gleason`, and percent of Gleason scores 4 or \n",
    "5 `pgg45`. The variables `svi` and `gleason` are categorical, others are\n",
    "quantitative. There are `p=8` entries.\n",
    "The work is decomposed in the following tasks:\n",
    "\n",
    "* read and format the data : extraction of the training and test sets,\n",
    "* apply least square regression method to predict `lpsa` from the entries,\n",
    "* study the estimated error on the test set (validation),\n",
    "* identify the most significant entries by using a rejection test,\n",
    "* apply regularized least square regression method (ridge regression),\n",
    "* search for an optimal regularization parameter thanks to\n",
    "cross-validation."
   ]
  },
  {
   "cell_type": "code",
   "execution_count": 90,
   "metadata": {},
   "outputs": [],
   "source": [
    "import csv\n",
    "# import os\n",
    "from pylab import *\n",
    "import numpy as np\n",
    "from numpy import linalg as la\n",
    "import matplotlib.pyplot as plt\n",
    "\n",
    "import pandas as pd\n",
    "import seaborn as sns\n",
    "import random"
   ]
  },
  {
   "cell_type": "markdown",
   "metadata": {},
   "source": [
    "## Read & Normalize data\n",
    "Data are stored in ASCII format: \n",
    "\n",
    "* the first column enumerates the data from 1 à 97 (97 male subjects). \n",
    "* columns 2 to 9 contain the entries themselves. \n",
    "* column 10 contains target values. \n",
    "* column 11 contains label 1 for the training set, \n",
    "and 2 for the test set."
   ]
  },
  {
   "cell_type": "code",
   "execution_count": 110,
   "metadata": {},
   "outputs": [],
   "source": [
    "#%% To read data from spaced separated float numbers\n",
    "# x, y = np.loadtxt(c, delimiter=',', usecols=(0, 2), unpack=True)\n",
    "\n",
    "data_init = np.loadtxt('prostate_data_sansheader.txt')\n",
    "\n",
    "data = data_init[:,1:]   # we get rid of the indices (1 to 97)\n",
    "\n",
    "#%% Extraction of training/test sets\n",
    "Itrain = np.nonzero(data[:,-1]==1)\n",
    "data_train=data[Itrain]   # original data\n",
    "\n",
    "Itest = np.nonzero(data[:,-1]==0)\n",
    "data_test = data[Itest]   # original data"
   ]
  },
  {
   "cell_type": "markdown",
   "metadata": {},
   "source": [
    "**Normalization of the data** *with respect to the mean and standard deviation of the training set*."
   ]
  },
  {
   "cell_type": "code",
   "execution_count": 111,
   "metadata": {},
   "outputs": [
    {
     "name": "stdout",
     "output_type": "stream",
     "text": [
      "[ 1.23328245  0.47303067  7.44601122  1.45269103  0.41684299  1.39024269\n",
      "  0.70355366 29.08227243]\n"
     ]
    }
   ],
   "source": [
    "M_train = data_train\n",
    "M_test = data_test \n",
    "moy = np.zeros((8,))\n",
    "sigma = np.zeros((8,))\n",
    "\n",
    "# With a FOR loop :\n",
    "for k in range(8): # 8 columns of entries\n",
    "    moy[k]=np.mean(data_train[:,k])\n",
    "    sigma[k] = np.std(data_train[:,k], ddof=0)\n",
    "    M_train[:,k] = (data_train[:,k]-moy[k])/sigma[k] # normalized: centered, variance 1\n",
    "    M_test[:,k] = (data_test[:,k]-moy[k])/sigma[k]   # same normalization for test set\n",
    "\n",
    "print(sigma)"
   ]
  },
  {
   "cell_type": "code",
   "execution_count": 6,
   "metadata": {},
   "outputs": [
    {
     "data": {
      "text/plain": [
       "'\\n# Alternative WITHOUT FOR\\nnormalize = lambda vec: (vec-np.mean(vec))/np.std(vec)    # inline function \\nM_train = np.array( [ normalize(vec) for vec in data_train[:,0:8].T ] ).T  # iterate on vec direct / ARRAY not LIST\\nmoy = np.array( [ np.mean(vec) for vec in data_train[:,0:8].T ] )\\nsigma = np.array( [ np.std(vec, ddof=0) for vec in data_train[:,0:8].T ] )\\n\\nM_test = np.array([ (data_test[:,k]-moy[k])/sigma[k] for k in range(M_train.shape[1]) ] ).T\\n'"
      ]
     },
     "execution_count": 6,
     "metadata": {},
     "output_type": "execute_result"
    }
   ],
   "source": [
    "\"\"\"\n",
    "# Alternative WITHOUT FOR\n",
    "normalize = lambda vec: (vec-np.mean(vec))/np.std(vec)    # inline function \n",
    "M_train = np.array( [ normalize(vec) for vec in data_train[:,0:8].T ] ).T  # iterate on vec direct / ARRAY not LIST\n",
    "moy = np.array( [ np.mean(vec) for vec in data_train[:,0:8].T ] )\n",
    "sigma = np.array( [ np.std(vec, ddof=0) for vec in data_train[:,0:8].T ] )\n",
    "\n",
    "M_test = np.array([ (data_test[:,k]-moy[k])/sigma[k] for k in range(M_train.shape[1]) ] ).T\n",
    "\"\"\""
   ]
  },
  {
   "cell_type": "markdown",
   "metadata": {},
   "source": [
    "# Part 1 : simple least square regression"
   ]
  },
  {
   "cell_type": "markdown",
   "metadata": {},
   "source": [
    "## Preliminary questions\n",
    " \n",
    " * Compute the autocovariance matrix from the training set.\n",
    " * Observe carefully & Comment. What kind of information can you get ? "
   ]
  },
  {
   "cell_type": "code",
   "execution_count": 7,
   "metadata": {},
   "outputs": [
    {
     "data": {
      "text/html": [
       "<div>\n",
       "<style scoped>\n",
       "    .dataframe tbody tr th:only-of-type {\n",
       "        vertical-align: middle;\n",
       "    }\n",
       "\n",
       "    .dataframe tbody tr th {\n",
       "        vertical-align: top;\n",
       "    }\n",
       "\n",
       "    .dataframe thead th {\n",
       "        text-align: right;\n",
       "    }\n",
       "</style>\n",
       "<table border=\"1\" class=\"dataframe\">\n",
       "  <thead>\n",
       "    <tr style=\"text-align: right;\">\n",
       "      <th></th>\n",
       "      <th>lcavol</th>\n",
       "      <th>lweight</th>\n",
       "      <th>age</th>\n",
       "      <th>lbph</th>\n",
       "      <th>svi</th>\n",
       "      <th>lcp</th>\n",
       "      <th>gleason</th>\n",
       "      <th>pgg45</th>\n",
       "      <th>lpsa</th>\n",
       "    </tr>\n",
       "  </thead>\n",
       "  <tbody>\n",
       "    <tr>\n",
       "      <th>0</th>\n",
       "      <td>-1.535180</td>\n",
       "      <td>-1.810979</td>\n",
       "      <td>-1.980425</td>\n",
       "      <td>-1.003472</td>\n",
       "      <td>-0.537086</td>\n",
       "      <td>-0.843084</td>\n",
       "      <td>-1.039499</td>\n",
       "      <td>-0.903253</td>\n",
       "      <td>-0.430783</td>\n",
       "    </tr>\n",
       "    <tr>\n",
       "      <th>1</th>\n",
       "      <td>-1.871221</td>\n",
       "      <td>-0.647911</td>\n",
       "      <td>-0.906025</td>\n",
       "      <td>-1.003472</td>\n",
       "      <td>-0.537086</td>\n",
       "      <td>-0.843084</td>\n",
       "      <td>-1.039499</td>\n",
       "      <td>-0.903253</td>\n",
       "      <td>-0.162519</td>\n",
       "    </tr>\n",
       "    <tr>\n",
       "      <th>2</th>\n",
       "      <td>-1.479237</td>\n",
       "      <td>-1.976330</td>\n",
       "      <td>1.242777</td>\n",
       "      <td>-1.003472</td>\n",
       "      <td>-0.537086</td>\n",
       "      <td>-0.843084</td>\n",
       "      <td>0.381857</td>\n",
       "      <td>-0.215549</td>\n",
       "      <td>-0.162519</td>\n",
       "    </tr>\n",
       "    <tr>\n",
       "      <th>3</th>\n",
       "      <td>-2.041272</td>\n",
       "      <td>-0.725785</td>\n",
       "      <td>-0.906025</td>\n",
       "      <td>-1.003472</td>\n",
       "      <td>-0.537086</td>\n",
       "      <td>-0.843084</td>\n",
       "      <td>-1.039499</td>\n",
       "      <td>-0.903253</td>\n",
       "      <td>-0.162519</td>\n",
       "    </tr>\n",
       "    <tr>\n",
       "      <th>4</th>\n",
       "      <td>-0.455756</td>\n",
       "      <td>-0.409561</td>\n",
       "      <td>-0.368824</td>\n",
       "      <td>-1.003472</td>\n",
       "      <td>-0.537086</td>\n",
       "      <td>-0.843084</td>\n",
       "      <td>-1.039499</td>\n",
       "      <td>-0.903253</td>\n",
       "      <td>0.371564</td>\n",
       "    </tr>\n",
       "  </tbody>\n",
       "</table>\n",
       "</div>"
      ],
      "text/plain": [
       "     lcavol   lweight       age      lbph       svi       lcp   gleason  \\\n",
       "0 -1.535180 -1.810979 -1.980425 -1.003472 -0.537086 -0.843084 -1.039499   \n",
       "1 -1.871221 -0.647911 -0.906025 -1.003472 -0.537086 -0.843084 -1.039499   \n",
       "2 -1.479237 -1.976330  1.242777 -1.003472 -0.537086 -0.843084  0.381857   \n",
       "3 -2.041272 -0.725785 -0.906025 -1.003472 -0.537086 -0.843084 -1.039499   \n",
       "4 -0.455756 -0.409561 -0.368824 -1.003472 -0.537086 -0.843084 -1.039499   \n",
       "\n",
       "      pgg45      lpsa  \n",
       "0 -0.903253 -0.430783  \n",
       "1 -0.903253 -0.162519  \n",
       "2 -0.215549 -0.162519  \n",
       "3 -0.903253 -0.162519  \n",
       "4 -0.903253  0.371564  "
      ]
     },
     "execution_count": 7,
     "metadata": {},
     "output_type": "execute_result"
    }
   ],
   "source": [
    "# On charge les données dans un datframe + renommer les colonnes pour une meilleur visibilité \n",
    "df = pd.DataFrame(M_train[:,:-1])\n",
    "df = df.rename(columns={0:'lcavol', 1:'lweight', 2:'age', 3:'lbph', 4:'svi', 5:'lcp', 6:'gleason', 7:'pgg45', 8:'lpsa'})\n",
    "df.head()"
   ]
  },
  {
   "cell_type": "code",
   "execution_count": 8,
   "metadata": {},
   "outputs": [
    {
     "data": {
      "text/html": [
       "<div>\n",
       "<style scoped>\n",
       "    .dataframe tbody tr th:only-of-type {\n",
       "        vertical-align: middle;\n",
       "    }\n",
       "\n",
       "    .dataframe tbody tr th {\n",
       "        vertical-align: top;\n",
       "    }\n",
       "\n",
       "    .dataframe thead th {\n",
       "        text-align: right;\n",
       "    }\n",
       "</style>\n",
       "<table border=\"1\" class=\"dataframe\">\n",
       "  <thead>\n",
       "    <tr style=\"text-align: right;\">\n",
       "      <th></th>\n",
       "      <th>lcavol</th>\n",
       "      <th>lweight</th>\n",
       "      <th>age</th>\n",
       "      <th>lbph</th>\n",
       "      <th>svi</th>\n",
       "      <th>lcp</th>\n",
       "      <th>gleason</th>\n",
       "      <th>pgg45</th>\n",
       "      <th>lpsa</th>\n",
       "    </tr>\n",
       "  </thead>\n",
       "  <tbody>\n",
       "    <tr>\n",
       "      <th>0</th>\n",
       "      <td>1.015</td>\n",
       "      <td>0.305</td>\n",
       "      <td>0.291</td>\n",
       "      <td>0.064</td>\n",
       "      <td>0.602</td>\n",
       "      <td>0.703</td>\n",
       "      <td>0.433</td>\n",
       "      <td>0.490</td>\n",
       "      <td>0.892</td>\n",
       "    </tr>\n",
       "    <tr>\n",
       "      <th>1</th>\n",
       "      <td>0.305</td>\n",
       "      <td>1.015</td>\n",
       "      <td>0.322</td>\n",
       "      <td>0.444</td>\n",
       "      <td>0.184</td>\n",
       "      <td>0.159</td>\n",
       "      <td>0.024</td>\n",
       "      <td>0.075</td>\n",
       "      <td>0.590</td>\n",
       "    </tr>\n",
       "    <tr>\n",
       "      <th>2</th>\n",
       "      <td>0.291</td>\n",
       "      <td>0.322</td>\n",
       "      <td>1.015</td>\n",
       "      <td>0.292</td>\n",
       "      <td>0.131</td>\n",
       "      <td>0.176</td>\n",
       "      <td>0.371</td>\n",
       "      <td>0.280</td>\n",
       "      <td>0.277</td>\n",
       "    </tr>\n",
       "    <tr>\n",
       "      <th>3</th>\n",
       "      <td>0.064</td>\n",
       "      <td>0.444</td>\n",
       "      <td>0.292</td>\n",
       "      <td>1.015</td>\n",
       "      <td>-0.141</td>\n",
       "      <td>-0.090</td>\n",
       "      <td>0.033</td>\n",
       "      <td>-0.031</td>\n",
       "      <td>0.320</td>\n",
       "    </tr>\n",
       "    <tr>\n",
       "      <th>4</th>\n",
       "      <td>0.602</td>\n",
       "      <td>0.184</td>\n",
       "      <td>0.131</td>\n",
       "      <td>-0.141</td>\n",
       "      <td>1.015</td>\n",
       "      <td>0.681</td>\n",
       "      <td>0.312</td>\n",
       "      <td>0.489</td>\n",
       "      <td>0.678</td>\n",
       "    </tr>\n",
       "    <tr>\n",
       "      <th>5</th>\n",
       "      <td>0.703</td>\n",
       "      <td>0.159</td>\n",
       "      <td>0.176</td>\n",
       "      <td>-0.090</td>\n",
       "      <td>0.681</td>\n",
       "      <td>1.015</td>\n",
       "      <td>0.484</td>\n",
       "      <td>0.673</td>\n",
       "      <td>0.595</td>\n",
       "    </tr>\n",
       "    <tr>\n",
       "      <th>6</th>\n",
       "      <td>0.433</td>\n",
       "      <td>0.024</td>\n",
       "      <td>0.371</td>\n",
       "      <td>0.033</td>\n",
       "      <td>0.312</td>\n",
       "      <td>0.484</td>\n",
       "      <td>1.015</td>\n",
       "      <td>0.769</td>\n",
       "      <td>0.417</td>\n",
       "    </tr>\n",
       "    <tr>\n",
       "      <th>7</th>\n",
       "      <td>0.490</td>\n",
       "      <td>0.075</td>\n",
       "      <td>0.280</td>\n",
       "      <td>-0.031</td>\n",
       "      <td>0.489</td>\n",
       "      <td>0.673</td>\n",
       "      <td>0.769</td>\n",
       "      <td>1.015</td>\n",
       "      <td>0.545</td>\n",
       "    </tr>\n",
       "    <tr>\n",
       "      <th>8</th>\n",
       "      <td>0.892</td>\n",
       "      <td>0.590</td>\n",
       "      <td>0.277</td>\n",
       "      <td>0.320</td>\n",
       "      <td>0.678</td>\n",
       "      <td>0.595</td>\n",
       "      <td>0.417</td>\n",
       "      <td>0.545</td>\n",
       "      <td>1.459</td>\n",
       "    </tr>\n",
       "  </tbody>\n",
       "</table>\n",
       "</div>"
      ],
      "text/plain": [
       "   lcavol  lweight    age   lbph    svi    lcp  gleason  pgg45   lpsa\n",
       "0   1.015    0.305  0.291  0.064  0.602  0.703    0.433  0.490  0.892\n",
       "1   0.305    1.015  0.322  0.444  0.184  0.159    0.024  0.075  0.590\n",
       "2   0.291    0.322  1.015  0.292  0.131  0.176    0.371  0.280  0.277\n",
       "3   0.064    0.444  0.292  1.015 -0.141 -0.090    0.033 -0.031  0.320\n",
       "4   0.602    0.184  0.131 -0.141  1.015  0.681    0.312  0.489  0.678\n",
       "5   0.703    0.159  0.176 -0.090  0.681  1.015    0.484  0.673  0.595\n",
       "6   0.433    0.024  0.371  0.033  0.312  0.484    1.015  0.769  0.417\n",
       "7   0.490    0.075  0.280 -0.031  0.489  0.673    0.769  1.015  0.545\n",
       "8   0.892    0.590  0.277  0.320  0.678  0.595    0.417  0.545  1.459"
      ]
     },
     "execution_count": 8,
     "metadata": {},
     "output_type": "execute_result"
    }
   ],
   "source": [
    "# On affiche la covariance en prenant la transposé \n",
    "# car np.cov calcule la matrice de covariance basée sur les lignes et non les colonnes\n",
    "cov = np.round(pd.DataFrame(np.cov(df.transpose())),3).rename(columns={0:'lcavol', 1:'lweight', 2:'age', 3:'lbph', 4:'svi', 5:'lcp', 6:'gleason', 7:'pgg45', 8:'lpsa'})\n",
    "cov"
   ]
  },
  {
   "cell_type": "code",
   "execution_count": 9,
   "metadata": {},
   "outputs": [
    {
     "data": {
      "image/png": "[encoded data removed]",
      "text/plain": [
       "<Figure size 800x600 with 2 Axes>"
      ]
     },
     "metadata": {},
     "output_type": "display_data"
    }
   ],
   "source": [
    "# Affichage sous forme d'une heatmap\n",
    "sns.set(font_scale=1.2)\n",
    "plt.figure(figsize=(8, 6))\n",
    "sns.heatmap(cov, cmap='coolwarm', fmt='.2f', xticklabels=True, yticklabels=True)\n",
    "plt.title('Heatmap matrice de Covariance')\n",
    "plt.show()"
   ]
  },
  {
   "cell_type": "markdown",
   "metadata": {},
   "source": [
    "## Observations\n",
    "On observe déja que la matrice de covariance est bien symétrique. On retrouve les valeurs de variances et covariances des différentes features de notre matrice.\n",
    "On observe une variance de la target Lpsas plus forte (1,46) que la variance des autres colonnes qui est égale à 1,015 pour toute.\n",
    "On observe une covariance importante entre la target lpsas et les colonnes lcavol et svi"
   ]
  },
  {
   "cell_type": "markdown",
   "metadata": {},
   "source": [
    "Quelques rappels à propos de la notion de covariance : https://fr.wikipedia.org/wiki/Covariance"
   ]
  },
  {
   "cell_type": "markdown",
   "metadata": {},
   "source": [
    "## Exercise 1 : least square regression \n",
    " * Build the matrix of features `X_train` for the training set, the first column is made of ones.\n",
    " * Estimate the regression vector `beta_hat` (estimates= `X*beta_hat`)\n",
    " _Indication: you may either use the function `inv` or another more efficient way to compute $A^{-1}B$ (think of `A\\B`)._ \n",
    " * What is the value of the first coefficient `beta_hat[0]` ? What does it correspond to ?\n",
    " * Estimate the prediction error (quadratic error) from the test set.\n",
    "\n",
    "\n",
    "*Indication: be careful of using `X_test` defined above, normalized w.r.t. the training data set. You can estimate this error by using:*"
   ]
  },
  {
   "cell_type": "code",
   "execution_count": 10,
   "metadata": {},
   "outputs": [],
   "source": [
    "t_test = data_test[:,8]   # target column\n",
    "N_test = data_test.shape[0]\n",
    "X_test = np.concatenate((np.ones((N_test,1)), M_test[:,0:8]), axis=1) \n",
    "# don't forget the 1st column of ones and normalization !"
   ]
  },
  {
   "cell_type": "code",
   "execution_count": 11,
   "metadata": {},
   "outputs": [
    {
     "name": "stdout",
     "output_type": "stream",
     "text": [
      "(67, 9)\n"
     ]
    }
   ],
   "source": [
    "# Exercise 1\n",
    "#Building the matrix for the training set\n",
    "t_train = data_train[:,8]\n",
    "N_train = data_train.shape[0]\n",
    "X_train = np.concatenate((np.ones((N_train,1)), M_train[:, 0:8]), axis=1)\n",
    "print(X_train.shape)"
   ]
  },
  {
   "cell_type": "code",
   "execution_count": 12,
   "metadata": {},
   "outputs": [
    {
     "name": "stdout",
     "output_type": "stream",
     "text": [
      "Xdag shape: (9, 67)\n",
      "beta_hat shape: (9, 1)\n"
     ]
    }
   ],
   "source": [
    "#compute the Moore-Penrose pseudo inverse\n",
    "\n",
    "X_dag = la.inv(X_train.T @ X_train) @ X_train.T\n",
    "print(f\"Xdag shape: {X_dag.shape}\")\n",
    "\n",
    "#Compute beta_hat the regresion vector\n",
    "beta_hat = (X_dag @ t_train).reshape(-1, 1)\n",
    "print(f\"beta_hat shape: {beta_hat.shape}\")\n",
    "\n",
    "# Prediction on the test set\n",
    "t_hat = X_test @ beta_hat"
   ]
  },
  {
   "cell_type": "code",
   "execution_count": 13,
   "metadata": {},
   "outputs": [
    {
     "name": "stdout",
     "output_type": "stream",
     "text": [
      "MSE = 47.17329449881957\n"
     ]
    }
   ],
   "source": [
    "#Compute MSE\n",
    "epsilon =  (t_hat - t_test)**2\n",
    "MSE =  np.sum(epsilon)/ t_hat.shape[0]\n",
    "print(f\"MSE = {MSE}\")"
   ]
  },
  {
   "cell_type": "code",
   "execution_count": 14,
   "metadata": {},
   "outputs": [
    {
     "name": "stdout",
     "output_type": "stream",
     "text": [
      "biais = 2.4523450850746267\n"
     ]
    }
   ],
   "source": [
    "#biais\n",
    "print(f\"biais = {beta_hat [0][0]}\") "
   ]
  },
  {
   "cell_type": "markdown",
   "metadata": {},
   "source": [
    "beta_hat [0] corresponds to the biais"
   ]
  },
  {
   "cell_type": "markdown",
   "metadata": {},
   "source": [
    "## Rejection test, computation of Z-scores\n",
    "Now we turn to the selection of the most significant entries so that our predictor be more robust. The essential idea is that our estimates will be more robust if only the most significant entries are taken into account. As a consequence, note that we will *reduce the dimension* of the problem from |p=8| to some smaller dimension. The present approach uses a statistical test to decide whether the regression coefficient corresponding to some entry is significantly non-zero. Then we can decide either to put non significant coefficients to zero, or to select the significant entries only and estimate the new reduced regression vector.\n",
    "\n",
    "Let's assume that target values are noisy due to some white Gaussian\n",
    "noise with variance $\\sigma^2$ (see Hastie & Tibshirani p. 47). One can show that the estimated regression vector |beta_hat| is also Gaussian with variance\n",
    "\n",
    "$$ var (\\widehat{\\beta}) = (X^TX)^{-1}\\sigma^2.$$  \n",
    "\n",
    "One can also show that the estimator of the variance (from the training set)\n",
    "\n",
    "$$\\widehat{\\sigma^2}=\\frac{1}{(N-p-1)}\\sum (t_n-\\widehat{t}_n)^2$$\n",
    "\n",
    "obeys a Chi-2 distribution. As a consequence a Chi-square statistical test can be used to determine whether some coefficient $\\beta_j$ is\n",
    "significantly non-zero. To this aim, one defines the variables $z_j$\n",
    "named Z-scores which in turn obey a Fisher law, also called\n",
    "$t$-distribution, which are often used in statistics:\n",
    "\n",
    "$$ z_j = \\frac{\\beta_j}{\\widehat{\\sigma}\\sqrt{v_j}} $$\n",
    "\n",
    "where $v_j$ is the $j$-th diagonal element of the matrix $(X^TX)^{-1}$.\n",
    "For sake of simplicity, we will consider that the null hypothesis of\n",
    "$\\beta_j$ is rejected with probability 95% if the Z-score is greater than 2."
   ]
  },
  {
   "cell_type": "markdown",
   "metadata": {},
   "source": [
    "## Exercise 2\n",
    "1. Compute the Z-scores and select the most significant entries.\n",
    "2. Estimate the prediction error over the test set if only these significant \n",
    "entries are taken into account for regression by putting other regression \n",
    "coefficients to zero.\n",
    "3. Estimate the new regression vector when only the significant features\n",
    "are taken into account.\n",
    "4. Compare to previous results (Exercise 1).\n",
    "\n",
    "*Indication 1 : to sort a vector `Z` in descending order*\n",
    "`val = np.sort(np.abs(Z))[-1:0:-1]`\n",
    "\n",
    "\n",
    "*Indication 2 :* to extract the diagonal of a matrix,\n",
    "`vXX = np.diag(inv(X.T.dot(X),k=0)`"
   ]
  },
  {
   "cell_type": "code",
   "execution_count": 15,
   "metadata": {},
   "outputs": [
    {
     "name": "stdout",
     "output_type": "stream",
     "text": [
      "p: 8\n",
      "\n",
      "vj shape: (9,)\n",
      "\n",
      "Sigma hat: 0.5073514562053173\n",
      "\n",
      "Z  = [39.565, 7.534, 3.862, -1.96, 2.886, 3.467, -2.621, -0.206, 2.44]\n",
      "['biais' 'lcavol' 'lweight' 'age' 'lbph' 'svi' 'lcp' 'gleason' 'pgg45']\n",
      "Selected entries: ['biais' 'lcavol' 'lweight' 'lbph' 'svi' 'lcp' 'pgg45']\n",
      "Entries where the null hypothesis wasn't rejected: ['age' 'gleason']\n"
     ]
    }
   ],
   "source": [
    "# Exercise 2\n",
    "#Define the variable number\n",
    "p = X_train.shape[1] - 1\n",
    "print(f\"p: {p}\\n\")\n",
    "\n",
    "#Extract the diagonal of a matrix\n",
    "vXX = np.diag(la.inv(X_train.T@ X_train))\n",
    "print(f\"vj shape: {vXX.shape}\\n\")\n",
    "\n",
    "# Compute an estimate of the variance sigma\n",
    "t_train_hat = X_train @ beta_hat\n",
    "sigma_hat = sum((t_train - t_train_hat.squeeze())**2)/(X_train.shape[0]-p-1)\n",
    "print(f\"Sigma hat: {sigma_hat}\\n\")\n",
    "\n",
    "# Compute Z_scores\n",
    "Z = [np.round(beta_hat[j][0]/(sigma_hat*np.sqrt(vXX[j])),3) for j in range (len(beta_hat))]\n",
    "print(f\"Z  = {Z}\")\n",
    "\n",
    "# Select the most significant entries with a 95% interval\n",
    "selected_features = np.abs(Z) > 2\n",
    "columns = np.array(['biais'] + df.columns.to_list()[:-1])\n",
    "print(columns)\n",
    "print(f\"Selected entries: {columns[selected_features]}\")\n",
    "# The following features are considered non significant\n",
    "print(f\"Entries where the null hypothesis wasn't rejected: {columns[ np.abs(Z) < 2]}\")"
   ]
  },
  {
   "cell_type": "code",
   "execution_count": 16,
   "metadata": {},
   "outputs": [
    {
     "name": "stdout",
     "output_type": "stream",
     "text": [
      "New values of beta hat: [[ 2.45234509]\n",
      " [ 0.71104059]\n",
      " [ 0.29045029]\n",
      " [ 0.        ]\n",
      " [ 0.21041951]\n",
      " [ 0.30730025]\n",
      " [-0.28684075]\n",
      " [ 0.        ]\n",
      " [ 0.27526843]]\n",
      "\n",
      "MSE: 50.03081886659442\n"
     ]
    }
   ],
   "source": [
    "beta_hat_new = beta_hat\n",
    "# We set to zero the values of regression coefficients that weren't conserved\n",
    "beta_hat_new[ np.abs(Z) < 2] = 0\n",
    "print(f\"New values of beta hat: {beta_hat_new}\\n\")\n",
    "\n",
    "# We compute an estimate of t_test with the new regression coefficients\n",
    "t_hat_new = X_test @ beta_hat_new\n",
    "# We compute the MSE\n",
    "MSE_new =  np.sum((t_hat_new - t_test)**2)/ t_test.shape[0]\n",
    "print(f\"MSE: {MSE_new}\")\n",
    "# The MSE_new > MSE so the model performs worse than before "
   ]
  },
  {
   "cell_type": "code",
   "execution_count": 20,
   "metadata": {},
   "outputs": [
    {
     "name": "stdout",
     "output_type": "stream",
     "text": [
      "Xdag shape: (7, 67)\n",
      "beta_hat shape: (7, 1)\n",
      "MSE = 47.17329449881957\n"
     ]
    }
   ],
   "source": [
    "# Compute the regression estimate and MSE using only the selected entries\n",
    "\n",
    "#compute the Moore-Penrose pseudo inverse\n",
    "\n",
    "X_dag = la.inv(X_train[:,selected_features].T @ X_train[:,selected_features]) @ X_train[:,selected_features].T\n",
    "print(f\"Xdag shape: {X_dag.shape}\")\n",
    "\n",
    "#Compute beta_hat the regresion vector\n",
    "beta_hat_2 = (X_dag @ t_train).reshape(-1,1)\n",
    "print(f\"beta_hat shape: {beta_hat_2.shape}\")\n",
    "\n",
    "# Prediction on the test set\n",
    "t_hat = X_test[:,selected_features] @ beta_hat_2\n",
    "\n",
    "#Compute MSE\n",
    "epsilon =  (t_hat - t_test)**2\n",
    "MSE_2 =  np.sum(epsilon)/ t_hat.shape[0]\n",
    "print(f\"MSE = {MSE}\")\n",
    "\n",
    "# The MSE obtained by recomputing the regression vector estimate is identical to the one obtained previously \n",
    "# so we haven't improved the generalisation capability of our model but we've proved that the columns removed do not hold any influence on the prediction error"
   ]
  },
  {
   "cell_type": "markdown",
   "metadata": {},
   "source": [
    "# Part 2: Regularized least squares\n",
    "This part deals with regularized least square regression. We denote\n",
    "by `beta_hat_reg` the resulting coefficients. This approach is an alternative to the selection based on statistical tests above. The idea is now to penalize large values of regression coefficients, *except for the bias*.\n",
    "\n",
    "We use the result:\n",
    "\n",
    "$$\\hat{\\beta} = (\\lambda I_p + X_c^T X_c)^{-1} X_c^T t_c$$\n",
    "\n",
    "where $X_c$ contains the normalized entries of the training data set with \n",
    "no column of ones (the bias should no be penalized and is processed). \n",
    "The targets `t_c` are therefore also centered, `t_c=t-mean(t)`.\n",
    " \n",
    "First, we estimate the bias $t_0$ to center the targets which yields the coefficient $\\beta_0$, that is `beta_hat_reg[0]` in Python.\n",
    "\n",
    "*Remark : the bias is estimated as the empirical average of targets.\n",
    "For tests, entries should be normalized with respect to the means and\n",
    "variances of the training data set (see exercise 3.5 p. 95 in Hastie & Tibshirani). Then work on the vector of entries with no column of ones.*"
   ]
  },
  {
   "cell_type": "markdown",
   "metadata": {},
   "source": [
    "## Exercise 3\n",
    "1. Use _ridge regression_ for penalty `lambda = 25` to estimate the regression vector. \n",
    "2. Estimate the prediction error from the test set.\n",
    "3. Compare the results (coefficients $\\beta$, error...) to previous ones.\n",
    "4. You may also compare these results to the result of best subset selection below:\n",
    "\n",
    "`beta_best = [2.477 0.74 0.316 0 0 0 0 0 0]`.\n",
    "\n",
    "*Indication : a simple way to obtain predictions for the test data set is the code below:*"
   ]
  },
  {
   "cell_type": "code",
   "execution_count": 72,
   "metadata": {},
   "outputs": [],
   "source": [
    "t = data_train[:,8]   # column of targets\n",
    "t0 = np.mean(t)\n",
    "\n",
    "N_test = data_test.shape[0]\n",
    "X_test = np.hstack((np.ones((N_test,1)), M_test[:,0:8]))  \n",
    "# Here the 1st column of X_test is a column of ones.\n",
    "#t_hat_reg = X_test.dot(beta_hat_reg)"
   ]
  },
  {
   "cell_type": "code",
   "execution_count": 22,
   "metadata": {},
   "outputs": [
    {
     "name": "stdout",
     "output_type": "stream",
     "text": [
      "(67, 9)\n"
     ]
    }
   ],
   "source": [
    "# Exercise 3\n",
    "#Building the matrix for the training set \n",
    "# We don't add the columns of one's as we do not want to penalise the bias\n",
    "t_c = data_train[:,8] - t0\n",
    "N_train = data_train.shape[0]\n",
    "X_c =  M_train[:, 0:8]\n",
    "print(X_train.shape)"
   ]
  },
  {
   "cell_type": "code",
   "execution_count": 64,
   "metadata": {},
   "outputs": [
    {
     "name": "stdout",
     "output_type": "stream",
     "text": [
      "beta_hat_reg shape: (9, 1)\n",
      "\n",
      "MSE_reg = 44.75465262184944\n",
      "\n",
      "MSE_2 = 47.66532790460011\n",
      "\n"
     ]
    },
    {
     "data": {
      "text/html": [
       "<div>\n",
       "<style scoped>\n",
       "    .dataframe tbody tr th:only-of-type {\n",
       "        vertical-align: middle;\n",
       "    }\n",
       "\n",
       "    .dataframe tbody tr th {\n",
       "        vertical-align: top;\n",
       "    }\n",
       "\n",
       "    .dataframe thead th {\n",
       "        text-align: right;\n",
       "    }\n",
       "</style>\n",
       "<table border=\"1\" class=\"dataframe\">\n",
       "  <thead>\n",
       "    <tr style=\"text-align: right;\">\n",
       "      <th></th>\n",
       "      <th>index</th>\n",
       "      <th>beta_hat_reg</th>\n",
       "      <th>beta_hat_2</th>\n",
       "    </tr>\n",
       "  </thead>\n",
       "  <tbody>\n",
       "    <tr>\n",
       "      <th>0</th>\n",
       "      <td>biais</td>\n",
       "      <td>2.452345</td>\n",
       "      <td>2.452345</td>\n",
       "    </tr>\n",
       "    <tr>\n",
       "      <th>1</th>\n",
       "      <td>lcavol</td>\n",
       "      <td>0.422109</td>\n",
       "      <td>0.678032</td>\n",
       "    </tr>\n",
       "    <tr>\n",
       "      <th>2</th>\n",
       "      <td>lweight</td>\n",
       "      <td>0.248792</td>\n",
       "      <td>0.266366</td>\n",
       "    </tr>\n",
       "    <tr>\n",
       "      <th>3</th>\n",
       "      <td>age</td>\n",
       "      <td>-0.042265</td>\n",
       "      <td>NaN</td>\n",
       "    </tr>\n",
       "    <tr>\n",
       "      <th>4</th>\n",
       "      <td>lbph</td>\n",
       "      <td>0.165754</td>\n",
       "      <td>0.183008</td>\n",
       "    </tr>\n",
       "    <tr>\n",
       "      <th>5</th>\n",
       "      <td>svi</td>\n",
       "      <td>0.230915</td>\n",
       "      <td>0.315281</td>\n",
       "    </tr>\n",
       "    <tr>\n",
       "      <th>6</th>\n",
       "      <td>lcp</td>\n",
       "      <td>0.010663</td>\n",
       "      <td>-0.265293</td>\n",
       "    </tr>\n",
       "    <tr>\n",
       "      <th>7</th>\n",
       "      <td>gleason</td>\n",
       "      <td>0.043060</td>\n",
       "      <td>NaN</td>\n",
       "    </tr>\n",
       "    <tr>\n",
       "      <th>8</th>\n",
       "      <td>pgg45</td>\n",
       "      <td>0.131513</td>\n",
       "      <td>0.219316</td>\n",
       "    </tr>\n",
       "  </tbody>\n",
       "</table>\n",
       "</div>"
      ],
      "text/plain": [
       "     index  beta_hat_reg  beta_hat_2\n",
       "0    biais      2.452345    2.452345\n",
       "1   lcavol      0.422109    0.678032\n",
       "2  lweight      0.248792    0.266366\n",
       "3      age     -0.042265         NaN\n",
       "4     lbph      0.165754    0.183008\n",
       "5      svi      0.230915    0.315281\n",
       "6      lcp      0.010663   -0.265293\n",
       "7  gleason      0.043060         NaN\n",
       "8    pgg45      0.131513    0.219316"
      ]
     },
     "execution_count": 64,
     "metadata": {},
     "output_type": "execute_result"
    }
   ],
   "source": [
    "#Compute beta_hat the regresion vector\n",
    "ld = 25\n",
    "p = X_c.shape[1]\n",
    "beta_hat_reg = (la.inv(ld*np.eye(p) +  X_c.T @ X_c) @ X_c.transpose() @ t_c).reshape(-1, 1)\n",
    "\n",
    "# The biais is the mean of the training set target\n",
    "beta_0 = t0\n",
    "beta_hat_reg = np.concatenate((np.array(beta_0).reshape(1,1),beta_hat_reg))\n",
    "print(f\"beta_hat_reg shape: {beta_hat_reg.shape}\\n\")\n",
    "\n",
    "# Prediction on the test set\n",
    "t_hat = X_test @ beta_hat_reg\n",
    "\n",
    "#Compute MSE\n",
    "epsilon =  (t_hat - t_test)**2\n",
    "MSE_reg =  np.sum(epsilon)/ t_hat.shape[0]\n",
    "print(f\"MSE_reg = {MSE_reg}\\n\")\n",
    "print(f\"MSE_2 = {MSE_2}\\n\")\n",
    "\n",
    "# MSE_reg < MSE, using riddge regression we've managed to improve our MSE\n",
    "# Let's take a look at the coefficients \n",
    "pd.merge(pd.DataFrame({'index': columns, 'beta_hat_reg': beta_hat_reg.squeeze()}),(pd.DataFrame(({'index': columns[selected_features], 'beta_hat_2': beta_hat_2.squeeze()}))),how='outer', on= 'index')\n",
    "\n",
    "# We can observe that the biais stays the same as it's still t0. \n",
    "# Overall the coefficients of beta_hat_2 are bigger than the respective coefficients in beta_hat_reg, \n",
    "# which makes sense as ridge regression penalizes coefficients that are too high.\n"
   ]
  },
  {
   "cell_type": "markdown",
   "metadata": {},
   "source": [
    "# Part 3: Cross-Validation \n",
    "\n",
    "## How to choose lambda from the training data set only ? \n",
    "\n",
    "The idea is to decompose the training set in 2 subsets: one subset for\n",
    "linear regression (say 9/10 of the data), the other to estimate the prediction error (say 1/10 of the data).\n",
    "\n",
    "We can repeat this operation 10 times over the 10 possible couples of\n",
    "subsets to estimate the average prediction error. We will choose the\n",
    "value of `lambda` which minimizes this error. The algorithm goes as\n",
    "follows:\n",
    "\n",
    "For the 10 cross-validation cases\n",
    "    \n",
    "    Extraction of test & training subsets `testset` & `trainset`\n",
    "    \n",
    "    For lambda in 0:40\n",
    "        Estimate `beta_hat` from normalized `trainset` (mean=0, var=1)\n",
    "        Estimate the error from  `testset`\n",
    "    EndFor lambda\n",
    "\n",
    "EndFor 10 cases\n",
    "\n",
    "Compute the average error for each lambda\n",
    "\n",
    "Choose `lambda` which minimizes the error \n"
   ]
  },
  {
   "cell_type": "markdown",
   "metadata": {},
   "source": [
    "## Exercise 4\n",
    "* Use 6-fold cross-validation in the present study to optimize the choice of `lambda`. \n",
    "Try values of `lambda` ranging from 0 to 40 for instance (0:40).\n",
    "* Plot the estimated error as a function of `lambda`.\n",
    "* Propose a well chosen value of `lambda` and give the estimated corresponding\n",
    "error on the test set.\n",
    "* Comment on your results.\n",
    "\n",
    "*Indication 1 : think of shuffling the dataset first.*\n",
    "\n",
    "*Indication 2 : you can build 6 training and test subsets by using the code below*"
   ]
  },
  {
   "cell_type": "code",
   "execution_count": 107,
   "metadata": {},
   "outputs": [],
   "source": [
    "lmax = 40\n",
    "lambda_pos = arange(0,lmax+1) \n",
    "\n",
    "N_test = 10\n",
    "m=np.zeros(8)\n",
    "s = np.zeros(8)\n",
    "X_traink = np.zeros((X_train.shape[0]-N_test,8))\n",
    "X_testk = np.zeros((N_test,8))\n",
    "erreur = np.zeros((6,lmax+1))\n",
    "erreur_rel = np.zeros((6,lmax+1))"
   ]
  },
  {
   "cell_type": "code",
   "execution_count": 160,
   "metadata": {},
   "outputs": [],
   "source": [
    "# Exercise 4 \n",
    "random_seed = 10\n",
    "shuffled_data_train = data_train.copy()\n",
    "random.shuffle(shuffled_data_train)\n",
    "\n",
    "\n",
    "for ld in lambda_pos:\n",
    "    error_ld = np.zeros(6)\n",
    "    erreur_rel_ld = np.zeros(6)\n",
    "    for j in range(6):   # loop on test subsets\n",
    "        # extraction of testset\n",
    "        testset  = shuffled_data_train[arange(j*N_test,(j+1)*N_test),0:9] \n",
    "        # extraction of trainset\n",
    "        trainset = shuffled_data_train[hstack((arange(j*N_test),arange((j+1)*N_test,data_train.shape[0]))),0:9] \n",
    "        \n",
    "        # normalization of entries\n",
    "        normalize = lambda vec: (vec-np.mean(vec))/np.std(vec)   \n",
    "        moy = np.array( [ np.mean(vec) for vec in trainset[:,0:8].T ] )\n",
    "        sigma = np.array( [ np.std(vec, ddof=0) for vec in trainset[:,0:8].T ] )\n",
    "        X_c = np.array( [ normalize(vec) for vec in trainset[:,0:8].T ] ).T  # iterate on vec direct / ARRAY not LIST\n",
    "        X_test = np.array([ (testset[:,k]-moy[k])/sigma[k] for k in range(X_c.shape[1]) ] ).T\n",
    "        X_test  = np.hstack((np.ones((N_test,1)), X_test[:,0:8]))  \n",
    "\n",
    "        # We normalise the training target\n",
    "        t0 = np.mean(trainset[:,8])\n",
    "        t_c = trainset[:,8] - t0\n",
    "        t_test = testset[:,8]\n",
    "\n",
    "        # We compute the regression vector for the specifique fold and lambda value\n",
    "        p = X_c.shape[1]\n",
    "        beta_hat_reg = (la.inv(ld*np.eye(p) +  X_c.T @ X_c) @ X_c.transpose() @ t_c).reshape(-1, 1)\n",
    "\n",
    "        # The biais is the mean of the training set target\n",
    "        beta_0 = t0\n",
    "        beta_hat_reg = np.concatenate((np.array(beta_0).reshape(1,1),beta_hat_reg))\n",
    "        # Prediction on the test set\n",
    "        t_hat = X_test @ beta_hat_reg\n",
    "\n",
    "        #Compute MSE\n",
    "        epsilon =  (t_hat - t_test)**2\n",
    "        ecart_rel = [abs(t_hat[k][0] - t_test[k])/t_test[k] for k in range (len(t_hat))]\n",
    "        MSE_reg =  np.sum(epsilon)/ t_hat.shape[0]\n",
    "        error_ld[j] = MSE_reg\n",
    "        erreur_rel_ld[j] = np.mean(ecart_rel)\n",
    "\n",
    "    erreur[:,ld] = error_ld\n",
    "    erreur_rel[:,ld] = erreur_rel_ld\n",
    "        "
   ]
  },
  {
   "cell_type": "code",
   "execution_count": 161,
   "metadata": {},
   "outputs": [
    {
     "data": {
      "text/plain": [
       "array([14.67850887, 14.52618012, 14.39127   , 14.26987953, 14.15934295,\n",
       "       14.0577545 , 13.96370193, 13.87610711, 13.79412623, 13.71708469,\n",
       "       13.6444333 , 13.57571789, 13.51055775, 13.44862989, 13.38965739,\n",
       "       13.33340062, 13.27965052, 13.22822329, 13.17895629, 13.13170472,\n",
       "       13.08633894, 13.04274234, 13.00080951, 12.96044478, 12.92156098,\n",
       "       12.8840784 , 12.84792391, 12.81303022, 12.77933523, 12.74678145,\n",
       "       12.71531558, 12.68488803, 12.65545262, 12.6269662 , 12.59938841,\n",
       "       12.57268143, 12.54680973, 12.52173993, 12.49744054, 12.47388191,\n",
       "       12.45103601])"
      ]
     },
     "execution_count": 161,
     "metadata": {},
     "output_type": "execute_result"
    }
   ],
   "source": [
    "erreur.mean(axis=0)"
   ]
  },
  {
   "cell_type": "code",
   "execution_count": 162,
   "metadata": {},
   "outputs": [
    {
     "data": {
      "text/plain": [
       "array([-0.0883559 , -0.11798818, -0.15089238, -0.18179922, -0.21096892,\n",
       "       -0.23860726, -0.26488104, -0.28992816, -0.31386449, -0.33678868,\n",
       "       -0.35870111, -0.37971343, -0.39993704, -0.41942938, -0.43788684,\n",
       "       -0.45573079, -0.47300453, -0.48974284, -0.50597728, -0.52173655,\n",
       "       -0.53704689, -0.55193232, -0.56628401, -0.58021733, -0.59379134,\n",
       "       -0.6070232 , -0.61992884, -0.63252306, -0.64481966, -0.65683153,\n",
       "       -0.66852392, -0.67982425, -0.69087619, -0.7016896 , -0.71227371,\n",
       "       -0.72263725, -0.73278844, -0.74273504, -0.7524844 , -0.76204347,\n",
       "       -0.77141884])"
      ]
     },
     "execution_count": 162,
     "metadata": {},
     "output_type": "execute_result"
    }
   ],
   "source": [
    "erreur_rel.mean(axis=0)"
   ]
  },
  {
   "cell_type": "code",
   "execution_count": null,
   "metadata": {},
   "outputs": [],
   "source": [
    "# Exercise 4 ---------------\n",
    "# ...\n",
    "# averaged error on the 6 training/test sets ?\n",
    "# averaged error on the 6 training/test sets ?\n",
    "# standard variation of this error estimate ?\n",
    "\n",
    "# print(erreur_lambda, std_erreur_lambda, erreur_rel_lambda)\n"
   ]
  },
  {
   "cell_type": "code",
   "execution_count": null,
   "metadata": {},
   "outputs": [],
   "source": [
    "# Exercise 4 FIGURE ---------------\n",
    "# ...\n"
   ]
  },
  {
   "cell_type": "code",
   "execution_count": null,
   "metadata": {},
   "outputs": [],
   "source": [
    "# Exercise 4 (continued)"
   ]
  }
 ],
 "metadata": {
  "kernelspec": {
   "display_name": "Python 3",
   "language": "python",
   "name": "python3"
  },
  "language_info": {
   "codemirror_mode": {
    "name": "ipython",
    "version": 3
   },
   "file_extension": ".py",
   "mimetype": "text/x-python",
   "name": "python",
   "nbconvert_exporter": "python",
   "pygments_lexer": "ipython3",
   "version": "3.11.5"
  }
 },
 "nbformat": 4,
 "nbformat_minor": 2
}
