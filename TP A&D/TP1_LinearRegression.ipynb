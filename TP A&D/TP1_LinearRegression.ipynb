{
 "cells": [
  {
   "cell_type": "markdown",
   "metadata": {},
   "source": [
    "# TP1 : Linear regression"
   ]
  },
  {
   "cell_type": "markdown",
   "metadata": {},
   "source": [
    "DESNOYER Jeremy\n",
    "PIQUET Lucas"
   ]
  },
  {
   "cell_type": "markdown",
   "metadata": {},
   "source": [
    "The purpose of this work is to implement least square linear regression to medical data. The problem is based on an example described in the book by Hastie & Tibshirani (2009) pp. 3-4 & 49-63. Data come from a study published by Stamey et al. (1989). This study aims at the prediction of the level of prostate specific antigen, denoted by `lpsa` below, from the\n",
    "results of clinical exams. These exams are carried out before a possible\n",
    "prostatectomy.\n",
    "\n",
    "The measurements are log cancer volume `lcavol`, log prostate \n",
    "weight `lweight`, age of the patient `age`, log of benign prostatic \n",
    "hyperplasia amount `lbph`, seminal vesicle invasion `svi`, log of capsular \n",
    "penetration `lcp`, Gleason score `gleason`, and percent of Gleason scores 4 or \n",
    "5 `pgg45`. The variables `svi` and `gleason` are categorical, others are\n",
    "quantitative. There are `p=8` entries.\n",
    "The work is decomposed in the following tasks:\n",
    "\n",
    "* read and format the data : extraction of the training and test sets,\n",
    "* apply least square regression method to predict `lpsa` from the entries,\n",
    "* study the estimated error on the test set (validation),\n",
    "* identify the most significant entries by using a rejection test,\n",
    "* apply regularized least square regression method (ridge regression),\n",
    "* search for an optimal regularization parameter thanks to\n",
    "cross-validation."
   ]
  },
  {
   "cell_type": "code",
   "execution_count": 60,
   "metadata": {},
   "outputs": [],
   "source": [
    "import csv\n",
    "# import os\n",
    "from pylab import *\n",
    "import numpy as np\n",
    "from numpy import linalg as la\n",
    "import matplotlib.pyplot as plt\n",
    "\n",
    "import pandas as pd\n",
    "import seaborn as sns\n",
    "import random"
   ]
  },
  {
   "cell_type": "markdown",
   "metadata": {},
   "source": [
    "## Read & Normalize data\n",
    "Data are stored in ASCII format: \n",
    "\n",
    "* the first column enumerates the data from 1 à 97 (97 male subjects). \n",
    "* columns 2 to 9 contain the entries themselves. \n",
    "* column 10 contains target values. \n",
    "* column 11 contains label 1 for the training set, \n",
    "and 2 for the test set."
   ]
  },
  {
   "cell_type": "code",
   "execution_count": 61,
   "metadata": {},
   "outputs": [],
   "source": [
    "#%% To read data from spaced separated float numbers\n",
    "# x, y = np.loadtxt(c, delimiter=',', usecols=(0, 2), unpack=True)\n",
    "\n",
    "data_init = np.loadtxt('prostate_data_sansheader.txt')\n",
    "\n",
    "data = data_init[:,1:]   # we get rid of the indices (1 to 97)\n",
    "\n",
    "#%% Extraction of training/test sets\n",
    "Itrain = np.nonzero(data[:,-1]==1)\n",
    "data_train=data[Itrain]   # original data\n",
    "\n",
    "Itest = np.nonzero(data[:,-1]==0)\n",
    "data_test = data[Itest]   # original data"
   ]
  },
  {
   "cell_type": "markdown",
   "metadata": {},
   "source": [
    "**Normalization of the data** *with respect to the mean and standard deviation of the training set*."
   ]
  },
  {
   "cell_type": "code",
   "execution_count": 62,
   "metadata": {},
   "outputs": [
    {
     "name": "stdout",
     "output_type": "stream",
     "text": [
      "[ 1.23328245  0.47303067  7.44601122  1.45269103  0.41684299  1.39024269\n",
      "  0.70355366 29.08227243]\n"
     ]
    }
   ],
   "source": [
    "M_train = data_train\n",
    "M_test = data_test \n",
    "moy = np.zeros((8,))\n",
    "sigma = np.zeros((8,))\n",
    "\n",
    "# With a FOR loop :\n",
    "for k in range(8): # 8 columns of entries\n",
    "    moy[k]=np.mean(data_train[:,k])\n",
    "    sigma[k] = np.std(data_train[:,k], ddof=0)\n",
    "    M_train[:,k] = (data_train[:,k]-moy[k])/sigma[k] # normalized: centered, variance 1\n",
    "    M_test[:,k] = (data_test[:,k]-moy[k])/sigma[k]   # same normalization for test set\n",
    "\n",
    "print(sigma)"
   ]
  },
  {
   "cell_type": "code",
   "execution_count": 63,
   "metadata": {},
   "outputs": [
    {
     "data": {
      "text/plain": [
       "'\\n# Alternative WITHOUT FOR\\nnormalize = lambda vec: (vec-np.mean(vec))/np.std(vec)    # inline function \\nM_train = np.array( [ normalize(vec) for vec in data_train[:,0:8].T ] ).T  # iterate on vec direct / ARRAY not LIST\\nmoy = np.array( [ np.mean(vec) for vec in data_train[:,0:8].T ] )\\nsigma = np.array( [ np.std(vec, ddof=0) for vec in data_train[:,0:8].T ] )\\n\\nM_test = np.array([ (data_test[:,k]-moy[k])/sigma[k] for k in range(M_train.shape[1]) ] ).T\\n'"
      ]
     },
     "execution_count": 63,
     "metadata": {},
     "output_type": "execute_result"
    }
   ],
   "source": [
    "\"\"\"\n",
    "# Alternative WITHOUT FOR\n",
    "normalize = lambda vec: (vec-np.mean(vec))/np.std(vec)    # inline function \n",
    "M_train = np.array( [ normalize(vec) for vec in data_train[:,0:8].T ] ).T  # iterate on vec direct / ARRAY not LIST\n",
    "moy = np.array( [ np.mean(vec) for vec in data_train[:,0:8].T ] )\n",
    "sigma = np.array( [ np.std(vec, ddof=0) for vec in data_train[:,0:8].T ] )\n",
    "\n",
    "M_test = np.array([ (data_test[:,k]-moy[k])/sigma[k] for k in range(M_train.shape[1]) ] ).T\n",
    "\"\"\""
   ]
  },
  {
   "cell_type": "markdown",
   "metadata": {},
   "source": [
    "# Part 1 : simple least square regression"
   ]
  },
  {
   "cell_type": "markdown",
   "metadata": {},
   "source": [
    "## Preliminary questions\n",
    " \n",
    " * Compute the autocovariance matrix from the training set.\n",
    " * Observe carefully & Comment. What kind of information can you get ? "
   ]
  },
  {
   "cell_type": "code",
   "execution_count": 64,
   "metadata": {},
   "outputs": [
    {
     "data": {
      "text/html": [
       "<div>\n",
       "<style scoped>\n",
       "    .dataframe tbody tr th:only-of-type {\n",
       "        vertical-align: middle;\n",
       "    }\n",
       "\n",
       "    .dataframe tbody tr th {\n",
       "        vertical-align: top;\n",
       "    }\n",
       "\n",
       "    .dataframe thead th {\n",
       "        text-align: right;\n",
       "    }\n",
       "</style>\n",
       "<table border=\"1\" class=\"dataframe\">\n",
       "  <thead>\n",
       "    <tr style=\"text-align: right;\">\n",
       "      <th></th>\n",
       "      <th>lcavol</th>\n",
       "      <th>lweight</th>\n",
       "      <th>age</th>\n",
       "      <th>lbph</th>\n",
       "      <th>svi</th>\n",
       "      <th>lcp</th>\n",
       "      <th>gleason</th>\n",
       "      <th>pgg45</th>\n",
       "      <th>lpsa</th>\n",
       "    </tr>\n",
       "  </thead>\n",
       "  <tbody>\n",
       "    <tr>\n",
       "      <th>0</th>\n",
       "      <td>-1.535180</td>\n",
       "      <td>-1.810979</td>\n",
       "      <td>-1.980425</td>\n",
       "      <td>-1.003472</td>\n",
       "      <td>-0.537086</td>\n",
       "      <td>-0.843084</td>\n",
       "      <td>-1.039499</td>\n",
       "      <td>-0.903253</td>\n",
       "      <td>-0.430783</td>\n",
       "    </tr>\n",
       "    <tr>\n",
       "      <th>1</th>\n",
       "      <td>-1.871221</td>\n",
       "      <td>-0.647911</td>\n",
       "      <td>-0.906025</td>\n",
       "      <td>-1.003472</td>\n",
       "      <td>-0.537086</td>\n",
       "      <td>-0.843084</td>\n",
       "      <td>-1.039499</td>\n",
       "      <td>-0.903253</td>\n",
       "      <td>-0.162519</td>\n",
       "    </tr>\n",
       "    <tr>\n",
       "      <th>2</th>\n",
       "      <td>-1.479237</td>\n",
       "      <td>-1.976330</td>\n",
       "      <td>1.242777</td>\n",
       "      <td>-1.003472</td>\n",
       "      <td>-0.537086</td>\n",
       "      <td>-0.843084</td>\n",
       "      <td>0.381857</td>\n",
       "      <td>-0.215549</td>\n",
       "      <td>-0.162519</td>\n",
       "    </tr>\n",
       "    <tr>\n",
       "      <th>3</th>\n",
       "      <td>-2.041272</td>\n",
       "      <td>-0.725785</td>\n",
       "      <td>-0.906025</td>\n",
       "      <td>-1.003472</td>\n",
       "      <td>-0.537086</td>\n",
       "      <td>-0.843084</td>\n",
       "      <td>-1.039499</td>\n",
       "      <td>-0.903253</td>\n",
       "      <td>-0.162519</td>\n",
       "    </tr>\n",
       "    <tr>\n",
       "      <th>4</th>\n",
       "      <td>-0.455756</td>\n",
       "      <td>-0.409561</td>\n",
       "      <td>-0.368824</td>\n",
       "      <td>-1.003472</td>\n",
       "      <td>-0.537086</td>\n",
       "      <td>-0.843084</td>\n",
       "      <td>-1.039499</td>\n",
       "      <td>-0.903253</td>\n",
       "      <td>0.371564</td>\n",
       "    </tr>\n",
       "  </tbody>\n",
       "</table>\n",
       "</div>"
      ],
      "text/plain": [
       "     lcavol   lweight       age      lbph       svi       lcp   gleason  \\\n",
       "0 -1.535180 -1.810979 -1.980425 -1.003472 -0.537086 -0.843084 -1.039499   \n",
       "1 -1.871221 -0.647911 -0.906025 -1.003472 -0.537086 -0.843084 -1.039499   \n",
       "2 -1.479237 -1.976330  1.242777 -1.003472 -0.537086 -0.843084  0.381857   \n",
       "3 -2.041272 -0.725785 -0.906025 -1.003472 -0.537086 -0.843084 -1.039499   \n",
       "4 -0.455756 -0.409561 -0.368824 -1.003472 -0.537086 -0.843084 -1.039499   \n",
       "\n",
       "      pgg45      lpsa  \n",
       "0 -0.903253 -0.430783  \n",
       "1 -0.903253 -0.162519  \n",
       "2 -0.215549 -0.162519  \n",
       "3 -0.903253 -0.162519  \n",
       "4 -0.903253  0.371564  "
      ]
     },
     "execution_count": 64,
     "metadata": {},
     "output_type": "execute_result"
    }
   ],
   "source": [
    "# On charge les données dans un datframe + renommer les colonnes pour une meilleur visibilité \n",
    "df = pd.DataFrame(M_train[:,:-1])\n",
    "df = df.rename(columns={0:'lcavol', 1:'lweight', 2:'age', 3:'lbph', 4:'svi', 5:'lcp', 6:'gleason', 7:'pgg45', 8:'lpsa'})\n",
    "df.head()"
   ]
  },
  {
   "cell_type": "code",
   "execution_count": 65,
   "metadata": {},
   "outputs": [
    {
     "data": {
      "text/html": [
       "<div>\n",
       "<style scoped>\n",
       "    .dataframe tbody tr th:only-of-type {\n",
       "        vertical-align: middle;\n",
       "    }\n",
       "\n",
       "    .dataframe tbody tr th {\n",
       "        vertical-align: top;\n",
       "    }\n",
       "\n",
       "    .dataframe thead th {\n",
       "        text-align: right;\n",
       "    }\n",
       "</style>\n",
       "<table border=\"1\" class=\"dataframe\">\n",
       "  <thead>\n",
       "    <tr style=\"text-align: right;\">\n",
       "      <th></th>\n",
       "      <th>lcavol</th>\n",
       "      <th>lweight</th>\n",
       "      <th>age</th>\n",
       "      <th>lbph</th>\n",
       "      <th>svi</th>\n",
       "      <th>lcp</th>\n",
       "      <th>gleason</th>\n",
       "      <th>pgg45</th>\n",
       "      <th>lpsa</th>\n",
       "    </tr>\n",
       "  </thead>\n",
       "  <tbody>\n",
       "    <tr>\n",
       "      <th>0</th>\n",
       "      <td>1.015</td>\n",
       "      <td>0.305</td>\n",
       "      <td>0.291</td>\n",
       "      <td>0.064</td>\n",
       "      <td>0.602</td>\n",
       "      <td>0.703</td>\n",
       "      <td>0.433</td>\n",
       "      <td>0.490</td>\n",
       "      <td>0.892</td>\n",
       "    </tr>\n",
       "    <tr>\n",
       "      <th>1</th>\n",
       "      <td>0.305</td>\n",
       "      <td>1.015</td>\n",
       "      <td>0.322</td>\n",
       "      <td>0.444</td>\n",
       "      <td>0.184</td>\n",
       "      <td>0.159</td>\n",
       "      <td>0.024</td>\n",
       "      <td>0.075</td>\n",
       "      <td>0.590</td>\n",
       "    </tr>\n",
       "    <tr>\n",
       "      <th>2</th>\n",
       "      <td>0.291</td>\n",
       "      <td>0.322</td>\n",
       "      <td>1.015</td>\n",
       "      <td>0.292</td>\n",
       "      <td>0.131</td>\n",
       "      <td>0.176</td>\n",
       "      <td>0.371</td>\n",
       "      <td>0.280</td>\n",
       "      <td>0.277</td>\n",
       "    </tr>\n",
       "    <tr>\n",
       "      <th>3</th>\n",
       "      <td>0.064</td>\n",
       "      <td>0.444</td>\n",
       "      <td>0.292</td>\n",
       "      <td>1.015</td>\n",
       "      <td>-0.141</td>\n",
       "      <td>-0.090</td>\n",
       "      <td>0.033</td>\n",
       "      <td>-0.031</td>\n",
       "      <td>0.320</td>\n",
       "    </tr>\n",
       "    <tr>\n",
       "      <th>4</th>\n",
       "      <td>0.602</td>\n",
       "      <td>0.184</td>\n",
       "      <td>0.131</td>\n",
       "      <td>-0.141</td>\n",
       "      <td>1.015</td>\n",
       "      <td>0.681</td>\n",
       "      <td>0.312</td>\n",
       "      <td>0.489</td>\n",
       "      <td>0.678</td>\n",
       "    </tr>\n",
       "    <tr>\n",
       "      <th>5</th>\n",
       "      <td>0.703</td>\n",
       "      <td>0.159</td>\n",
       "      <td>0.176</td>\n",
       "      <td>-0.090</td>\n",
       "      <td>0.681</td>\n",
       "      <td>1.015</td>\n",
       "      <td>0.484</td>\n",
       "      <td>0.673</td>\n",
       "      <td>0.595</td>\n",
       "    </tr>\n",
       "    <tr>\n",
       "      <th>6</th>\n",
       "      <td>0.433</td>\n",
       "      <td>0.024</td>\n",
       "      <td>0.371</td>\n",
       "      <td>0.033</td>\n",
       "      <td>0.312</td>\n",
       "      <td>0.484</td>\n",
       "      <td>1.015</td>\n",
       "      <td>0.769</td>\n",
       "      <td>0.417</td>\n",
       "    </tr>\n",
       "    <tr>\n",
       "      <th>7</th>\n",
       "      <td>0.490</td>\n",
       "      <td>0.075</td>\n",
       "      <td>0.280</td>\n",
       "      <td>-0.031</td>\n",
       "      <td>0.489</td>\n",
       "      <td>0.673</td>\n",
       "      <td>0.769</td>\n",
       "      <td>1.015</td>\n",
       "      <td>0.545</td>\n",
       "    </tr>\n",
       "    <tr>\n",
       "      <th>8</th>\n",
       "      <td>0.892</td>\n",
       "      <td>0.590</td>\n",
       "      <td>0.277</td>\n",
       "      <td>0.320</td>\n",
       "      <td>0.678</td>\n",
       "      <td>0.595</td>\n",
       "      <td>0.417</td>\n",
       "      <td>0.545</td>\n",
       "      <td>1.459</td>\n",
       "    </tr>\n",
       "  </tbody>\n",
       "</table>\n",
       "</div>"
      ],
      "text/plain": [
       "   lcavol  lweight    age   lbph    svi    lcp  gleason  pgg45   lpsa\n",
       "0   1.015    0.305  0.291  0.064  0.602  0.703    0.433  0.490  0.892\n",
       "1   0.305    1.015  0.322  0.444  0.184  0.159    0.024  0.075  0.590\n",
       "2   0.291    0.322  1.015  0.292  0.131  0.176    0.371  0.280  0.277\n",
       "3   0.064    0.444  0.292  1.015 -0.141 -0.090    0.033 -0.031  0.320\n",
       "4   0.602    0.184  0.131 -0.141  1.015  0.681    0.312  0.489  0.678\n",
       "5   0.703    0.159  0.176 -0.090  0.681  1.015    0.484  0.673  0.595\n",
       "6   0.433    0.024  0.371  0.033  0.312  0.484    1.015  0.769  0.417\n",
       "7   0.490    0.075  0.280 -0.031  0.489  0.673    0.769  1.015  0.545\n",
       "8   0.892    0.590  0.277  0.320  0.678  0.595    0.417  0.545  1.459"
      ]
     },
     "execution_count": 65,
     "metadata": {},
     "output_type": "execute_result"
    }
   ],
   "source": [
    "# On affiche la covariance en prenant la transposé \n",
    "# car np.cov calcule la matrice de covariance basée sur les lignes et non les colonnes\n",
    "cov = np.round(pd.DataFrame(np.cov(df.transpose())),3).rename(columns={0:'lcavol', 1:'lweight', 2:'age', 3:'lbph', 4:'svi', 5:'lcp', 6:'gleason', 7:'pgg45', 8:'lpsa'})\n",
    "cov"
   ]
  },
  {
   "cell_type": "code",
   "execution_count": 66,
   "metadata": {},
   "outputs": [
    {
     "data": {
      "image/png": "[encoded data removed]",
      "text/plain": [
       "<Figure size 576x432 with 2 Axes>"
      ]
     },
     "metadata": {},
     "output_type": "display_data"
    }
   ],
   "source": [
    "# Affichage sous forme d'une heatmap\n",
    "sns.set(font_scale=1.2)\n",
    "plt.figure(figsize=(8, 6))\n",
    "sns.heatmap(cov, cmap='coolwarm', fmt='.2f', xticklabels=True, yticklabels=True)\n",
    "plt.title('Heatmap matrice de Covariance')\n",
    "plt.show()"
   ]
  },
  {
   "cell_type": "markdown",
   "metadata": {},
   "source": [
    "## Observations 1\n",
    "We can already see that the covariance matrix is symmetrical. We find the variance and covariance values of the different features in our matrix.\n",
    "The variance of target Lpsas is higher (1.46) than the variance of the other columns, which is equal to 1.015 for all.\n",
    "On one hand, there is a significant covariance between target lpsas and columns lcavol and svi. In others words, the varaibles lacvol and svi seem to have a significant influence on the output data.\n",
    "On the hand the variables age, lbph and gleason seem to have less influence on lpsas values."
   ]
  },
  {
   "cell_type": "markdown",
   "metadata": {},
   "source": [
    "Quelques rappels à propos de la notion de covariance : https://fr.wikipedia.org/wiki/Covariance"
   ]
  },
  {
   "cell_type": "markdown",
   "metadata": {},
   "source": [
    "## Exercise 1 : least square regression \n",
    " * Build the matrix of features `X_train` for the training set, the first column is made of ones.\n",
    " * Estimate the regression vector `beta_hat` (estimates= `X*beta_hat`)\n",
    " _Indication: you may either use the function `inv` or another more efficient way to compute $A^{-1}B$ (think of `A\\B`)._ \n",
    " * What is the value of the first coefficient `beta_hat[0]` ? What does it correspond to ?\n",
    " * Estimate the prediction error (quadratic error) from the test set.\n",
    "\n",
    "\n",
    "*Indication: be careful of using `X_test` defined above, normalized w.r.t. the training data set. You can estimate this error by using:*"
   ]
  },
  {
   "cell_type": "code",
   "execution_count": 67,
   "metadata": {},
   "outputs": [],
   "source": [
    "t_test = data_test[:,8]   # target column\n",
    "N_test = data_test.shape[0]\n",
    "X_test = np.concatenate((np.ones((N_test,1)), M_test[:,0:8]), axis=1) \n",
    "# don't forget the 1st column of ones and normalization !"
   ]
  },
  {
   "cell_type": "code",
   "execution_count": 68,
   "metadata": {},
   "outputs": [
    {
     "name": "stdout",
     "output_type": "stream",
     "text": [
      "(67, 9)\n"
     ]
    }
   ],
   "source": [
    "# Exercise 1\n",
    "#Building the matrix for the training set\n",
    "t_train = data_train[:,8]\n",
    "N_train = data_train.shape[0]\n",
    "X_train = np.concatenate((np.ones((N_train,1)), M_train[:, 0:8]), axis=1)\n",
    "print(X_train.shape)"
   ]
  },
  {
   "cell_type": "code",
   "execution_count": 69,
   "metadata": {},
   "outputs": [
    {
     "name": "stdout",
     "output_type": "stream",
     "text": [
      "Xdag shape: (9, 67)\n",
      "beta_hat shape: (9, 1)\n"
     ]
    }
   ],
   "source": [
    "#compute the Moore-Penrose pseudo inverse\n",
    "\n",
    "X_dag = la.inv(X_train.T @ X_train) @ X_train.T\n",
    "print(f\"Xdag shape: {X_dag.shape}\")\n",
    "\n",
    "#Compute beta_hat the regresion vector\n",
    "beta_hat = (X_dag @ t_train).reshape(-1, 1)\n",
    "print(f\"beta_hat shape: {beta_hat.shape}\")\n",
    "\n",
    "# Prediction on the test set\n",
    "t_hat = X_test @ beta_hat"
   ]
  },
  {
   "cell_type": "code",
   "execution_count": 70,
   "metadata": {},
   "outputs": [
    {
     "name": "stdout",
     "output_type": "stream",
     "text": [
      "MSE = 0.5212740055076005\n"
     ]
    }
   ],
   "source": [
    "#Compute MSE\n",
    "epsilon =  (t_hat.squeeze() - t_test)**2\n",
    "MSE =  np.sum(epsilon)/ t_hat.shape[0]\n",
    "print(f\"MSE = {MSE}\")"
   ]
  },
  {
   "cell_type": "code",
   "execution_count": 71,
   "metadata": {},
   "outputs": [
    {
     "name": "stdout",
     "output_type": "stream",
     "text": [
      "biais = 2.4523450850746267\n"
     ]
    }
   ],
   "source": [
    "#biais\n",
    "print(f\"biais = {beta_hat [0][0]}\") "
   ]
  },
  {
   "cell_type": "markdown",
   "metadata": {},
   "source": [
    "beta_hat [0] corresponds to the biais"
   ]
  },
  {
   "cell_type": "markdown",
   "metadata": {},
   "source": [
    "## Rejection test, computation of Z-scores\n",
    "Now we turn to the selection of the most significant entries so that our predictor be more robust. The essential idea is that our estimates will be more robust if only the most significant entries are taken into account. As a consequence, note that we will *reduce the dimension* of the problem from |p=8| to some smaller dimension. The present approach uses a statistical test to decide whether the regression coefficient corresponding to some entry is significantly non-zero. Then we can decide either to put non significant coefficients to zero, or to select the significant entries only and estimate the new reduced regression vector.\n",
    "\n",
    "Let's assume that target values are noisy due to some white Gaussian\n",
    "noise with variance $\\sigma^2$ (see Hastie & Tibshirani p. 47). One can show that the estimated regression vector |beta_hat| is also Gaussian with variance\n",
    "\n",
    "$$ var (\\widehat{\\beta}) = (X^TX)^{-1}\\sigma^2.$$  \n",
    "\n",
    "One can also show that the estimator of the variance (from the training set)\n",
    "\n",
    "$$\\widehat{\\sigma^2}=\\frac{1}{(N-p-1)}\\sum (t_n-\\widehat{t}_n)^2$$\n",
    "\n",
    "obeys a Chi-2 distribution. As a consequence a Chi-square statistical test can be used to determine whether some coefficient $\\beta_j$ is\n",
    "significantly non-zero. To this aim, one defines the variables $z_j$\n",
    "named Z-scores which in turn obey a Fisher law, also called\n",
    "$t$-distribution, which are often used in statistics:\n",
    "\n",
    "$$ z_j = \\frac{\\beta_j}{\\widehat{\\sigma}\\sqrt{v_j}} $$\n",
    "\n",
    "where $v_j$ is the $j$-th diagonal element of the matrix $(X^TX)^{-1}$.\n",
    "For sake of simplicity, we will consider that the null hypothesis of\n",
    "$\\beta_j$ is rejected with probability 95% if the Z-score is greater than 2."
   ]
  },
  {
   "cell_type": "markdown",
   "metadata": {},
   "source": [
    "## Exercise 2\n",
    "1. Compute the Z-scores and select the most significant entries.\n",
    "2. Estimate the prediction error over the test set if only these significant \n",
    "entries are taken into account for regression by putting other regression \n",
    "coefficients to zero.\n",
    "3. Estimate the new regression vector when only the significant features\n",
    "are taken into account.\n",
    "4. Compare to previous results (Exercise 1).\n",
    "\n",
    "*Indication 1 : to sort a vector `Z` in descending order*\n",
    "`val = np.sort(np.abs(Z))[-1:0:-1]`\n",
    "\n",
    "\n",
    "*Indication 2 :* to extract the diagonal of a matrix,\n",
    "`vXX = np.diag(inv(X.T.dot(X),k=0)`"
   ]
  },
  {
   "cell_type": "code",
   "execution_count": 35,
   "metadata": {},
   "outputs": [
    {
     "name": "stdout",
     "output_type": "stream",
     "text": [
      "p: 8\n",
      "\n",
      "vj shape: (9,)\n",
      "\n",
      "Sigma hat: 0.5073514562053171\n",
      "\n",
      "Z  = [39.565, 7.534, 3.862, -1.96, 2.886, 3.467, -2.621, -0.206, 2.44]\n",
      "['biais' 'lcavol' 'lweight' 'age' 'lbph' 'svi' 'lcp' 'gleason' 'pgg45']\n",
      "Selected entries: ['biais' 'lcavol' 'lweight' 'lbph' 'svi' 'lcp' 'pgg45']\n",
      "Entries where the null hypothesis wasn't rejected: ['age' 'gleason']\n"
     ]
    }
   ],
   "source": [
    "# Exercise 2\n",
    "#Define the variable number\n",
    "p = X_train.shape[1] - 1\n",
    "print(f\"p: {p}\\n\")\n",
    "\n",
    "#Extract the diagonal of a matrix\n",
    "vXX = np.diag(la.inv(X_train.T@ X_train))\n",
    "print(f\"vj shape: {vXX.shape}\\n\")\n",
    "\n",
    "# Compute an estimate of the variance sigma\n",
    "t_train_hat = X_train @ beta_hat\n",
    "sigma_hat = sum((t_train - t_train_hat.squeeze())**2)/(X_train.shape[0]-p-1)\n",
    "print(f\"Sigma hat: {sigma_hat}\\n\")\n",
    "\n",
    "# Compute Z_scores\n",
    "Z = [np.round(beta_hat[j][0]/(sigma_hat*np.sqrt(vXX[j])),3) for j in range (len(beta_hat))]\n",
    "print(f\"Z  = {Z}\")\n",
    "\n",
    "# Select the most significant entries with a 95% interval\n",
    "selected_features = np.abs(Z) > 2\n",
    "columns = np.array(['biais'] + df.columns.to_list()[:-1])\n",
    "print(columns)\n",
    "print(f\"Selected entries: {columns[selected_features]}\")\n",
    "# The following features are considered non significant\n",
    "print(f\"Entries where the null hypothesis wasn't rejected: {columns[ np.abs(Z) < 2]}\")"
   ]
  },
  {
   "cell_type": "code",
   "execution_count": 79,
   "metadata": {},
   "outputs": [
    {
     "name": "stdout",
     "output_type": "stream",
     "text": [
      "The number of variables is p: 8\n",
      "\n"
     ]
    }
   ],
   "source": [
    "# Exercise 2\n",
    "#Define the variable number\n",
    "p = X_train.shape[1] - 1\n",
    "print(f\"The number of variables is p: {p}\\n\")"
   ]
  },
  {
   "cell_type": "code",
   "execution_count": 73,
   "metadata": {},
   "outputs": [
    {
     "name": "stdout",
     "output_type": "stream",
     "text": [
      "vj shape: (9,)\n",
      "\n"
     ]
    }
   ],
   "source": [
    "#Extract the diagonal of a matrix\n",
    "vXX = np.diag(la.inv(X_train.T@ X_train))\n",
    "print(f\"vj shape: {vXX.shape}\\n\")"
   ]
  },
  {
   "cell_type": "code",
   "execution_count": 74,
   "metadata": {},
   "outputs": [
    {
     "name": "stdout",
     "output_type": "stream",
     "text": [
      "Sigma hat: 0.5073514562053171\n",
      "\n"
     ]
    }
   ],
   "source": [
    "# Compute an estimate of the variance sigma\n",
    "t_train_hat = X_train @ beta_hat\n",
    "sigma_hat = sum((t_train - t_train_hat.squeeze())**2)/(X_train.shape[0]-p-1)\n",
    "print(f\"Sigma hat: {sigma_hat}\\n\")"
   ]
  },
  {
   "cell_type": "code",
   "execution_count": 75,
   "metadata": {},
   "outputs": [
    {
     "name": "stdout",
     "output_type": "stream",
     "text": [
      "Z  = [39.565, 7.534, 3.862, -1.96, 2.886, 3.467, -2.621, -0.206, 2.44]\n"
     ]
    }
   ],
   "source": [
    "# Compute Z_scores\n",
    "Z = [np.round(beta_hat[j][0]/(sigma_hat*np.sqrt(vXX[j])),3) for j in range (len(beta_hat))]\n",
    "print(f\"Z  = {Z}\")"
   ]
  },
  {
   "cell_type": "code",
   "execution_count": 80,
   "metadata": {},
   "outputs": [
    {
     "name": "stdout",
     "output_type": "stream",
     "text": [
      "columns names : ['biais' 'lcavol' 'lweight' 'age' 'lbph' 'svi' 'lcp' 'gleason' 'pgg45']\n",
      "\n",
      "Selected entries: ['biais' 'lcavol' 'lweight' 'lbph' 'svi' 'lcp' 'pgg45']\n",
      "\n",
      "Entries where the null hypothesis wasn't rejected: ['age' 'gleason']\n"
     ]
    }
   ],
   "source": [
    "# Select the most significant entries with a 95% interval\n",
    "selected_features = np.abs(Z) > 2\n",
    "columns = np.array(['biais'] + df.columns.to_list()[:-1])\n",
    "print(f\"columns names : {columns}\")\n",
    "print(f\"\\nSelected entries: {columns[selected_features]}\")\n",
    "# The following features are considered non significant\n",
    "print(f\"\\nEntries where the null hypothesis wasn't rejected: {columns[ np.abs(Z) < 2]}\")"
   ]
  },
  {
   "cell_type": "markdown",
   "metadata": {},
   "source": [
    "## Observation 2\n",
    "\n",
    "Here, we noticed that the variables age and gleasons were already among the variables with the lowest covariance with the output data when we ploted the heatmap. So, in a way it's not amazing to find this results for the Z-scores."
   ]
  },
  {
   "cell_type": "code",
   "execution_count": 82,
   "metadata": {},
   "outputs": [
    {
     "name": "stdout",
     "output_type": "stream",
     "text": [
      "New values of beta hat:\n",
      " [[ 2.45234509]\n",
      " [ 0.71104059]\n",
      " [ 0.29045029]\n",
      " [ 0.        ]\n",
      " [ 0.21041951]\n",
      " [ 0.30730025]\n",
      " [-0.28684075]\n",
      " [ 0.        ]\n",
      " [ 0.27526843]]\n",
      "\n",
      "MSE_new: 0.5856625948706694\n"
     ]
    }
   ],
   "source": [
    "beta_hat_new = beta_hat\n",
    "# We set to zero the values of regression coefficients that weren't conserved\n",
    "beta_hat_new[ np.abs(Z) < 2] = 0\n",
    "print(f\"New values of beta hat:\\n {beta_hat_new}\\n\")\n",
    "\n",
    "# We compute an estimate of t_test with the new regression coefficients\n",
    "t_hat_new = X_test @ beta_hat_new\n",
    "# We compute the MSE\n",
    "MSE_new =  np.sum((t_hat_new.squeeze() - t_test)**2)/ t_test.shape[0]\n",
    "print(f\"MSE_new: {MSE_new}\")\n",
    "# The MSE_new > MSE so the model performs worse than before "
   ]
  },
  {
   "cell_type": "markdown",
   "metadata": {},
   "source": [
    "## Observation 3\n",
    "\n",
    "The MSE_new > MSE so the model performs worse than before. It shows that to set these coefficients to 0 leads to loose information."
   ]
  },
  {
   "cell_type": "code",
   "execution_count": 87,
   "metadata": {},
   "outputs": [
    {
     "name": "stdout",
     "output_type": "stream",
     "text": [
      "Xdag shape: (7, 67)\n",
      "\n",
      "beta_hat shape: (7, 1)\n",
      "\n",
      "Raw model MSE = 0.5212740055076005\n",
      "\n",
      "Beta_hat with zero model MSE = 0.5856625948706694\n",
      "\n",
      "Reduce Model MSE = 0.5485933466267809\n"
     ]
    }
   ],
   "source": [
    "# Compute the regression estimate and MSE using only the selected entries\n",
    "#As the matrix changed, we compute the Moore-Penrose pseudo inverse again\n",
    "\n",
    "# Compute the Moore-Penrose pseudo inverse\n",
    "X_dag = la.inv(X_train[:,selected_features].T @ X_train[:,selected_features]) @ X_train[:,selected_features].T\n",
    "print(f\"Xdag shape: {X_dag.shape}\")\n",
    "\n",
    "#Compute beta_hat the regresion vector\n",
    "beta_hat_2 = (X_dag @ t_train).reshape(-1,1)\n",
    "print(f\"\\nbeta_hat shape: {beta_hat_2.shape}\")\n",
    "\n",
    "# Prediction on the test set\n",
    "t_hat = X_test[:,selected_features] @ beta_hat_2\n",
    "\n",
    "#Compute MSE\n",
    "epsilon =  (t_hat.squeeze() - t_test)**2\n",
    "MSE_2 =  np.sum(epsilon)/ t_hat.shape[0]\n",
    "\n",
    "print(f\"\\nRaw model MSE = {MSE}\\n\\nBeta_hat with zero model MSE = {MSE_new}\")\n",
    "\n",
    "print(f\"\\nReduce Model MSE = {MSE_2}\")\n",
    "\n",
    "# "
   ]
  },
  {
   "cell_type": "markdown",
   "metadata": {},
   "source": [
    "## Observation 4\n",
    "\n",
    "The MSE obtained by recomputing the regression vector estimate iw worse than the full model, but it's better to reduce the dimensions model than put some coefficient to zero."
   ]
  },
  {
   "cell_type": "markdown",
   "metadata": {},
   "source": [
    "# Part 2: Regularized least squares\n",
    "This part deals with regularized least square regression. We denote\n",
    "by `beta_hat_reg` the resulting coefficients. This approach is an alternative to the selection based on statistical tests above. The idea is now to penalize large values of regression coefficients, *except for the bias*.\n",
    "\n",
    "We use the result:\n",
    "\n",
    "$$\\hat{\\beta} = (\\lambda I_p + X_c^T X_c)^{-1} X_c^T t_c$$\n",
    "\n",
    "where $X_c$ contains the normalized entries of the training data set with \n",
    "no column of ones (the bias should no be penalized and is processed). \n",
    "The targets `t_c` are therefore also centered, `t_c=t-mean(t)`.\n",
    " \n",
    "First, we estimate the bias $t_0$ to center the targets which yields the coefficient $\\beta_0$, that is `beta_hat_reg[0]` in Python.\n",
    "\n",
    "*Remark : the bias is estimated as the empirical average of targets.\n",
    "For tests, entries should be normalized with respect to the means and\n",
    "variances of the training data set (see exercise 3.5 p. 95 in Hastie & Tibshirani). Then work on the vector of entries with no column of ones.*"
   ]
  },
  {
   "cell_type": "markdown",
   "metadata": {},
   "source": [
    "## Exercise 3\n",
    "1. Use _ridge regression_ for penalty `lambda = 25` to estimate the regression vector. \n",
    "2. Estimate the prediction error from the test set.\n",
    "3. Compare the results (coefficients $\\beta$, error...) to previous ones.\n",
    "4. You may also compare these results to the result of best subset selection below:\n",
    "\n",
    "`beta_best = [2.477 0.74 0.316 0 0 0 0 0 0]`.\n",
    "\n",
    "*Indication : a simple way to obtain predictions for the test data set is the code below:*"
   ]
  },
  {
   "cell_type": "code",
   "execution_count": 38,
   "metadata": {},
   "outputs": [],
   "source": [
    "t = data_train[:,8]   # column of targets\n",
    "t0 = np.mean(t)\n",
    "\n",
    "N_test = data_test.shape[0]\n",
    "X_test = np.hstack((np.ones((N_test,1)), M_test[:,0:8]))  \n",
    "# Here the 1st column of X_test is a column of ones.\n",
    "#t_hat_reg = X_test.dot(beta_hat_reg)"
   ]
  },
  {
   "cell_type": "code",
   "execution_count": 39,
   "metadata": {},
   "outputs": [
    {
     "name": "stdout",
     "output_type": "stream",
     "text": [
      "(67, 9)\n"
     ]
    }
   ],
   "source": [
    "# Exercise 3\n",
    "#Building the matrix for the training set \n",
    "# We don't add the columns of one's as we do not want to penalise the bias\n",
    "t_c = data_train[:,8] - t0\n",
    "t_test_c = data_test[:,8]  - t0\n",
    "N_train = data_train.shape[0]\n",
    "X_c =  M_train[:, 0:8]\n",
    "print(X_train.shape)"
   ]
  },
  {
   "cell_type": "code",
   "execution_count": 93,
   "metadata": {},
   "outputs": [
    {
     "name": "stdout",
     "output_type": "stream",
     "text": [
      "beta_hat_reg shape: (9, 1)\n",
      "\n",
      "\n",
      "Raw model MSE = 0.5212740055076005\n",
      "\n",
      "Beta_hat with zero model MSE = 0.5856625948706694\n",
      "\n",
      "Reduce Model MSE = 0.5485933466267809\n",
      "\n",
      "Regularised Model MSE = 0.6137305268450157\n",
      "\n"
     ]
    },
    {
     "data": {
      "text/html": [
       "<div>\n",
       "<style scoped>\n",
       "    .dataframe tbody tr th:only-of-type {\n",
       "        vertical-align: middle;\n",
       "    }\n",
       "\n",
       "    .dataframe tbody tr th {\n",
       "        vertical-align: top;\n",
       "    }\n",
       "\n",
       "    .dataframe thead th {\n",
       "        text-align: right;\n",
       "    }\n",
       "</style>\n",
       "<table border=\"1\" class=\"dataframe\">\n",
       "  <thead>\n",
       "    <tr style=\"text-align: right;\">\n",
       "      <th></th>\n",
       "      <th>index</th>\n",
       "      <th>beta_hat_reg</th>\n",
       "      <th>beta_hat_2</th>\n",
       "    </tr>\n",
       "  </thead>\n",
       "  <tbody>\n",
       "    <tr>\n",
       "      <th>0</th>\n",
       "      <td>biais</td>\n",
       "      <td>0.000000</td>\n",
       "      <td>2.452345</td>\n",
       "    </tr>\n",
       "    <tr>\n",
       "      <th>1</th>\n",
       "      <td>lcavol</td>\n",
       "      <td>0.397578</td>\n",
       "      <td>0.678032</td>\n",
       "    </tr>\n",
       "    <tr>\n",
       "      <th>2</th>\n",
       "      <td>lweight</td>\n",
       "      <td>0.260046</td>\n",
       "      <td>0.266366</td>\n",
       "    </tr>\n",
       "    <tr>\n",
       "      <th>3</th>\n",
       "      <td>age</td>\n",
       "      <td>0.066749</td>\n",
       "      <td>NaN</td>\n",
       "    </tr>\n",
       "    <tr>\n",
       "      <th>4</th>\n",
       "      <td>lbph</td>\n",
       "      <td>0.209259</td>\n",
       "      <td>0.183008</td>\n",
       "    </tr>\n",
       "    <tr>\n",
       "      <th>5</th>\n",
       "      <td>svi</td>\n",
       "      <td>0.089086</td>\n",
       "      <td>0.315281</td>\n",
       "    </tr>\n",
       "    <tr>\n",
       "      <th>6</th>\n",
       "      <td>lcp</td>\n",
       "      <td>0.056825</td>\n",
       "      <td>-0.265293</td>\n",
       "    </tr>\n",
       "    <tr>\n",
       "      <th>7</th>\n",
       "      <td>gleason</td>\n",
       "      <td>0.110024</td>\n",
       "      <td>NaN</td>\n",
       "    </tr>\n",
       "    <tr>\n",
       "      <th>8</th>\n",
       "      <td>pgg45</td>\n",
       "      <td>0.067548</td>\n",
       "      <td>0.219316</td>\n",
       "    </tr>\n",
       "  </tbody>\n",
       "</table>\n",
       "</div>"
      ],
      "text/plain": [
       "     index  beta_hat_reg  beta_hat_2\n",
       "0    biais      0.000000    2.452345\n",
       "1   lcavol      0.397578    0.678032\n",
       "2  lweight      0.260046    0.266366\n",
       "3      age      0.066749         NaN\n",
       "4     lbph      0.209259    0.183008\n",
       "5      svi      0.089086    0.315281\n",
       "6      lcp      0.056825   -0.265293\n",
       "7  gleason      0.110024         NaN\n",
       "8    pgg45      0.067548    0.219316"
      ]
     },
     "execution_count": 93,
     "metadata": {},
     "output_type": "execute_result"
    }
   ],
   "source": [
    "#Compute beta_hat the regresion vector\n",
    "ld = 25\n",
    "p = X_c.shape[1]\n",
    "beta_hat_reg = (la.inv(ld*np.eye(p) +  X_c.T @ X_c) @ X_c.transpose() @ t_c).reshape(-1, 1)\n",
    "# The biais is the mean of the training set target\n",
    "beta_0 = 0\n",
    "beta_hat_reg = np.concatenate((np.array(beta_0).reshape(1,1),beta_hat_reg))\n",
    "print(f\"beta_hat_reg shape: {beta_hat_reg.shape}\\n\")\n",
    "\n",
    "# Prediction on the test set\n",
    "t_hat = X_test @ beta_hat_reg\n",
    "\n",
    "#Compute MSE\n",
    "epsilon =  (t_hat.squeeze() - t_test_c)**2\n",
    "MSE_reg =  np.sum(epsilon)/ t_hat.shape[0]\n",
    "\n",
    "print(f\"\\nRaw model MSE = {MSE}\\n\\nBeta_hat with zero model MSE = {MSE_new}\")\n",
    "\n",
    "print(f\"\\nReduce Model MSE = {MSE_2}\")\n",
    "\n",
    "print(f\"\\nRegularised Model MSE = {MSE_reg}\\n\")\n",
    "\n",
    "\n",
    "# MSE_reg < MSE, using riddge regression we've managed to improve our MSE\n",
    "# Let's take a look at the coefficients \n",
    "pd.merge(pd.DataFrame({'index': columns, 'beta_hat_reg': beta_hat_reg.squeeze()}),(pd.DataFrame(({'index': columns[selected_features], 'beta_hat_2': beta_hat_2.squeeze()}))),how='outer', on= 'index')\n",
    "\n",
    "# We can observe that the biais stays the same as it's still t0. \n",
    "# Overall the coefficients of beta_hat_2 are bigger than the respective coefficients in beta_hat_reg, \n",
    "# which makes sense as ridge regression penalizes coefficients that are too high.\n"
   ]
  },
  {
   "cell_type": "markdown",
   "metadata": {},
   "source": [
    "# Part 3: Cross-Validation \n",
    "\n",
    "## How to choose lambda from the training data set only ? \n",
    "\n",
    "The idea is to decompose the training set in 2 subsets: one subset for\n",
    "linear regression (say 9/10 of the data), the other to estimate the prediction error (say 1/10 of the data).\n",
    "\n",
    "We can repeat this operation 10 times over the 10 possible couples of\n",
    "subsets to estimate the average prediction error. We will choose the\n",
    "value of `lambda` which minimizes this error. The algorithm goes as\n",
    "follows:\n",
    "\n",
    "For the 10 cross-validation cases\n",
    "    \n",
    "    Extraction of test & training subsets `testset` & `trainset`\n",
    "    \n",
    "    For lambda in 0:40\n",
    "        Estimate `beta_hat` from normalized `trainset` (mean=0, var=1)\n",
    "        Estimate the error from  `testset`\n",
    "    EndFor lambda\n",
    "\n",
    "EndFor 10 cases\n",
    "\n",
    "Compute the average error for each lambda\n",
    "\n",
    "Choose `lambda` which minimizes the error \n"
   ]
  },
  {
   "cell_type": "markdown",
   "metadata": {},
   "source": [
    "## Exercise 4\n",
    "* Use 6-fold cross-validation in the present study to optimize the choice of `lambda`. \n",
    "Try values of `lambda` ranging from 0 to 40 for instance (0:40).\n",
    "* Plot the estimated error as a function of `lambda`.\n",
    "* Propose a well chosen value of `lambda` and give the estimated corresponding\n",
    "error on the test set.\n",
    "* Comment on your results.\n",
    "\n",
    "*Indication 1 : think of shuffling the dataset first.*\n",
    "\n",
    "*Indication 2 : you can build 6 training and test subsets by using the code below*"
   ]
  },
  {
   "cell_type": "code",
   "execution_count": 41,
   "metadata": {},
   "outputs": [],
   "source": [
    "lmax = 40\n",
    "lambda_pos = arange(0,lmax+1) \n",
    "\n",
    "N_test = 10\n",
    "m=np.zeros(8)\n",
    "s = np.zeros(8)\n",
    "X_traink = np.zeros((X_train.shape[0]-N_test,8))\n",
    "X_testk = np.zeros((N_test,8))\n",
    "erreur = np.zeros((6,lmax+1))\n",
    "erreur_rel = np.zeros((6,lmax+1))"
   ]
  },
  {
   "cell_type": "code",
   "execution_count": 48,
   "metadata": {},
   "outputs": [],
   "source": [
    "# Exercise 4 \n",
    "shuffled_data_train = data_train.copy()\n",
    "random.shuffle(shuffled_data_train)\n",
    "\n",
    "# we commpute for the 6-fold and for lambda between 0 and 40 the beta_hat_reg\n",
    "\n",
    "for ld in lambda_pos:\n",
    "    error_ld = np.zeros(6)\n",
    "    erreur_rel_ld = np.zeros(6)\n",
    "    for j in range(6):   # loop on test subsets\n",
    "        # extraction of testset\n",
    "        testset  = shuffled_data_train[arange(j*N_test,(j+1)*N_test),0:9] \n",
    "        # extraction of trainset\n",
    "        trainset = shuffled_data_train[hstack((arange(j*N_test),arange((j+1)*N_test,data_train.shape[0]))),0:9] \n",
    "        \n",
    "        # normalization of entries\n",
    "        normalize = lambda vec: (vec-np.mean(vec))/np.std(vec)   \n",
    "        moy = np.array( [ np.mean(vec) for vec in trainset[:,0:8].T ] )\n",
    "        sigma = np.array( [ np.std(vec, ddof=0) for vec in trainset[:,0:8].T ] )\n",
    "        X_c = np.array( [ normalize(vec) for vec in trainset[:,0:8].T ] ).T  # iterate on vec direct / ARRAY not LIST\n",
    "        X_test = np.array([ (testset[:,k]-moy[k])/sigma[k] for k in range(X_c.shape[1]) ] ).T\n",
    "        X_test  = np.hstack((np.ones((N_test,1)), X_test[:,0:8]))  \n",
    "\n",
    "        # We normalise the training target\n",
    "        t0 = np.mean(trainset[:,8])\n",
    "        t_c = trainset[:,8] - t0\n",
    "        t_test_c_ = testset[:,8] -t0\n",
    "\n",
    "        # We compute the regression vector for the specifique fold and lambda value\n",
    "        p = X_c.shape[1]\n",
    "        beta_hat_reg = (la.inv(ld*np.eye(p) +  X_c.T @ X_c) @ X_c.transpose() @ t_c).reshape(-1, 1)\n",
    "\n",
    "        # The biais is the mean of the training set target\n",
    "        beta_0 = 0\n",
    "        beta_hat_reg = np.concatenate((np.array(beta_0).reshape(1,1),beta_hat_reg))\n",
    "        # Prediction on the test set\n",
    "        t_hat = X_test @ beta_hat_reg\n",
    "        t_hat = t_hat.squeeze()\n",
    "        #Compute MSE\n",
    "        epsilon =  (t_hat - t_test_c_)**2\n",
    "        ecart_rel = [(t_hat[k] - t_test_c_[k])/t_test_c_[k] for k in range (len(t_hat))]\n",
    "        MSE_reg =  np.sum(epsilon)/ t_hat.shape[0]\n",
    "        error_amp = np.sum(np.abs(t_hat - t_test_c_))/t_hat.shape[0]\n",
    "        error_ld[j] = error_amp\n",
    "        erreur_rel_ld[j] = np.mean(ecart_rel)\n",
    "\n",
    "    erreur[:,ld] = error_ld\n",
    "    erreur_rel[:,ld] = erreur_rel_ld\n",
    "        "
   ]
  },
  {
   "cell_type": "code",
   "execution_count": 49,
   "metadata": {},
   "outputs": [
    {
     "data": {
      "text/plain": [
       "array([0.62074486, 0.61886995, 0.61869928, 0.61944281, 0.62058959,\n",
       "       0.62367157, 0.62681547, 0.62951749, 0.63185357, 0.63388341,\n",
       "       0.63565462, 0.63720563, 0.63856785, 0.63976715, 0.64082507,\n",
       "       0.64175968, 0.64258621, 0.64332329, 0.6442318 , 0.64541599,\n",
       "       0.6466628 , 0.64781762, 0.64910091, 0.65057808, 0.65197423,\n",
       "       0.65332314, 0.6547377 , 0.65607933, 0.65735354, 0.6585653 ,\n",
       "       0.65971908, 0.66081894, 0.66193925, 0.66322755, 0.66447144,\n",
       "       0.66567357, 0.66683639, 0.66796212, 0.66905284, 0.67011044,\n",
       "       0.67142258])"
      ]
     },
     "execution_count": 49,
     "metadata": {},
     "output_type": "execute_result"
    }
   ],
   "source": [
    "erreur.mean(axis=0)"
   ]
  },
  {
   "cell_type": "code",
   "execution_count": 47,
   "metadata": {},
   "outputs": [
    {
     "data": {
      "text/plain": [
       "(6, 41)"
      ]
     },
     "execution_count": 47,
     "metadata": {},
     "output_type": "execute_result"
    }
   ],
   "source": [
    "erreur.shape"
   ]
  },
  {
   "cell_type": "code",
   "execution_count": 44,
   "metadata": {},
   "outputs": [
    {
     "data": {
      "text/plain": [
       "array([-0.03436642, -0.10186625, -0.16365915, -0.22021023, -0.27200868,\n",
       "       -0.31952325, -0.36318493, -0.40338199, -0.4404607 , -0.47472832,\n",
       "       -0.50645698, -0.5358877 , -0.5632341 , -0.58868583, -0.61241158,\n",
       "       -0.63456172, -0.65527059, -0.67465847, -0.69283332, -0.70989224,\n",
       "       -0.72592279, -0.74100404, -0.75520761, -0.76859843, -0.78123554,\n",
       "       -0.7931727 , -0.80445895, -0.8151391 , -0.82525417, -0.83484177,\n",
       "       -0.84393644, -0.85256993, -0.8607715 , -0.86856813, -0.87598471,\n",
       "       -0.8830443 , -0.88976821, -0.89617622, -0.90228666, -0.9081166 ,\n",
       "       -0.91368186])"
      ]
     },
     "execution_count": 44,
     "metadata": {},
     "output_type": "execute_result"
    }
   ],
   "source": [
    "erreur_rel.mean(axis=0)"
   ]
  },
  {
   "cell_type": "code",
   "execution_count": 58,
   "metadata": {},
   "outputs": [
    {
     "data": {
      "image/png": "[encoded data removed]",
      "text/plain": [
       "<Figure size 432x288 with 1 Axes>"
      ]
     },
     "metadata": {},
     "output_type": "display_data"
    }
   ],
   "source": [
    "# Exercise 4 ---------------\n",
    "\n",
    "import matplotlib.pyplot as plt\n",
    "plt.plot(lambda_pos, erreur.mean(axis=0))\n",
    "plt.xlabel(\"λ\")\n",
    "plt.ylabel(\"error\")\n",
    "plt.title(\"estimate error according to λ\")\n",
    "\n",
    "plt.show()"
   ]
  },
  {
   "cell_type": "markdown",
   "metadata": {},
   "source": [
    "Each value plot corresponds to the mean on the 6 fold."
   ]
  },
  {
   "cell_type": "code",
   "execution_count": 57,
   "metadata": {},
   "outputs": [
    {
     "data": {
      "image/png": "[encoded data removed]",
      "text/plain": [
       "<Figure size 432x288 with 1 Axes>"
      ]
     },
     "metadata": {},
     "output_type": "display_data"
    }
   ],
   "source": [
    "plt.plot(lambda_pos, erreur.std(axis=0))\n",
    "plt.xlabel(\"λ\")\n",
    "plt.ylabel(\"σ of the error\")\n",
    "plt.title(\"standart variation of the error according to λ\")\n",
    "\n",
    "plt.show()"
   ]
  },
  {
   "cell_type": "code",
   "execution_count": 59,
   "metadata": {},
   "outputs": [
    {
     "data": {
      "image/png": "[encoded data removed]",
      "text/plain": [
       "<Figure size 432x288 with 1 Axes>"
      ]
     },
     "metadata": {},
     "output_type": "display_data"
    }
   ],
   "source": [
    "plt.plot(lambda_pos, erreur_rel.mean(axis=0)*100)\n",
    "plt.xlabel(\"λ\")\n",
    "plt.ylabel(\"relative error (%)\")\n",
    "plt.title(\"relative error according to λ\")\n",
    "\n",
    "plt.show()"
   ]
  },
  {
   "cell_type": "code",
   "execution_count": 54,
   "metadata": {},
   "outputs": [
    {
     "name": "stdout",
     "output_type": "stream",
     "text": [
      "according to the plot the best λ is :2\n"
     ]
    }
   ],
   "source": [
    "print(f\"according to the plot the best λ is :{np.argmin(erreur.mean(axis=0))}\")"
   ]
  },
  {
   "cell_type": "code",
   "execution_count": 55,
   "metadata": {},
   "outputs": [
    {
     "name": "stdout",
     "output_type": "stream",
     "text": [
      "according to the plot the best λ is :0.6186992794070145\n"
     ]
    }
   ],
   "source": [
    "print(f\"according to the plot the best λ is : σ{np.min(erreur.mean(axis=0))}\")"
   ]
  },
  {
   "cell_type": "markdown",
   "metadata": {},
   "source": [
    "## Observation 5\n",
    "\n",
    "We can see that if the λ is too big the error estimate grows up. The best solution is to find a compromise between regularisation and the precision of the model."
   ]
  }
 ],
 "metadata": {
  "kernelspec": {
   "display_name": "Python 3",
   "language": "python",
   "name": "python3"
  },
  "language_info": {
   "codemirror_mode": {
    "name": "ipython",
    "version": 3
   },
   "file_extension": ".py",
   "mimetype": "text/x-python",
   "name": "python",
   "nbconvert_exporter": "python",
   "pygments_lexer": "ipython3",
   "version": "3.8.8"
  }
 },
 "nbformat": 4,
 "nbformat_minor": 2
}
