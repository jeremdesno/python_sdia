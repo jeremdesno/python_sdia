{
 "cells": [
  {
   "cell_type": "markdown",
   "metadata": {},
   "source": [
    "## TP2 : Classification using Linear & Quadratic Discriminant Analysis\n",
    "\n",
    "First think of configuring your notebook :"
   ]
  },
  {
   "cell_type": "code",
   "execution_count": 7,
   "metadata": {},
   "outputs": [],
   "source": [
    "import csv\n",
    "# import os\n",
    "from pylab import *\n",
    "import numpy as np\n",
    "from numpy import linalg as la\n",
    "import seaborn as sns\n",
    "import pandas as pd\n"
   ]
  },
  {
   "cell_type": "markdown",
   "metadata": {},
   "source": [
    "## Reading synthetic data\n",
    "Load the training and test data sets |synth_train.txt| and\n",
    "|synth_test.txt| already used for Knn. Targets belong to {1,2} and entries belong to R^2.\n",
    "We have 100 training data samples and 200 test samples.\n",
    "\n",
    "* the 1st column contains the label of the class the sample, \n",
    "* columns 2 & 3 contain the coordinates of each sample in 2D."
   ]
  },
  {
   "cell_type": "code",
   "execution_count": 8,
   "metadata": {},
   "outputs": [],
   "source": [
    "train = np.loadtxt('synth_train.txt')\n",
    "\n",
    "test = np.loadtxt('synth_test.txt')"
   ]
  },
  {
   "cell_type": "code",
   "execution_count": 9,
   "metadata": {},
   "outputs": [
    {
     "name": "stdout",
     "output_type": "stream",
     "text": [
      "[[ 2.         -0.72221141  2.00447087]\n",
      " [ 2.         -0.92467912  0.48366928]\n",
      " [ 2.         -0.76602281  0.79432891]\n",
      " [ 2.         -0.07328948  0.96992915]\n",
      " [ 1.         -1.39291198  0.99969709]\n",
      " [ 2.         -0.20223339  1.35033191]\n",
      " [ 2.          0.48173767  0.98441858]\n",
      " [ 1.         -1.86551212  1.54773159]\n",
      " [ 2.         -0.15246873  0.92248969]\n",
      " [ 2.          0.38635649  0.36633672]\n",
      " [ 2.          0.08757643  0.93241153]\n",
      " [ 2.         -0.1628708   0.63051719]\n",
      " [ 2.          0.2056276   0.90272806]\n",
      " [ 2.         -0.67888033  0.51928249]\n",
      " [ 1.         -0.63130944  1.66060671]\n",
      " [ 2.          0.45135715  1.02281328]\n",
      " [ 2.         -0.37944706  0.89250289]\n",
      " [ 2.         -0.67808925  0.96943362]\n",
      " [ 2.         -0.63536795  1.29934919]\n",
      " [ 2.         -0.39450331  0.32716323]\n",
      " [ 2.          0.36146294  1.25890894]\n",
      " [ 2.         -0.52866328  1.26110462]\n",
      " [ 2.         -0.25105104  0.30418194]\n",
      " [ 2.          0.07828845  1.44882862]\n",
      " [ 2.         -0.50858876  1.28756657]\n",
      " [ 2.          0.40886938  1.49537607]\n",
      " [ 2.         -0.36564713  0.94343409]\n",
      " [ 2.          1.4125367   1.5485599 ]\n",
      " [ 2.          0.18536908  1.09473396]\n",
      " [ 2.         -0.23602903  1.55526096]\n",
      " [ 2.         -0.61429339  1.38945066]\n",
      " [ 1.         -2.30408373  1.38069899]\n",
      " [ 1.         -1.64398484  1.52199681]\n",
      " [ 2.         -0.09963114  1.12167184]\n",
      " [ 1.         -1.86566438  0.29295687]\n",
      " [ 2.          0.29707583  0.68593799]\n",
      " [ 2.          0.24163565  1.44307731]\n",
      " [ 2.         -0.30805914  0.61681057]\n",
      " [ 2.         -0.29733148  1.64968596]\n",
      " [ 2.          0.0425463   0.80898297]\n",
      " [ 2.         -0.29349449  0.9440908 ]\n",
      " [ 2.          0.04721967  1.50461364]\n",
      " [ 2.          0.51143488  0.59092735]\n",
      " [ 2.         -0.43976651  1.17210057]\n",
      " [ 2.          0.57972762  1.49159037]\n",
      " [ 2.         -0.22587569  0.7871291 ]\n",
      " [ 1.         -1.31699918  0.93231122]\n",
      " [ 2.          0.40335982  1.06184403]\n",
      " [ 2.          0.06398028  1.71779511]\n",
      " [ 2.         -0.20054941  1.07531583]\n",
      " [ 2.          0.17921231  1.33051886]\n",
      " [ 2.         -0.68478163  1.22567328]\n",
      " [ 1.         -1.26626456  2.28600726]\n",
      " [ 2.         -0.07322758  1.27133904]\n",
      " [ 2.         -0.27883487  0.39621685]\n",
      " [ 1.         -1.66770623  1.21968202]\n",
      " [ 2.         -0.93278474  1.10552626]\n",
      " [ 1.         -0.22249229  1.98252437]\n",
      " [ 2.         -0.4193011   0.69519724]\n",
      " [ 2.         -0.1023204   0.76529649]\n",
      " [ 2.          0.24602975  1.82964712]\n",
      " [ 2.          0.47701178  0.06119185]\n",
      " [ 2.          0.1661244   0.83266193]\n",
      " [ 2.          0.3924875   1.4622425 ]\n",
      " [ 2.          0.26880633  0.69856985]\n",
      " [ 1.         -1.1892336   1.99198867]\n",
      " [ 2.         -0.35353073  0.78109879]\n",
      " [ 2.          0.20599544  2.33022515]\n",
      " [ 1.          0.35785927  3.3584235 ]\n",
      " [ 1.         -1.07534587  1.8330789 ]\n",
      " [ 2.          0.6107332   0.26755191]\n",
      " [ 2.          0.34783794  0.7545236 ]\n",
      " [ 2.          0.13397643  1.13245178]\n",
      " [ 2.          0.48754011  0.83958304]\n",
      " [ 2.          0.3281374   1.05381391]\n",
      " [ 2.         -0.30713428  1.21094299]\n",
      " [ 2.          0.62245641  0.39827321]\n",
      " [ 2.          0.02392361 -0.04733184]\n",
      " [ 2.          1.25632668  0.89616377]\n",
      " [ 2.         -0.20777744  1.17187213]\n",
      " [ 1.         -1.07196807  2.87218367]\n",
      " [ 1.         -1.4072109   1.71273051]\n",
      " [ 2.          0.64367885  1.90840839]\n",
      " [ 1.         -1.45327218  2.02246219]\n",
      " [ 2.          0.89123048  1.73158342]\n",
      " [ 2.          0.25206639  0.84866443]\n",
      " [ 2.          0.50420755  1.06331255]\n",
      " [ 2.          0.29991839  0.95075676]\n",
      " [ 2.          0.49041206  0.82193605]\n",
      " [ 2.          1.0613664   0.78805608]\n",
      " [ 2.          0.36589298  1.71060938]\n",
      " [ 2.         -1.10246986  0.61873791]\n",
      " [ 2.          0.11528044  1.87763316]\n",
      " [ 2.          0.2221908   1.03704295]\n",
      " [ 1.          0.31745281  2.86628859]\n",
      " [ 1.         -0.69362308  2.24206585]\n",
      " [ 1.         -0.65135241  1.80895864]\n",
      " [ 1.         -2.24047851  1.04991147]\n",
      " [ 1.         -0.68876677  1.33671775]\n",
      " [ 1.         -2.06428442  2.38517335]]\n"
     ]
    }
   ],
   "source": [
    "print(train)"
   ]
  },
  {
   "cell_type": "markdown",
   "metadata": {},
   "source": [
    "## Recall about the main steps of discriminant analysis:\n",
    "* estimation of weights `pi_1` and `pi_2` for each class,\n",
    "* estimation of empirical means `mu_1` and `mu_2` for each class, \n",
    "* estimation of empirical covariance matrices  `sigma_1` and `sigma_2`,\n",
    "* computation of the common averaged covariance `sigma` (average of intra-class covariances),\n",
    "* computation of log-probabilities of belonging to each class,\n",
    "* decision of classification,\n",
    "* display results.\n"
   ]
  },
  {
   "cell_type": "markdown",
   "metadata": {},
   "source": [
    "## TO DO : linear & quadratic discriminant analysis (LDA & QDA)\n",
    "1. Implement a classifier using LDA of the data set. \n",
    "2. Then implement QDA classification.\n",
    "3. In each case (LDA & QDA) show the decision boundary and\n",
    "compute the error rate respectively for the training set and the test set. \n",
    "4. Compare and comment on your results with LDA and QDA.\n",
    "5. You may also compare your results to K nearest neighbours.\n",
    "\n",
    "_Indication 1 : matrices `sigma` are of size 2x2.\n",
    "More generally, be careful of the sizes of vectors and matrices you\n",
    "manipulate._\n",
    "\n",
    "_Indication 2 : to display the regions of decision, you may use:_\n"
   ]
  },
  {
   "cell_type": "code",
   "execution_count": 10,
   "metadata": {},
   "outputs": [
    {
     "name": "stdout",
     "output_type": "stream",
     "text": [
      "-0.2379935365204135 1.2075534320282644\n"
     ]
    }
   ],
   "source": [
    "np.random.shuffle(train)\n",
    "x_train = train[:, -2:]\n",
    "x_test = test[:, -2:]\n",
    "y_train = train[:, 0]\n",
    "y_test = test[:, 0]\n",
    "\n",
    "mean1, mean2 = np.mean(x_train, axis=0)\n",
    "print(mean1, mean2)"
   ]
  },
  {
   "cell_type": "markdown",
   "metadata": {},
   "source": [
    "Afin de pouvoir visualiser mes données avec Seaborn nous allons plutot utiliser pandas que numpy."
   ]
  },
  {
   "cell_type": "code",
   "execution_count": 11,
   "metadata": {},
   "outputs": [
    {
     "name": "stdout",
     "output_type": "stream",
     "text": [
      "(100, 2) (100,)\n",
      "(100, 3)\n"
     ]
    }
   ],
   "source": [
    "columns = ['X', 'Y', 'target']\n",
    "print( x_train.shape, y_train.shape)\n",
    "x_train_df = pd.DataFrame(np.concatenate((x_train, y_train[:, newaxis]), axis = 1), columns = columns)\n",
    "\n",
    "print(x_train_df.shape)"
   ]
  },
  {
   "cell_type": "code",
   "execution_count": 12,
   "metadata": {},
   "outputs": [
    {
     "data": {
      "text/plain": [
       "<AxesSubplot:xlabel='X', ylabel='Y'>"
      ]
     },
     "execution_count": 12,
     "metadata": {},
     "output_type": "execute_result"
    },
    {
     "data": {
      "image/png": "[encoded data removed]",
      "text/plain": [
       "<Figure size 432x288 with 1 Axes>"
      ]
     },
     "metadata": {
      "needs_background": "light"
     },
     "output_type": "display_data"
    }
   ],
   "source": [
    "sns.scatterplot(x = 'X', y = 'Y', hue = x_train_df['target'], data = x_train_df)"
   ]
  },
  {
   "cell_type": "code",
   "execution_count": 28,
   "metadata": {},
   "outputs": [
    {
     "name": "stdout",
     "output_type": "stream",
     "text": [
      "X_mean_1 : -1.1835069308058639,\n",
      "x_mean_2 : 0.028689728534456765,\n",
      "y_mean_1 : 1.7865543656660492,\n",
      "y_mean_2 : 1.0442454763868376\n",
      "sigma = [[ 0.56083636 -0.07228938]\n",
      " [-0.07228938  0.36841732]] \n",
      "sigma_rev = [[-18.935892    22.01885352]\n",
      " [ 45.72939158 -48.44757354]] \n",
      ", shape (2, 2), shape_rev(2, 2)\n",
      "[[ 0.56083636 -0.07228938]\n",
      " [-0.07228938  0.36841732]] [[0.54124863 0.24599115]\n",
      " [0.51088153 0.21154879]]\n"
     ]
    }
   ],
   "source": [
    "N = x_train.shape[0]\n",
    "#Pi\n",
    "N1 = np.count_nonzero(y_train == 1)\n",
    "N2 = N-N1 \n",
    "#pi_1, pi_2 = N1 / N , N2 / N \n",
    "\n",
    "# Mean \n",
    "x_mean_1, x_mean_2, y_mean_1, y_mean_2 = x_train_df[x_train_df['target'] == 1].sum()[0] / N1, x_train_df[x_train_df['target'] == 2].sum()[0] / N2 , x_train_df[x_train_df['target'] == 1].sum()[1] / N1, x_train_df[x_train_df['target'] == 2].sum()[1] / N2\n",
    "\n",
    "x_cov_1, x_cov_2, y_cov_1, y_cov_2 = np.cov(x_train_df[x_train_df['target'] == 1].iloc[:,0] - x_mean_1, rowvar=False), np.cov(x_train_df[x_train_df['target'] == 2].iloc[:,0] - x_mean_2, rowvar=False), np.cov(x_train_df[x_train_df['target'] == 1].iloc[:,1] - y_mean_1, rowvar=False), np.cov(x_train_df[x_train_df['target'] == 2].iloc[:,1] - y_mean_2, rowvar=False)\n",
    "# Cov\n",
    "\n",
    "sigma = np.cov(x_train_df.iloc[:, :2], rowvar=False)\n",
    "\n",
    "                          \n",
    "\n",
    "\n",
    "print(f\"X_mean_1 : {x_mean_1},\\nx_mean_2 : {x_mean_2},\\ny_mean_1 : {y_mean_1},\\ny_mean_2 : {y_mean_2}\")\n",
    "\n",
    "mean  = np.array([[x_mean_1, x_mean_2], \n",
    "                    [y_mean_1, y_mean_2]])\n",
    "\n",
    "cov = np.array([[x_cov_1, x_cov_2], \n",
    "                    [y_cov_1, y_cov_2]])\n",
    "\n",
    "sigma_rev = np.linalg.inv(cov)\n",
    "print(f\"sigma = {sigma} \\nsigma_rev = {sigma_rev} \\n, shape {sigma.shape}, shape_rev{sigma_rev.shape}\")\n",
    "print(sigma, cov)\n",
    "\n",
    "\n",
    "\n"
   ]
  },
  {
   "cell_type": "code",
   "execution_count": 29,
   "metadata": {},
   "outputs": [
    {
     "name": "stdout",
     "output_type": "stream",
     "text": [
      "w = [ 39.29881573 -91.3960802 ], w.shape (2,)\n",
      "b = -138.05990228846173, b.shape ()\n"
     ]
    },
    {
     "data": {
      "image/png": "[encoded data removed]",
      "text/plain": [
       "<Figure size 432x288 with 1 Axes>"
      ]
     },
     "metadata": {
      "needs_background": "light"
     },
     "output_type": "display_data"
    }
   ],
   "source": [
    "X_line = np.linspace(-2.5, 1.5, 100)\n",
    "w = sigma_rev@(mean[:, 0]-mean[:, 1])\n",
    "b = np.log(N1/N2)+ 0.5*(mean[:, 0].T @ sigma_rev @ mean[:, 0] - mean[:, 1].T @ sigma_rev @ mean[:, 1])\n",
    "H = -(w[0]/w[1])* X_line - (b / w[1])\n",
    "\n",
    "print(f\"w = {w}, w.shape {w.shape}\")\n",
    "print(f\"b = {b}, b.shape {b.shape}\")\n",
    "sns.scatterplot(x = 'X', y = 'Y', hue = x_train_df['target'], data = x_train_df)\n",
    "sns.lineplot(x= X_line, y= H)\n",
    "plt.show()"
   ]
  },
  {
   "cell_type": "code",
   "execution_count": null,
   "metadata": {},
   "outputs": [],
   "source": []
  },
  {
   "cell_type": "markdown",
   "metadata": {},
   "source": [
    "Les valeurs semblent être cohérente à ce que l'on observe à l'oeil nu sur les nuages de points affichés au-dessus."
   ]
  },
  {
   "cell_type": "code",
   "execution_count": null,
   "metadata": {},
   "outputs": [],
   "source": [
    "Nx1=100 # number of samples for display\n",
    "Nx2=100\n",
    "x1=np.linspace(-2.5,1.5,Nx1)  # sampling of the x1 axis \n",
    "x2=np.linspace(-0.5,3.5,Nx2)  # sampling of the x2 axis\n",
    "[X1,X2]=np.meshgrid(x1,x2)  \n",
    "x=np.hstack((X1.flatten('F'),X2.flatten('F'))) # list of the coordinates of points on the grid\n",
    "#N = size(x,axis=0)\n",
    "\n",
    "# Then compute the sampled prediction class_L for each couple (X1,X2)"
   ]
  },
  {
   "cell_type": "code",
   "execution_count": null,
   "metadata": {},
   "outputs": [],
   "source": [
    "# For graphical representation  use code below for instance :\n",
    "class_L = ...\n",
    "plt.imshow(class_L, extent = (np.min(x1),np.max(x1),np.min(x2),np.max(x2)) )\n",
    "plt.show()"
   ]
  },
  {
   "cell_type": "markdown",
   "metadata": {},
   "source": [
    "## TO DO : LDA & QDA using scikit-learn module\n",
    "\n",
    "The module `scikit-learn` is dedicated to machine learning algorithms. Many of them are available in a simple manner. For LDA and QDA, have a look at the tutorial available at http://scikit-learn.org/stable/modules/lda_qda.html \n",
    "\n",
    "**Warning** : you may have a critical view of the way LDA and QDA are illustrated in the proposed example...\n",
    "\n",
    "\n"
   ]
  }
 ],
 "metadata": {
  "kernelspec": {
   "display_name": "Python 3",
   "language": "python",
   "name": "python3"
  },
  "language_info": {
   "codemirror_mode": {
    "name": "ipython",
    "version": 3
   },
   "file_extension": ".py",
   "mimetype": "text/x-python",
   "name": "python",
   "nbconvert_exporter": "python",
   "pygments_lexer": "ipython3",
   "version": "3.8.8"
  }
 },
 "nbformat": 4,
 "nbformat_minor": 2
}
